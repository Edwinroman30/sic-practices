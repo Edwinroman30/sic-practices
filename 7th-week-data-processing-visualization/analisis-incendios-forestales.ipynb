{
 "cells": [
  {
   "cell_type": "markdown",
   "id": "87fbda67-5588-4abf-9306-73f5a4f35161",
   "metadata": {},
   "source": [
    "<h1 align=\"center\">\n",
    "PROYECTO:    \n",
    "    \n",
    "<h6 align=\"center\"> ANÁLISIS DE LAS CAUSALES DE INCENDIOS FORESTALES EN REPÚBLICA DOMINICANA EN LOS ÚLTIMOS 5 AÑOS. </h6>\n",
    "\n",
    "</h1>"
   ]
  },
  {
   "cell_type": "markdown",
   "id": "0b618fae-d459-4878-82d9-06ef9cb74f87",
   "metadata": {},
   "source": [
    "El proyecto de análisis de las causas de los incendios forestales en la República Dominicana genera varios valores sociales importantes. En primer lugar, desde una perspectiva medioambiental, busca contribuir a la preservación y protección de los recursos naturales del país, especialmente sus bosques y áreas forestales.\n",
    "\n",
    "Reducir la incidencia de incendios forestales podría ayudar a conservar la biodiversidad, proteger los hábitats de la vida silvestre y mitigar el cambio climático al preservar los sumideros de carbono. Además, desde un punto de vista social, el proyecto busca proteger las comunidades cercanas a estas áreas, así como la infraestructura y los recursos económicos que dependen de los ecosistemas forestales.\n"
   ]
  },
  {
   "cell_type": "markdown",
   "id": "740d5769-5608-41f7-a8af-0b4b19a456b5",
   "metadata": {},
   "source": [
    "### Indice:\n",
    "- Fuentes de datos.\n",
    "- Preguntas de análisis.\n",
    "- Desarrollo.\n",
    "- Conclusiones.\n",
    "- Participantes."
   ]
  },
  {
   "cell_type": "markdown",
   "id": "734fb3c1-cd1e-4bb6-b6e1-30229b8618e7",
   "metadata": {},
   "source": [
    "#### Fuentes de datos:\n",
    "\n",
    "- ###### Kaggle: https://www.kaggle.com/datasets/mbritofer/datosabiertosrd\n",
    "\n",
    "- ###### Ministerio de Medios Ambiente: https://ambiente.gob.do/informacion-ambiental/estadisticas-ambientales/#548-720-2023-bosque"
   ]
  },
  {
   "cell_type": "code",
   "execution_count": 14,
   "id": "4eede97f-4cc4-4237-a4c5-02ba2016b777",
   "metadata": {},
   "outputs": [
    {
     "data": {
      "text/plain": [
       "<Axes: xlabel='Años'>"
      ]
     },
     "execution_count": 14,
     "metadata": {},
     "output_type": "execute_result"
    },
    {
     "data": {
      "image/png": "[encoded data removed]",
      "text/plain": [
       "<Figure size 640x480 with 1 Axes>"
      ]
     },
     "metadata": {},
     "output_type": "display_data"
    }
   ],
   "source": [
    "import pandas as pd\n",
    "# You will need to install openpyxl in order to read_excels files.\n",
    "incendios_data = pd.read_excel(\"./data/Incendios-Forestales-2021.xlsx\", parse_dates=[\"Fecha origen\", \"Fecha Extincion\"])\n",
    "incendios_2000_act = pd.read_csv(\"./data/Incendios-Forestales-Ocurridos-2000-2021.csv\")\n",
    "incendios_2000_act.set_index(\"Años\")\n",
    "\n",
    "incendios_2000_act.plot.bar(x=\"Años\", y=\"Cantidad de incendios\")"
   ]
  },
  {
   "cell_type": "markdown",
   "id": "1b5588d5-4bca-4f49-8c42-57f64f218f86",
   "metadata": {},
   "source": [
    "### Overviewing the data:"
   ]
  },
  {
   "cell_type": "code",
   "execution_count": 6,
   "id": "a81aa946-f275-4c31-9d3d-22e93c540afe",
   "metadata": {},
   "outputs": [
    {
     "name": "stdout",
     "output_type": "stream",
     "text": [
      "Index(['no.', 'Municipio', 'Provincia', 'Mes de origen', 'Dia de origen',\n",
      "       'Mes de extincion', 'Dia extincion', 'Causas',\n",
      "       'Area Afectada en Tareas', 'Metros Cuadrados', 'Mes de origen .1',\n",
      "       'Fecha origen', 'Fecha Extincion', 'Fecha Mes'],\n",
      "      dtype='object')\n"
     ]
    }
   ],
   "source": [
    "incendios_data.rename({\"Mes de origen \": \"Mes de origen\"}, axis=1, inplace=True)\n",
    "print(incendios_data.columns)"
   ]
  },
  {
   "cell_type": "code",
   "execution_count": 22,
   "id": "8a9d1b62-6d28-4f17-9444-79720967f026",
   "metadata": {},
   "outputs": [
    {
     "data": {
      "text/html": [
       "<div>\n",
       "<style scoped>\n",
       "    .dataframe tbody tr th:only-of-type {\n",
       "        vertical-align: middle;\n",
       "    }\n",
       "\n",
       "    .dataframe tbody tr th {\n",
       "        vertical-align: top;\n",
       "    }\n",
       "\n",
       "    .dataframe thead th {\n",
       "        text-align: right;\n",
       "    }\n",
       "</style>\n",
       "<table border=\"1\" class=\"dataframe\">\n",
       "  <thead>\n",
       "    <tr style=\"text-align: right;\">\n",
       "      <th></th>\n",
       "      <th>no.</th>\n",
       "      <th>Municipio</th>\n",
       "      <th>Provincia</th>\n",
       "      <th>Mes de origen</th>\n",
       "      <th>Dia de origen</th>\n",
       "      <th>Mes de extincion</th>\n",
       "      <th>Dia extincion</th>\n",
       "      <th>Causas</th>\n",
       "      <th>Area Afectada en Tareas</th>\n",
       "      <th>Metros Cuadrados</th>\n",
       "      <th>Mes de origen .1</th>\n",
       "      <th>Fecha origen</th>\n",
       "      <th>Fecha Extincion</th>\n",
       "      <th>Fecha Mes</th>\n",
       "    </tr>\n",
       "  </thead>\n",
       "  <tbody>\n",
       "    <tr>\n",
       "      <th>0</th>\n",
       "      <td>1</td>\n",
       "      <td>Pedernales</td>\n",
       "      <td>Pedernales</td>\n",
       "      <td>Enero</td>\n",
       "      <td>5</td>\n",
       "      <td>Enero</td>\n",
       "      <td>7</td>\n",
       "      <td>Desconocida</td>\n",
       "      <td>665</td>\n",
       "      <td>418152.0</td>\n",
       "      <td>1</td>\n",
       "      <td>2021-01-05</td>\n",
       "      <td>2021-01-07</td>\n",
       "      <td>Jan-2021</td>\n",
       "    </tr>\n",
       "    <tr>\n",
       "      <th>1</th>\n",
       "      <td>2</td>\n",
       "      <td>Pedro Santana</td>\n",
       "      <td>Elías Piña</td>\n",
       "      <td>Enero</td>\n",
       "      <td>13</td>\n",
       "      <td>Enero</td>\n",
       "      <td>13</td>\n",
       "      <td>Conuquismo</td>\n",
       "      <td>95</td>\n",
       "      <td>59736.0</td>\n",
       "      <td>1</td>\n",
       "      <td>2021-01-13</td>\n",
       "      <td>2021-01-13</td>\n",
       "      <td>Jan-2021</td>\n",
       "    </tr>\n",
       "    <tr>\n",
       "      <th>2</th>\n",
       "      <td>3</td>\n",
       "      <td>Constanza</td>\n",
       "      <td>La Vega</td>\n",
       "      <td>Enero</td>\n",
       "      <td>3</td>\n",
       "      <td>Enero</td>\n",
       "      <td>3</td>\n",
       "      <td>Desconocida</td>\n",
       "      <td>1</td>\n",
       "      <td>628.8</td>\n",
       "      <td>1</td>\n",
       "      <td>2021-01-03</td>\n",
       "      <td>2021-01-03</td>\n",
       "      <td>Jan-2021</td>\n",
       "    </tr>\n",
       "    <tr>\n",
       "      <th>3</th>\n",
       "      <td>4</td>\n",
       "      <td>SAJOMA</td>\n",
       "      <td>Santiago</td>\n",
       "      <td>Enero</td>\n",
       "      <td>16</td>\n",
       "      <td>Enero</td>\n",
       "      <td>16</td>\n",
       "      <td>Desconocida</td>\n",
       "      <td>45</td>\n",
       "      <td>28296.0</td>\n",
       "      <td>1</td>\n",
       "      <td>2021-01-16</td>\n",
       "      <td>2021-01-16</td>\n",
       "      <td>Jan-2021</td>\n",
       "    </tr>\n",
       "    <tr>\n",
       "      <th>4</th>\n",
       "      <td>5</td>\n",
       "      <td>La Vega</td>\n",
       "      <td>La Vega</td>\n",
       "      <td>Enero</td>\n",
       "      <td>15</td>\n",
       "      <td>Enero</td>\n",
       "      <td>15</td>\n",
       "      <td>Intencional</td>\n",
       "      <td>8</td>\n",
       "      <td>5030.4</td>\n",
       "      <td>1</td>\n",
       "      <td>2021-01-15</td>\n",
       "      <td>2021-01-15</td>\n",
       "      <td>Jan-2021</td>\n",
       "    </tr>\n",
       "  </tbody>\n",
       "</table>\n",
       "</div>"
      ],
      "text/plain": [
       "   no.      Municipio   Provincia Mes de origen   Dia de origen  \\\n",
       "0    1     Pedernales  Pedernales          Enero              5   \n",
       "1    2  Pedro Santana  Elías Piña          Enero             13   \n",
       "2    3      Constanza     La Vega          Enero              3   \n",
       "3    4         SAJOMA    Santiago          Enero             16   \n",
       "4    5        La Vega     La Vega          Enero             15   \n",
       "\n",
       "  Mes de extincion  Dia extincion       Causas  Area Afectada en Tareas  \\\n",
       "0            Enero              7  Desconocida                      665   \n",
       "1            Enero             13   Conuquismo                       95   \n",
       "2            Enero              3  Desconocida                        1   \n",
       "3            Enero             16  Desconocida                       45   \n",
       "4            Enero             15  Intencional                        8   \n",
       "\n",
       "   Metros Cuadrados  Mes de origen .1 Fecha origen Fecha Extincion Fecha Mes  \n",
       "0          418152.0                 1   2021-01-05      2021-01-07  Jan-2021  \n",
       "1           59736.0                 1   2021-01-13      2021-01-13  Jan-2021  \n",
       "2             628.8                 1   2021-01-03      2021-01-03  Jan-2021  \n",
       "3           28296.0                 1   2021-01-16      2021-01-16  Jan-2021  \n",
       "4            5030.4                 1   2021-01-15      2021-01-15  Jan-2021  "
      ]
     },
     "execution_count": 22,
     "metadata": {},
     "output_type": "execute_result"
    }
   ],
   "source": [
    "incendios_data.head(5)"
   ]
  },
  {
   "cell_type": "markdown",
   "id": "8f60b46e-140c-492b-a183-b72dc30d3a53",
   "metadata": {},
   "source": [
    "## Preguntas de análisis:\n"
   ]
  },
  {
   "cell_type": "markdown",
   "id": "8c89c792-2397-44b0-8929-d00f9740f517",
   "metadata": {},
   "source": [
    "### ¿Existe alguna relación entre las causas de los incendios y la duración o el tamaño del área afectada?\n",
    "\n",
    "Se pueden realizar análisis de correlación para determinar si ciertas causas están asociadas con incendios más grandes o de mayor duración."
   ]
  },
  {
   "cell_type": "markdown",
   "id": "c4450f8e-681a-43a6-ac22-5a5038873e98",
   "metadata": {},
   "source": [
    "##### Tiempo promedio tomado para erradiar los incendios, según la causa y la provincia.\n"
   ]
  },
  {
   "cell_type": "code",
   "execution_count": 23,
   "id": "bbd47df4-f118-40f0-8f0d-90035ef523dd",
   "metadata": {},
   "outputs": [
    {
     "data": {
      "text/plain": [
       "Causas              Provincia    \n",
       "Colmeneros          Elías Piña               -26 days +00:00:00\n",
       "Conuquismo          Pedernales               -15 days +08:00:00\n",
       "Ganaderia           Mons. Nouel               -4 days +00:00:00\n",
       "Intencional         Elías Piña                -2 days +06:00:00\n",
       "Desconocida         Elías Piña      -2 days +09:52:56.470588236\n",
       "Caminantes          Azua                        0 days 00:00:00\n",
       "Quema de Basura     Dajabon                     0 days 00:00:00\n",
       "Desconocida         La Vega                     0 days 00:00:00\n",
       "                    Mons. Nouel                 0 days 00:00:00\n",
       "Ganaderia           Dajabon                     0 days 00:00:00\n",
       "Desconocida         Azua                        0 days 00:00:00\n",
       "Intencional         La Vega                     0 days 00:00:00\n",
       "                    Santiago                    0 days 00:00:00\n",
       "No Intencional      Dajabon                     0 days 00:00:00\n",
       "                    Elías Piña                  0 days 00:00:00\n",
       "Desconocida         Santiago                    0 days 00:00:00\n",
       "Descarga Electrica  La Vega                     0 days 00:00:00\n",
       "Quema de Basura     Elías Piña                  0 days 00:00:00\n",
       "Caminantes          Elías Piña                  0 days 00:00:00\n",
       "Carboneros          Elías Piña                  0 days 00:00:00\n",
       "Conuquismo          Independencia               0 days 00:00:00\n",
       "                    Azua                        0 days 00:00:00\n",
       "                    Stgo. Rguez.                0 days 00:00:00\n",
       "Colmeneros          Dajabon                     0 days 00:00:00\n",
       "Conuquismo          Elías Piña        0 days 01:21:30.566037735\n",
       "                    La Vega           0 days 03:25:42.857142857\n",
       "                    Dajabon                     0 days 04:48:00\n",
       "Desconocida         Stgo. Rguez.                0 days 04:48:00\n",
       "                    Dajabon                     0 days 06:00:00\n",
       "Conuquismo          San Cristobal               0 days 12:00:00\n",
       "Ganaderia           Santiago                    0 days 12:00:00\n",
       "Conuquismo          San Juan          0 days 17:08:34.285714285\n",
       "Ganaderia           Elías Piña                  0 days 17:20:00\n",
       "Carboneros          Pedernales                  0 days 18:00:00\n",
       "Ganaderia           San Juan                    1 days 00:00:00\n",
       "Desconocida         La Altagracia               1 days 00:00:00\n",
       "Caminantes          San Juan                    1 days 00:00:00\n",
       "Invasores           Elías Piña                  1 days 00:00:00\n",
       "Caminantes          La Vega                     1 days 00:00:00\n",
       "Conuquismo          Ocoa                        1 days 00:00:00\n",
       "Ganaderia           Ocoa                        1 days 00:00:00\n",
       "Descarga Electrica  Elías Piña        1 days 06:51:25.714285714\n",
       "Desconocida         Pedernales                  2 days 00:00:00\n",
       "Huelguistas         Elías Piña                  3 days 00:00:00\n",
       "Name: Duracion Promedio Ext., dtype: timedelta64[ns]"
      ]
     },
     "execution_count": 23,
     "metadata": {},
     "output_type": "execute_result"
    }
   ],
   "source": [
    "# Tiempo promedio tomado para erradiar los incendios, según la causa y la provincia.\n",
    "data = incendios_data.copy()\n",
    "data[\"Duracion Promedio Ext.\"] =  data[\"Fecha Extincion\"] - data[\"Fecha origen\"]\n",
    "data = data.groupby([\"Causas\",\"Provincia\"])[\"Duracion Promedio Ext.\"].mean()\n",
    "data.sort_values()"
   ]
  },
  {
   "cell_type": "markdown",
   "id": "01649ad0-8b46-4c17-89be-15b0b0b1e8da",
   "metadata": {},
   "source": [
    "##### Metros cuadrados totales afectados por tipo de causa.\n"
   ]
  },
  {
   "cell_type": "code",
   "execution_count": 10,
   "id": "0949803e-cc80-4cc0-99f5-e8855b24b3ab",
   "metadata": {},
   "outputs": [
    {
     "data": {
      "text/html": [
       "<div>\n",
       "<style scoped>\n",
       "    .dataframe tbody tr th:only-of-type {\n",
       "        vertical-align: middle;\n",
       "    }\n",
       "\n",
       "    .dataframe tbody tr th {\n",
       "        vertical-align: top;\n",
       "    }\n",
       "\n",
       "    .dataframe thead th {\n",
       "        text-align: right;\n",
       "    }\n",
       "</style>\n",
       "<table border=\"1\" class=\"dataframe\">\n",
       "  <thead>\n",
       "    <tr style=\"text-align: right;\">\n",
       "      <th></th>\n",
       "      <th>Causas</th>\n",
       "      <th>Metros cuadrados total afectados</th>\n",
       "    </tr>\n",
       "  </thead>\n",
       "  <tbody>\n",
       "    <tr>\n",
       "      <th>0</th>\n",
       "      <td>Caminantes</td>\n",
       "      <td>496123.2</td>\n",
       "    </tr>\n",
       "    <tr>\n",
       "      <th>1</th>\n",
       "      <td>Carboneros</td>\n",
       "      <td>468456.0</td>\n",
       "    </tr>\n",
       "    <tr>\n",
       "      <th>2</th>\n",
       "      <td>Colmeneros</td>\n",
       "      <td>562776.0</td>\n",
       "    </tr>\n",
       "    <tr>\n",
       "      <th>3</th>\n",
       "      <td>Conuquismo</td>\n",
       "      <td>21695486.4</td>\n",
       "    </tr>\n",
       "    <tr>\n",
       "      <th>4</th>\n",
       "      <td>Descarga Electrica</td>\n",
       "      <td>17426563.2</td>\n",
       "    </tr>\n",
       "    <tr>\n",
       "      <th>5</th>\n",
       "      <td>Desconocida</td>\n",
       "      <td>2250475.2</td>\n",
       "    </tr>\n",
       "    <tr>\n",
       "      <th>6</th>\n",
       "      <td>Ganaderia</td>\n",
       "      <td>2154268.8</td>\n",
       "    </tr>\n",
       "    <tr>\n",
       "      <th>7</th>\n",
       "      <td>Huelguistas</td>\n",
       "      <td>78600.0</td>\n",
       "    </tr>\n",
       "    <tr>\n",
       "      <th>8</th>\n",
       "      <td>Intencional</td>\n",
       "      <td>2435971.2</td>\n",
       "    </tr>\n",
       "    <tr>\n",
       "      <th>9</th>\n",
       "      <td>Invasores</td>\n",
       "      <td>37728.0</td>\n",
       "    </tr>\n",
       "    <tr>\n",
       "      <th>10</th>\n",
       "      <td>No Intencional</td>\n",
       "      <td>99979.2</td>\n",
       "    </tr>\n",
       "    <tr>\n",
       "      <th>11</th>\n",
       "      <td>Quema de Basura</td>\n",
       "      <td>80486.4</td>\n",
       "    </tr>\n",
       "  </tbody>\n",
       "</table>\n",
       "</div>"
      ],
      "text/plain": [
       "                Causas  Metros cuadrados total afectados\n",
       "0           Caminantes                          496123.2\n",
       "1           Carboneros                          468456.0\n",
       "2           Colmeneros                          562776.0\n",
       "3           Conuquismo                        21695486.4\n",
       "4   Descarga Electrica                        17426563.2\n",
       "5          Desconocida                         2250475.2\n",
       "6            Ganaderia                         2154268.8\n",
       "7          Huelguistas                           78600.0\n",
       "8          Intencional                         2435971.2\n",
       "9            Invasores                           37728.0\n",
       "10      No Intencional                           99979.2\n",
       "11     Quema de Basura                           80486.4"
      ]
     },
     "execution_count": 10,
     "metadata": {},
     "output_type": "execute_result"
    }
   ],
   "source": [
    "# Metros cuadrados total afectados por tipo de causa.\n",
    "incendios_data.groupby([\"Causas\"])['Metros Cuadrados'].sum().reset_index(name='Metros cuadrados total afectados')"
   ]
  },
  {
   "cell_type": "markdown",
   "id": "68044458-3610-49f3-87ee-046dbe45f632",
   "metadata": {},
   "source": [
    "##### Gráficas de provincias que sean visto afectas, cantidad de métros cuadrados afectados.\n"
   ]
  },
  {
   "cell_type": "code",
   "execution_count": 28,
   "id": "3dbb6e4b-9343-4a97-8e0c-912a8d6cda34",
   "metadata": {},
   "outputs": [
    {
     "data": {
      "text/plain": [
       "<Axes: ylabel='Provincia'>"
      ]
     },
     "execution_count": 28,
     "metadata": {},
     "output_type": "execute_result"
    },
    {
     "data": {
      "image/png": "[encoded data removed]",
      "text/plain": [
       "<Figure size 640x480 with 1 Axes>"
      ]
     },
     "metadata": {},
     "output_type": "display_data"
    }
   ],
   "source": [
    "prov_metersquare = incendios_data.groupby(\"Provincia\")['Metros Cuadrados'].sum().sort_values(ascending=False)\n",
    "prov_metersquare.plot.barh(x=\"Provincias\")"
   ]
  },
  {
   "cell_type": "markdown",
   "id": "91fcd4d4-1382-408e-8367-fe7967669a8d",
   "metadata": {},
   "source": [
    "##### ¿Cuál es la tendencia de los incendios forestales a lo largo del tiempo?\n",
    "\n",
    "Al analizar la columna de fecha de origen, se pueden identificar tendencias a lo largo de los años, como si la frecuencia o la magnitud de los incendios ha aumentado o disminuido con el tiempo."
   ]
  },
  {
   "cell_type": "markdown",
   "id": "938bfa13-ef8d-4e5b-819f-2a2931fc6fa3",
   "metadata": {},
   "source": [
    "### ¿Cuál es la tendencia de los incendios forestales a lo largo del tiempo?\n",
    "\n",
    "Al analizar la columna de fecha de origen, se pueden identificar tendencias a lo largo de los años, como si la frecuencia o la magnitud de los incendios ha aumentado o disminuido con el tiempo."
   ]
  },
  {
   "cell_type": "code",
   "execution_count": 11,
   "id": "facb590d-d554-4e8b-8117-5762fb6de7fd",
   "metadata": {},
   "outputs": [
    {
     "data": {
      "text/html": [
       "<div>\n",
       "<style scoped>\n",
       "    .dataframe tbody tr th:only-of-type {\n",
       "        vertical-align: middle;\n",
       "    }\n",
       "\n",
       "    .dataframe tbody tr th {\n",
       "        vertical-align: top;\n",
       "    }\n",
       "\n",
       "    .dataframe thead th {\n",
       "        text-align: right;\n",
       "    }\n",
       "</style>\n",
       "<table border=\"1\" class=\"dataframe\">\n",
       "  <thead>\n",
       "    <tr style=\"text-align: right;\">\n",
       "      <th></th>\n",
       "      <th>Mes de origen</th>\n",
       "      <th>Cant. Incendios</th>\n",
       "    </tr>\n",
       "  </thead>\n",
       "  <tbody>\n",
       "    <tr>\n",
       "      <th>0</th>\n",
       "      <td>Marzo</td>\n",
       "      <td>51</td>\n",
       "    </tr>\n",
       "    <tr>\n",
       "      <th>1</th>\n",
       "      <td>Febrero</td>\n",
       "      <td>37</td>\n",
       "    </tr>\n",
       "    <tr>\n",
       "      <th>2</th>\n",
       "      <td>Abril</td>\n",
       "      <td>36</td>\n",
       "    </tr>\n",
       "    <tr>\n",
       "      <th>3</th>\n",
       "      <td>Agosto</td>\n",
       "      <td>30</td>\n",
       "    </tr>\n",
       "    <tr>\n",
       "      <th>4</th>\n",
       "      <td>Mayo</td>\n",
       "      <td>27</td>\n",
       "    </tr>\n",
       "    <tr>\n",
       "      <th>5</th>\n",
       "      <td>Enero</td>\n",
       "      <td>20</td>\n",
       "    </tr>\n",
       "    <tr>\n",
       "      <th>6</th>\n",
       "      <td>Noviembre</td>\n",
       "      <td>13</td>\n",
       "    </tr>\n",
       "    <tr>\n",
       "      <th>7</th>\n",
       "      <td>Septiembre</td>\n",
       "      <td>11</td>\n",
       "    </tr>\n",
       "    <tr>\n",
       "      <th>8</th>\n",
       "      <td>Julio</td>\n",
       "      <td>10</td>\n",
       "    </tr>\n",
       "    <tr>\n",
       "      <th>9</th>\n",
       "      <td>Diciembre</td>\n",
       "      <td>8</td>\n",
       "    </tr>\n",
       "    <tr>\n",
       "      <th>10</th>\n",
       "      <td>Junio</td>\n",
       "      <td>5</td>\n",
       "    </tr>\n",
       "    <tr>\n",
       "      <th>11</th>\n",
       "      <td>Octubre</td>\n",
       "      <td>2</td>\n",
       "    </tr>\n",
       "  </tbody>\n",
       "</table>\n",
       "</div>"
      ],
      "text/plain": [
       "   Mes de origen  Cant. Incendios\n",
       "0          Marzo               51\n",
       "1        Febrero               37\n",
       "2          Abril               36\n",
       "3         Agosto               30\n",
       "4           Mayo               27\n",
       "5          Enero               20\n",
       "6      Noviembre               13\n",
       "7     Septiembre               11\n",
       "8         Julio                10\n",
       "9      Diciembre                8\n",
       "10         Junio                5\n",
       "11       Octubre                2"
      ]
     },
     "execution_count": 11,
     "metadata": {},
     "output_type": "execute_result"
    }
   ],
   "source": [
    "forest_fire_trend = incendios_data.groupby(\"Mes de origen\")[\"Mes de origen\"].size()\n",
    "forest_fire_trend.sort_values(ascending=False).reset_index(name = \"Cant. Incendios\")"
   ]
  },
  {
   "cell_type": "code",
   "execution_count": 9,
   "id": "1083de95-55ea-436c-8ac0-a28de50a9c6d",
   "metadata": {},
   "outputs": [
    {
     "data": {
      "text/plain": [
       "<Axes: ylabel='Mes de origen'>"
      ]
     },
     "execution_count": 9,
     "metadata": {},
     "output_type": "execute_result"
    },
    {
     "data": {
      "image/png": "[encoded data removed]",
      "text/plain": [
       "<Figure size 640x480 with 1 Axes>"
      ]
     },
     "metadata": {},
     "output_type": "display_data"
    }
   ],
   "source": [
    "fig = forest_fire_trend.plot.barh()"
   ]
  },
  {
   "cell_type": "code",
   "execution_count": null,
   "id": "07c9e383-a43f-4000-a683-e1ca9eb67747",
   "metadata": {},
   "outputs": [],
   "source": []
  }
 ],
 "metadata": {
  "kernelspec": {
   "display_name": "Python 3 (ipykernel)",
   "language": "python",
   "name": "python3"
  },
  "language_info": {
   "codemirror_mode": {
    "name": "ipython",
    "version": 3
   },
   "file_extension": ".py",
   "mimetype": "text/x-python",
   "name": "python",
   "nbconvert_exporter": "python",
   "pygments_lexer": "ipython3",
   "version": "3.9.7"
  }
 },
 "nbformat": 4,
 "nbformat_minor": 5
}
