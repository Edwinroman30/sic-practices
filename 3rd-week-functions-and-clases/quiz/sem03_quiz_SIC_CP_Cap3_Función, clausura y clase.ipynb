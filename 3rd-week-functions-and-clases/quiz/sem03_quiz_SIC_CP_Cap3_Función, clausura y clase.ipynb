{
 "cells": [
  {
   "cell_type": "markdown",
   "id": "5ad8356f",
   "metadata": {},
   "source": [
    "### Coding and Programming\n",
    "`Edwin A. Roman` - Clases Lunes a Miercoles - Rep. Dominicana.\n",
    "\n",
    "## Capítulo 3\n",
    "\n",
    "### Función, clausura y clase\n",
    "\n",
    "- **Unidad 17.** Función\n",
    "- **Unidad 18.** Llamada a la función de recurrencia.\n",
    "- **Unidad 19.** Lambda\n",
    "- **Unidad 20.** Clausura\n",
    "- **Unidad 21.** Clase\n",
    "\n",
    "# Quiz 3"
   ]
  },
  {
   "cell_type": "markdown",
   "id": "a94ec368",
   "metadata": {},
   "source": [
    "___"
   ]
  },
  {
   "cell_type": "markdown",
   "id": "a11871f3",
   "metadata": {},
   "source": [
    "## Q 17-01\n",
    "\n",
    "Reciba las coordenadas `(x1, y1), (x2, y2)` de dos puntos del usuario e imprima la distancia entre los dos puntos de la siguiente manera. Para hacer esto, implemente la función `distancia(x1, y1, x2, y2)`.\n",
    "\n",
    "\n",
    "**Pauta de código:** consulte la fórmula para encontrar la distancia entre dos puntos.\n"
   ]
  },
  {
   "cell_type": "markdown",
   "id": "19848cf5",
   "metadata": {},
   "source": []
  },
  {
   "cell_type": "code",
   "execution_count": null,
   "id": "45cfae2d",
   "metadata": {},
   "outputs": [],
   "source": [
    "import math\n",
    "\n",
    "def main_01(cord01: tuple, cord2: tuple) -> float:\n",
    "    \"\"\"\n",
    "    Reciba las coordenadas `(x1, y1), (x2, y2)` de dos puntos del usuario e imprima la distancia entre los dos puntos de la siguiente manera.\n",
    "    Para hacer esto, implemente la función `distancia(x1, y1, x2, y2)`.\n",
    "    *Pauta de código:* consulte la fórmula para encontrar la distancia entre dos puntos.\n",
    "    \"\"\"\n",
    "    \n",
    "    if len(cord01) > 2 or len(cord2) > 2:\n",
    "        raise ValueError(\"The function expeted a (2) bi-dimentional duple a higher was provided.\")\n",
    "    \n",
    "    return math.sqrt( (cord2[0] - cord01[0])**2  + (cord2[1] - cord01[1])**2 )\n",
    "\n",
    "print(\"Distances result: \", main_01((1,3) , (7,6)) )"
   ]
  },
  {
   "cell_type": "markdown",
   "id": "a207d974",
   "metadata": {},
   "source": [
    "## Q 18-01\n",
    "\n",
    "Un palíndromo es una oración, palabra o cadena que es lo mismo que leer cualquier carácter de forma consecutiva.\n",
    "\n",
    "Por ejemplo, hay palabras como level, kayak, salas, somos, radar, reconocer.\n",
    "\n",
    "Usemos una llamada recursiva para determinar el palíndromo.\n",
    "\n",
    "Defina una función llamada `is_palindrome` y escriba un programa que reciba una cadena del usuario e imprima si el palindrome es correcto o no.\n",
    "\n",
    "**Pauta de código:** Llame a la función `is_palindrome` dentro de la función `is_palindrome`"
   ]
  },
  {
   "cell_type": "code",
   "execution_count": null,
   "id": "b3d5c9c4",
   "metadata": {},
   "outputs": [],
   "source": [
    "def is_palindrome(cadena : str):\n",
    "    \"\"\"\n",
    "    ## Q 18-01\n",
    "    Un palíndromo es una oración, palabra o cadena que es lo mismo que leer cualquier carácter de forma consecutiva.\n",
    "\n",
    "    Por ejemplo, hay palabras como level, kayak, salas, somos, radar, reconocer.\n",
    "\n",
    "    Usemos una llamada recursiva para determinar el palíndromo.\n",
    "\n",
    "    Defina una función llamada `is_palindrome` y escriba un programa que reciba una cadena del usuario e imprima \n",
    "    si el palindrome es correcto o no.\n",
    "\n",
    "    **Pauta de código:** Llame a la función `is_palindrome` dentro de la función `is_palindrome`\n",
    "    \"\"\"\n",
    "    if cadena == '':\n",
    "        return False\n",
    "    \n",
    "    if cadena == cadena[::-1]:\n",
    "        return True\n",
    "    else:\n",
    "        return False\n",
    "    \n",
    "    \n",
    "print( is_palindrome(\"level\") )\n",
    "\n",
    "\n",
    "## With AI help:\n",
    "\n",
    "def is_palindrome_AI(text):\n",
    "    \"\"\"\n",
    "        This function checks if a given string is a palindrome using recursion.\n",
    "\n",
    "        Args:\n",
    "            text: The string to check.\n",
    "\n",
    "        Returns:\n",
    "            True if the string is a palindrome, False otherwise.\n",
    "    \"\"\"\n",
    "\n",
    "    # Base case: If the string is empty or has only one character, it's a palindrome.\n",
    "    if len(text) <= 1:\n",
    "        return True\n",
    "\n",
    "    # Recursive case: Check if the first and last characters are the same,\n",
    "    # and then check the remaining substring recursively.\n",
    "    return text[0] == text[-1] and is_palindrome_AI(text[1:-1])\n",
    "\n",
    "# Example usage\n",
    "text = \"racecar\"\n",
    "if is_palindrome_AI(text):\n",
    "  print(f\"{text} is a palindrome.\")\n",
    "else:\n",
    "  print(f\"{text} is not a palindrome.\")\n"
   ]
  },
  {
   "cell_type": "markdown",
   "id": "fbfb4985",
   "metadata": {},
   "source": [
    "## Q 19-01\n",
    "\n",
    "\n",
    "Después de poner una lista llamada `n_list` con valores de `[10, 20, 30]` en la función `map`.\n",
    "\n",
    "```\n",
    "n_list = [10,20,30]\n",
    "twice  = list(map(lambda x: x*2, n_list))\n",
    "triple = list(map(lambda x: x*3, n_list))\n",
    "```\n",
    "\n",
    "Indique el contenido de las variables `twice` y `triple`."
   ]
  },
  {
   "cell_type": "code",
   "execution_count": null,
   "id": "2611aa32",
   "metadata": {},
   "outputs": [],
   "source": [
    "def main_03():\n",
    "    \"\"\"\n",
    "    ## Q 19-01\n",
    "    Después de poner una lista llamada `n_list` con valores de `[10, 20, 30]` en la función `map`.\n",
    "\n",
    "    ```\n",
    "    n_list = [10,20,30]\n",
    "    twice  = list(map(lambda x: x*2, n_list))\n",
    "    triple = list(map(lambda x: x*3, n_list))\n",
    "    ```\n",
    "\n",
    "    Indique el contenido de las variables `twice` y `triple`.\n",
    "    \"\"\"\n",
    "    print(\"Content of function: \", \"twice must be\", [20,40,60])\n",
    "    print(\"Content of function: \", \"triple must be\", [30,60,90])\n",
    "\n",
    "main_03()"
   ]
  },
  {
   "cell_type": "markdown",
   "id": "98938d2d",
   "metadata": {},
   "source": [
    "## Q 20-01\n",
    "\n",
    "En el siguiente código, espere qué valor se incluye finalmente en `num_list`. Calcule el resultado esperado a mano.\n",
    "\n",
    "**Pauta de codificación:** Escriba 5 veces la declaración `for`. Espere este resultado y envíe el resultado.\n",
    "\n",
    "```\n",
    "def calc_digit(n):\n",
    "    def findal(digit):\n",
    "        return digit**n\n",
    "    return final\n",
    "\n",
    "num_list = []\n",
    "for num in range(1,6):\n",
    "    num_list.append( calc_digit(num) )\n",
    "    print( num_list[num-1](num) )\n",
    "```"
   ]
  },
  {
   "cell_type": "code",
   "execution_count": null,
   "id": "fbbd0206",
   "metadata": {},
   "outputs": [],
   "source": [
    "\"\"\"\n",
    "## Q 20-01\n",
    "En el siguiente código, espere qué valor se incluye finalmente en `num_list`. Calcule el resultado esperado a mano.\n",
    "**Pauta de codificación:** Escriba 5 veces la declaración `for`. Espere este resultado y envíe el resultado.\n",
    "\"\"\"\n",
    "\n",
    "def calc_digit(n): \n",
    "   def findal(digit):\n",
    "      return digit**n\n",
    "   return findal\n",
    "\n",
    "num_list = []\n",
    "\n",
    "for num in range(1,6):\n",
    "    num_list.append( calc_digit(num) )\n",
    "    print( num_list[num-1](num) )\n",
    "\n",
    "\"\"\"\n",
    "Expected values:\n",
    " [1*1, 2*2, 3*3, 4*4, 5*5]\n",
    "\"\"\""
   ]
  },
  {
   "cell_type": "markdown",
   "id": "d3ece88b",
   "metadata": {},
   "source": [
    "## Q 21-01\n",
    "\n",
    "Implemente las funciones de multiplicación (*) y división (/) de dos vectores usando los métodos `mul` y `truediv` aprendidos en la **unidad 21**. Suponiendo que `v1` es `(30, 40)` y `v2` es `(10, 20)`, codifique (escriba la declaración de salida) para devolver el siguiente resultado como resultado de la multiplicación y división de dos vectores.\n",
    "\n",
    "\n",
    "**Pauta de codificación:** escriba código que amplíe la funcionalidad de la clase `Vector2D` que aprendió en este capítulo."
   ]
  },
  {
   "cell_type": "markdown",
   "id": "2717ce09",
   "metadata": {},
   "source": [
    "___"
   ]
  },
  {
   "cell_type": "code",
   "execution_count": null,
   "id": "dae04646",
   "metadata": {},
   "outputs": [],
   "source": [
    "class Vector2D:\n",
    "    \n",
    "    __coords = (0, 0)\n",
    "    \n",
    "    def __init__(self, coordinates: tuple):\n",
    "        if len(coordinates) > 2 or type(coordinates) != tuple:\n",
    "            raise ValueError(\"The class expect a (2) bi-dimentional tuple, and more than two dimention vector was provided.\")\n",
    "        self.__coords = coordinates\n",
    "        \n",
    "    def get_scalar(self):\n",
    "        return math.sqrt( self.__coords[0]**2 + self.__coords[1]**2 )\n",
    "    \n",
    "    def __truediv__(self, vector2d):\n",
    "        \"\"\"\n",
    "        Why can't we divide a vector?\n",
    "        Originally Answered: Why can't we divide the vector? Since a vector quantity had both magnitude as well as direction, though magnitudes can be easily divided to get a fixed value, dividing directions is meaningless.\n",
    "        \"\"\"\n",
    "        return self.get_scalar() / vector2d.get_scalar()\n",
    "    \n",
    "    def __mul__(self, vector2d):\n",
    "       return Vector2D((self.__coords[0]*vector2d.__coords[0], self.__coords[1]*vector2d.__coords[1]))\n",
    "\n",
    "    \n",
    "v1 = Vector2D((30, 40)) \n",
    "v2 = Vector2D((10, 20))\n",
    "\n",
    "print(\"Vector magnitud division: \", v1 / v2)\n",
    "print(\"Vector mulplication, a new vector \", v1 * v2)"
   ]
  },
  {
   "cell_type": "markdown",
   "id": "10514335",
   "metadata": {},
   "source": [
    "# Fin"
   ]
  }
 ],
 "metadata": {
  "kernelspec": {
   "display_name": "Python 3 (ipykernel)",
   "language": "python",
   "name": "python3"
  },
  "language_info": {
   "codemirror_mode": {
    "name": "ipython",
    "version": 3
   },
   "file_extension": ".py",
   "mimetype": "text/x-python",
   "name": "python",
   "nbconvert_exporter": "python",
   "pygments_lexer": "ipython3",
   "version": "3.10.12"
  }
 },
 "nbformat": 4,
 "nbformat_minor": 5
}
