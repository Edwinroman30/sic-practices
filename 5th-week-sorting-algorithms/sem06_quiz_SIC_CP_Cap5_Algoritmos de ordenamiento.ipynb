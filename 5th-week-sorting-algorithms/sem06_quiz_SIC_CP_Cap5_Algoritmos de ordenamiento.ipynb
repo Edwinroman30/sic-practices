{
 "cells": [
  {
   "cell_type": "markdown",
   "id": "5ad8356f",
   "metadata": {},
   "source": [
    "# Coding and Programming\n",
    "\n",
    "## Capítulo 5\n",
    "\n",
    "### Algoritmos de clasificación\n",
    "\n",
    "- **Unidad 27.** Ordenamiento de burbuja, (Bubble Sort) algoritmo de ordenamiento, selección e inserción\n",
    "- **Unidad 28.** Ordenar por selección, ordenamiento por inserción.\n",
    "- **Unidad 29.** Clasificación rápida\n"
   ]
  },
  {
   "cell_type": "markdown",
   "id": "2e42031a",
   "metadata": {},
   "source": [
    "___"
   ]
  },
  {
   "cell_type": "markdown",
   "id": "8c5aa9c8",
   "metadata": {},
   "source": [
    "## Q 27-01\n",
    "\n",
    "¿Cuántas comparaciones se ejecutaron en el siguiente proceso de ordenamiento de burbuja?\n",
    "```python\n",
    "def bubbleSort(S):\n",
    "    n = len(S)\n",
    "    counter = 0\n",
    "    \n",
    "    for i in range(n):\n",
    "        print(S)\n",
    "        for j in range(n-1):\n",
    "            counter += 1\n",
    "            if S[j] > S[j+1]:\n",
    "               S[j] , S[j+1] = S[j+1] , S[j]\n",
    "    \n",
    "    print(\"Comparision: \", counter)\n",
    "```\n",
    "\n",
    "#### Output\n",
    "```\n",
    "[50, 30, 40, 10, 20]\n",
    "[30, 40, 10, 20, 50]\n",
    "[30, 10, 20, 40, 50]\n",
    "[10, 20, 30, 40, 50]\n",
    "[10, 20, 30, 40, 50]\n",
    "[10, 20, 30, 40, 50]\n",
    "```\n",
    "\n",
    "### Mi Respuesta: `20` operaciones de comparaciones, para el arreglo S dado."
   ]
  },
  {
   "cell_type": "markdown",
   "id": "07be4f9d",
   "metadata": {},
   "source": [
    "___"
   ]
  },
  {
   "cell_type": "markdown",
   "id": "a11871f3",
   "metadata": {},
   "source": [
    "## Q 27-02\n",
    "\n",
    "¿Cuántas comparaciones se ejecutaron en el siguiente proceso de ordenamiento de inserción?\n",
    "```python\n",
    "def insertionSort2(S):\n",
    "    n = len(S)\n",
    "    counter = 0\n",
    "\n",
    "    for i in range(1,n):\n",
    "        print(S)\n",
    "        x = S[i]\n",
    "        j = i - 1\n",
    "\n",
    "        while j >= 0 and S[j] > x:\n",
    "            counter += 1\n",
    "            S[j+1] = S[j]\n",
    "            j -= 1\n",
    "        S[j + 1] = x\n",
    "    print(\"Comparision result: \", counter)\n",
    "\n",
    "S = [50, 30, 40, 10, 20]\n",
    "insertionSort2(S)\n",
    "\n",
    "print(S)\n",
    "```\n",
    "#### Output\n",
    "```\n",
    "[50, 30, 40, 10, 20]\n",
    "[30, 40, 10, 20, 50]\n",
    "[30, 10, 20, 40, 50]\n",
    "[10, 20, 30, 40, 50]\n",
    "[10, 20, 30, 40, 50]\n",
    "[10, 20, 30, 40, 50]\n",
    "```\n",
    "\n",
    "> ### Mi Respuesta: `8` operaciones de comparaciones, para el arreglo S dado. Con un time de complejidad de O(n^2)."
   ]
  },
  {
   "cell_type": "markdown",
   "id": "05c7586b",
   "metadata": {},
   "source": [
    "___"
   ]
  },
  {
   "cell_type": "markdown",
   "id": "a207d974",
   "metadata": {},
   "source": [
    "## Q 28-01\n",
    "\n",
    "¿Cuántas veces se ejecuta la función `merge2()` en el siguiente proceso de ordenamiento por fusión?\n",
    "```\n",
    "S = [6,2,11,7,5,4,8,16,10,3]\n",
    "mergeSort2(S, 0, len(S)-1)\n",
    "print(S)\n",
    "```\n",
    "\n",
    "> ### Mi respuesta, para este caso particular: *[6,2,11,7,5,4,8,16,10,3]* con size input como este n*log(n) para dicho algoritmo sería, Una respuesta promedio de 9 a 10 iteraciones o llamadas para dicha función."
   ]
  },
  {
   "cell_type": "markdown",
   "id": "f0d1a419",
   "metadata": {},
   "source": [
    "___"
   ]
  },
  {
   "cell_type": "markdown",
   "id": "26a6bb9e",
   "metadata": {},
   "source": [
    "## Q 29-01\n",
    "\n",
    "Dada la lista a continuación, escriba la salida después de ejecutar la función `partition1()`\n",
    "```\n",
    "S = [15,10,12,20,25,13,22]\n",
    "partition1(S, 0, len(S)-1)\n",
    "print(S)\n",
    "```\n",
    "#### Output\n",
    "```\n",
    "[15,10,12,20,25,13,22] 0 6 pivot = 15\n",
    "```\n",
    "> ### Mi respuesta luego de aplicar particionamiento: *[10,12,13,15,20,25,22]*"
   ]
  },
  {
   "cell_type": "markdown",
   "id": "5c53b843",
   "metadata": {},
   "source": [
    "___"
   ]
  },
  {
   "cell_type": "markdown",
   "id": "896ee09a",
   "metadata": {},
   "source": [
    "### Fin, Edwin Roman."
   ]
  }
 ],
 "metadata": {
  "kernelspec": {
   "display_name": "Python 3 (ipykernel)",
   "language": "python",
   "name": "python3"
  },
  "language_info": {
   "codemirror_mode": {
    "name": "ipython",
    "version": 3
   },
   "file_extension": ".py",
   "mimetype": "text/x-python",
   "name": "python",
   "nbconvert_exporter": "python",
   "pygments_lexer": "ipython3",
   "version": "3.10.12"
  }
 },
 "nbformat": 4,
 "nbformat_minor": 5
}
