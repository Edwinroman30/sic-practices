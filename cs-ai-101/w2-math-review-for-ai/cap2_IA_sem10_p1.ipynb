{
 "cells": [
  {
   "cell_type": "markdown",
   "id": "yBsYsMMzJGxf",
   "metadata": {
    "id": "yBsYsMMzJGxf"
   },
   "source": [
    "# 2 Matemáticas básicas para la ciencia de datos\n"
   ]
  },
  {
   "cell_type": "markdown",
   "id": "IM-_CHlYdUb2",
   "metadata": {
    "id": "IM-_CHlYdUb2"
   },
   "source": [
    "**Matemáticas**: Ciencia que estudia las relaciones entre cantidades, magnitudes y propiedades, y las operaciones lógicas mediante las cuales se pueden deducir cantidades, magnitudes y propiedades desconocidas.\n",
    "\n",
    "**Ramas de las matemática:**\n",
    "\n",
    "* Teoría de conjuntos: Estudio de las propiedades de los conjuntos y las operaciones entre ellos.\n",
    "\n",
    "-Colecciones abstractas de objetos.\n",
    "\n",
    "-Cada conjunto es un objeto, por lo tanto puede formar parte de otro conjunto más amplio.\n",
    "* Aritmética: Estudio de los números y de las operaciones elementales entre ellos.\n",
    "* Álgebra: Estudio de las estructuras que permiten generalizar las solución de problemas, a través del uso de incógnitas (variables) representadas por letras.\n",
    "\n",
    "-Originalmente generalización y extensión de la aritmética.\n",
    "\n",
    "-Las ecuaciones suelen representar una relación clara e invariable entre ciertas cantidades expresadas en letras con símbolos algebraicos.\n",
    "* Análisis matemático: Estudio de los números reales, complejos y construcciones derivadas a partir de ellos. Algunas de sus áreas son las funciones, límites, el cálculo de derivadas, las integrales y las series infinitas.\n",
    "\n",
    "-A diferencia del álgebra, este se centra en cantidades finitas.\n",
    "* Geometría: Estudio de las propiedades de las figuras en el plano o el espacio.\n",
    "* Lógica matemática: Estudio matemático de la lógica. Incluye las partes de la lógica que pueden ser modeladas y estudiadas matemáticamente.\n",
    "* Probabilidad: Estudia, mide y propone modelos para los fenómenos aleatorios.\n",
    "\n",
    "-Sirve para predecir con mayor certeza y estudiar las\n",
    "* Estadística: Permite analizar los datos provenientes de una muestra representativa.\n",
    "\n",
    "- El análisis de esos datos permite explicar las correlaciones y dependencias de un fenómeno que ocurre de forma aleatoria o condicional.\n",
    "* Matemáticas aplicadas: Métodos y herramientas matemáticos que pueden ser usados en el análisis o resolución de problemas. (probs de fisica, quimica, ingenieria, …)\n"
   ]
  },
  {
   "cell_type": "markdown",
   "id": "uDfG3PDvk7w9",
   "metadata": {
    "id": "uDfG3PDvk7w9"
   },
   "source": [
    "## 2.1 Álgebra"
   ]
  },
  {
   "cell_type": "markdown",
   "id": "J9uVdxk5laMt",
   "metadata": {
    "id": "J9uVdxk5laMt"
   },
   "source": [
    "#### **Ecuación**\n",
    "7 = 7\n",
    "x = 9\n",
    "y + 9 = 14\n",
    "5xy = 8xy^2 + 4\n",
    "\n",
    "#### **Ecuación Polinomial**\n",
    "\n",
    "(x-2)^3 = x^3 - 6x^2 + 12x -8\n",
    "\n",
    "##### Coéficiente y grado de la ecuación:\n",
    "\n",
    "![image.png](data:image/png;base64,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)"
   ]
  },
  {
   "cell_type": "markdown",
   "id": "f0aa621d",
   "metadata": {
    "id": "f0aa621d"
   },
   "source": [
    "## 2.2 Secuencia\n",
    "Pág. 31."
   ]
  },
  {
   "cell_type": "code",
   "execution_count": null,
   "id": "8f3eff08",
   "metadata": {
    "id": "8f3eff08"
   },
   "outputs": [],
   "source": [
    "# Una sucesión es un grupo ordenado de números que siguen un patrón matemático. Una serie es la suma de algunos términos de la sucesión.\n",
    "# Encuentre la Sn para la secuencia aritmética {an}, y luego resuelva S10.\n",
    "\n",
    "N = 10\n",
    "a = 5\n",
    "d = 3\n",
    "\n",
    "sum1 = 0\n",
    "for n in range(1, N+1):\n",
    "    sum1 = sum1 + (a+(n-1)*d)\n",
    "print(\"S10 = \", sum1)"
   ]
  },
  {
   "cell_type": "markdown",
   "id": "EhtCBQIChYfl",
   "metadata": {
    "id": "EhtCBQIChYfl"
   },
   "source": [
    "Pág. 36\n",
    "\n",
    "![image.png](data:image/png;base64,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)\n"
   ]
  },
  {
   "cell_type": "code",
   "execution_count": 6,
   "id": "LypVUhzRjFaW",
   "metadata": {
    "colab": {
     "base_uri": "https://localhost:8080/"
    },
    "id": "LypVUhzRjFaW",
    "outputId": "77183d7d-8ce4-4f87-d5a9-32ded1a5fd29"
   },
   "outputs": [
    {
     "name": "stdout",
     "output_type": "stream",
     "text": [
      "S10 =  330\n"
     ]
    }
   ],
   "source": [
    "N = 10\n",
    "\n",
    "sum1 = 0\n",
    "for k in range(1, N+1):\n",
    "    sum1 = sum1 + (k**2-k)\n",
    "print(\"S10 = \", sum1)"
   ]
  },
  {
   "cell_type": "markdown",
   "id": "ypCQchUommKH",
   "metadata": {
    "id": "ypCQchUommKH"
   },
   "source": [
    "## 2.3 Valor absoluto y distancia euclidiana"
   ]
  },
  {
   "cell_type": "code",
   "execution_count": 5,
   "id": "Fak2bdRkmtLE",
   "metadata": {
    "colab": {
     "base_uri": "https://localhost:8080/"
    },
    "id": "Fak2bdRkmtLE",
    "outputId": "3ac654af-75e6-454f-99bd-a9a6dbe006fa"
   },
   "outputs": [
    {
     "name": "stdout",
     "output_type": "stream",
     "text": [
      "5.196152422706632\n"
     ]
    }
   ],
   "source": [
    "# Valor absoluto\n",
    "\n",
    "abs(-5)\n",
    "\n",
    "# Distancia euclidiana -> https://www.delftstack.com/es/howto/numpy/calculate-euclidean-distance/\n",
    "# Método 1 - Numpy / norm() -> norma vectorial de un array\n",
    "\n",
    "import numpy as np\n",
    "\n",
    "a = np.array((1, 2, 3))\n",
    "b = np.array((4, 5, 6))\n",
    "\n",
    "dist = np.linalg.norm(a - b)\n",
    "\n",
    "print(dist)"
   ]
  },
  {
   "cell_type": "code",
   "execution_count": null,
   "id": "Z8qbH0dUnvPf",
   "metadata": {
    "id": "Z8qbH0dUnvPf"
   },
   "outputs": [],
   "source": [
    "# Distancia euclidiana\n",
    "# Método 2 - Numpy / numpy.sum() y numpy.square() -> Suma y cuadrado de los elementos\n",
    "\n",
    "import numpy as np\n",
    "\n",
    "a = np.array((1, 2, 3))\n",
    "b = np.array((4, 5, 6))\n",
    "\n",
    "dist = np.sqrt(np.sum(np.square(a - b)))\n",
    "\n",
    "print(dist)"
   ]
  },
  {
   "cell_type": "code",
   "execution_count": null,
   "id": "saBfPkz0oUx9",
   "metadata": {
    "id": "saBfPkz0oUx9"
   },
   "outputs": [],
   "source": [
    "# Distancia euclidiana\n",
    "# Método 3 - Numpy / .dot() -> producto escalar de la diferencia de puntos y su transposición, devuelve la suma de cuadrados\n",
    "\n",
    "import numpy as np\n",
    "\n",
    "a = np.array((1, 2, 3))\n",
    "b = np.array((4, 5, 6))\n",
    "\n",
    "temp = a - b\n",
    "dist = np.sqrt(np.dot(temp.T, temp))\n",
    "\n",
    "print(dist)"
   ]
  },
  {
   "cell_type": "code",
   "execution_count": null,
   "id": "w11x-8erou_M",
   "metadata": {
    "id": "w11x-8erou_M"
   },
   "outputs": [],
   "source": [
    "# Distancia euclidiana\n",
    "# Método 4 - Numpy / biblioteca scipy\n",
    "\n",
    "from scipy.spatial import distance\n",
    "\n",
    "a = (1, 2, 3)\n",
    "b = (4, 5, 6)\n",
    "\n",
    "print(distance.euclidean(a, b))"
   ]
  },
  {
   "cell_type": "code",
   "execution_count": null,
   "id": "0onC2QA6pE_S",
   "metadata": {
    "id": "0onC2QA6pE_S"
   },
   "outputs": [],
   "source": [
    "# Distancia euclidiana\n",
    "# Método 5 - Numpy / biblioteca math\n",
    "\n",
    "from math import dist\n",
    "\n",
    "a = (1, 2, 3)\n",
    "b = (4, 5, 6)\n",
    "\n",
    "print(dist(a, b))"
   ]
  },
  {
   "cell_type": "markdown",
   "id": "9qiHfIdGpm5H",
   "metadata": {
    "id": "9qiHfIdGpm5H"
   },
   "source": [
    "## 2.4 Conjuntos"
   ]
  },
  {
   "cell_type": "code",
   "execution_count": null,
   "id": "QvRb4e6Rpryh",
   "metadata": {
    "id": "QvRb4e6Rpryh"
   },
   "outputs": [],
   "source": [
    "# Creación de conjuntos -> https://recursospython.com/guias-y-manuales/conjuntos-sets/\n",
    "\n",
    "s1 = {}\n",
    "print(type(s1))\n",
    "\n",
    "s2 = set()\n",
    "print(type(s2))\n",
    "\n",
    "s1 = {1, 2, 3, 4}\n",
    "\n",
    "s2 = {True, 3.14, None, False, \"Hola mundo\", (1, 2)}\n",
    "\n",
    "s1, s2"
   ]
  },
  {
   "cell_type": "code",
   "execution_count": null,
   "id": "aOHGNw2TtfP5",
   "metadata": {
    "id": "aOHGNw2TtfP5"
   },
   "outputs": [],
   "source": [
    "s = {[1, 2]} # TypeError elementos muteables"
   ]
  },
  {
   "cell_type": "code",
   "execution_count": null,
   "id": "TQ_AzhoIuHZ4",
   "metadata": {
    "id": "TQ_AzhoIuHZ4"
   },
   "outputs": [],
   "source": [
    "s1 = set([1, 2, 3, 4])\n",
    "s2 = set(range(10))\n",
    "\n",
    "s1, s2"
   ]
  },
  {
   "cell_type": "code",
   "execution_count": null,
   "id": "yuCAvo8buPXY",
   "metadata": {
    "id": "yuCAvo8buPXY"
   },
   "outputs": [],
   "source": [
    "list({1, 2, 3, 4})"
   ]
  },
  {
   "cell_type": "code",
   "execution_count": null,
   "id": "O4Y5oGqXuSqA",
   "metadata": {
    "id": "O4Y5oGqXuSqA"
   },
   "outputs": [],
   "source": [
    "set([1, 2, 2, 3, 4])"
   ]
  },
  {
   "cell_type": "code",
   "execution_count": null,
   "id": "c4VBaPb9uwRr",
   "metadata": {
    "id": "c4VBaPb9uwRr"
   },
   "outputs": [],
   "source": [
    "# Elementos\n",
    "\n",
    "s = {1, 2, 3, 4}\n",
    "s.add(5)\n",
    "s.discard(2)\n",
    "print(s)\n",
    "\n",
    "s.clear()\n",
    "s"
   ]
  },
  {
   "cell_type": "code",
   "execution_count": null,
   "id": "prXDu47mvMoo",
   "metadata": {
    "id": "prXDu47mvMoo"
   },
   "outputs": [],
   "source": [
    "2 in {1, 2, 3}"
   ]
  },
  {
   "cell_type": "code",
   "execution_count": null,
   "id": "usYakDcnyYpq",
   "metadata": {
    "id": "usYakDcnyYpq"
   },
   "outputs": [],
   "source": [
    "{1, 2, 3} == {3, 2, 1}"
   ]
  },
  {
   "cell_type": "code",
   "execution_count": null,
   "id": "Xl0AiKI5v7-d",
   "metadata": {
    "id": "Xl0AiKI5v7-d"
   },
   "outputs": [],
   "source": [
    "s = {1, 2, 3, 4}\n",
    "len (s)"
   ]
  },
  {
   "cell_type": "code",
   "execution_count": null,
   "id": "60X6tchyvf7w",
   "metadata": {
    "id": "60X6tchyvf7w"
   },
   "outputs": [],
   "source": [
    "# retorna un elemento en forma aleatoria, ya que los elementos no están ordenados\n",
    "\n",
    "s = {1, 2, 3, 4}\n",
    "\n",
    "while s:\n",
    "    print(s.pop())"
   ]
  },
  {
   "cell_type": "markdown",
   "id": "CDNTSooSxAut",
   "metadata": {
    "id": "CDNTSooSxAut"
   },
   "source": [
    "![image.png](data:image/png;base64,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)"
   ]
  },
  {
   "cell_type": "code",
   "execution_count": null,
   "id": "k97p3O6Bw4AV",
   "metadata": {
    "colab": {
     "base_uri": "https://localhost:8080/"
    },
    "id": "k97p3O6Bw4AV",
    "outputId": "8671a2a1-c2eb-4cc4-98e9-342766a3a5d0"
   },
   "outputs": [
    {
     "data": {
      "text/plain": [
       "{1, 2, 3, 4, 5, 6}"
      ]
     },
     "execution_count": 2,
     "metadata": {},
     "output_type": "execute_result"
    }
   ],
   "source": [
    "# Operaciones principales\n",
    "\n",
    "# Unión\n",
    "a = {1, 2, 3, 4}\n",
    "b = {3, 4, 5, 6}\n",
    "a | b"
   ]
  },
  {
   "cell_type": "code",
   "execution_count": null,
   "id": "kjub9CiCx-Zj",
   "metadata": {
    "colab": {
     "base_uri": "https://localhost:8080/"
    },
    "id": "kjub9CiCx-Zj",
    "outputId": "4479e6fa-4a35-47b8-fd20-1e8e796ec65b"
   },
   "outputs": [
    {
     "data": {
      "text/plain": [
       "{3, 4}"
      ]
     },
     "execution_count": 3,
     "metadata": {},
     "output_type": "execute_result"
    }
   ],
   "source": [
    "# Intersección\n",
    "a & b"
   ]
  },
  {
   "cell_type": "code",
   "execution_count": null,
   "id": "8KgAw7zwyFaE",
   "metadata": {
    "id": "8KgAw7zwyFaE"
   },
   "outputs": [],
   "source": [
    "# Diferencia\n",
    "a = {1, 2, 3, 4}\n",
    "b = {2, 3}\n",
    "a - b"
   ]
  },
  {
   "cell_type": "code",
   "execution_count": null,
   "id": "Mq9sqH2Qygnz",
   "metadata": {
    "id": "Mq9sqH2Qygnz"
   },
   "outputs": [],
   "source": [
    "# B es un subconjunto de A\n",
    "a = {1, 2, 3, 4}\n",
    "b = {2, 3}\n",
    "b.issubset(a)"
   ]
  },
  {
   "cell_type": "code",
   "execution_count": null,
   "id": "rmR0GCaczB9s",
   "metadata": {
    "id": "rmR0GCaczB9s"
   },
   "outputs": [],
   "source": [
    "# A es un superconjunto de B.\n",
    "a.issuperset(b)"
   ]
  },
  {
   "cell_type": "code",
   "execution_count": null,
   "id": "I_ozCzoUzIbi",
   "metadata": {
    "id": "I_ozCzoUzIbi"
   },
   "outputs": [],
   "source": [
    "# Unión exclusiva, elementos no repetidos\n",
    "a = {1, 2, 3, 4}\n",
    "b = {3, 4, 5, 6}\n",
    "a.symmetric_difference(b)"
   ]
  },
  {
   "cell_type": "code",
   "execution_count": null,
   "id": "WD4_dkNOzf60",
   "metadata": {
    "id": "WD4_dkNOzf60"
   },
   "outputs": [],
   "source": [
    "# Conjunto disconexo (intersección = conjunto vacío), si no comparten elementos entre sí.\n",
    "a = {1, 2, 3}\n",
    "b = {3, 4, 5}\n",
    "c = {5, 6, 7}\n",
    "a.isdisjoint(b)"
   ]
  },
  {
   "cell_type": "code",
   "execution_count": null,
   "id": "3txqn5uJ5Mrk",
   "metadata": {
    "id": "3txqn5uJ5Mrk"
   },
   "outputs": [],
   "source": [
    "# Conjuntos inmutables, \"frozenset\" es una implementación similar a set pero inmutable... No add(), discard(), etc.\n",
    "\n",
    "a = frozenset({1, 2, 3})\n",
    "b = frozenset({3, 4, 5})\n",
    "print(a & b)\n",
    "\n",
    "frozenset({3})\n",
    "print(a | b)\n",
    "\n",
    "frozenset({1, 2, 3, 4, 5})\n",
    "a.isdisjoint(b)"
   ]
  },
  {
   "cell_type": "markdown",
   "id": "eVNVoh-oj6pO",
   "metadata": {
    "id": "eVNVoh-oj6pO"
   },
   "source": [
    "## 2.5 Concepto de funciones"
   ]
  },
  {
   "cell_type": "code",
   "execution_count": 7,
   "id": "_5ZANkZejiJ8",
   "metadata": {
    "colab": {
     "base_uri": "https://localhost:8080/",
     "height": 430
    },
    "id": "_5ZANkZejiJ8",
    "outputId": "858e56f0-27b1-455b-ca38-451f954543c7"
   },
   "outputs": [
    {
     "data": {
      "image/png": "[encoded data removed]",
      "text/plain": [
       "<Figure size 640x480 with 1 Axes>"
      ]
     },
     "metadata": {},
     "output_type": "display_data"
    }
   ],
   "source": [
    "### dia 51\n",
    "import numpy as np\n",
    "import matplotlib.pyplot as plt\n",
    "\n",
    "#f(x)=3x+1\n",
    "x= np.linspace(-5,5,1001)\n",
    "fx = 3*x+1\n",
    "\n",
    "plt.plot(x, fx)\n",
    "plt.show()"
   ]
  },
  {
   "cell_type": "code",
   "execution_count": null,
   "id": "82Vt1n7vjkl5",
   "metadata": {
    "id": "82Vt1n7vjkl5"
   },
   "outputs": [],
   "source": [
    "### dia 56\n",
    "#f(x)=x^3+1\n",
    "def f(x):\n",
    "    return x**3 + 1\n",
    "\n",
    "# g(x)=sqrt(x+2)\n",
    "def g(x):\n",
    "    return np.sqrt(x+2)\n",
    "\n",
    "# (go f)(2), (f o g)(2), (g o g) (2)\n",
    "print(\"(g o f)(2) =\", g(f(2)))\n",
    "print(\"(f o g)(2) =\", f(g(2)))\n",
    "print(\"(g o g)(2) =\", g(g(2)))"
   ]
  },
  {
   "cell_type": "markdown",
   "id": "IhmT28X9kJgv",
   "metadata": {
    "id": "IhmT28X9kJgv"
   },
   "source": [
    "## 2.6 Función exponencial y logarítmica"
   ]
  },
  {
   "cell_type": "code",
   "execution_count": null,
   "id": "YQemlUoc7VI2",
   "metadata": {
    "colab": {
     "base_uri": "https://localhost:8080/",
     "height": 499
    },
    "id": "YQemlUoc7VI2",
    "outputId": "4a88e094-e593-4c87-8690-dcfc42441847"
   },
   "outputs": [
    {
     "name": "stderr",
     "output_type": "stream",
     "text": [
      "<ipython-input-6-184c1195b820>:13: UserWarning: Legend does not support handles for list instances.\n",
      "A proxy artist may be used instead.\n",
      "See: https://matplotlib.org/stable/tutorials/intermediate/legend_guide.html#controlling-the-legend-entries\n",
      "  plt.legend(handles=(g1, g2), labels=(r'$y=3^x$',r'$y=3^(x-1) + 2$'))\n"
     ]
    },
    {
     "data": {
      "image/png": "[encoded data removed]",
      "text/plain": [
       "<Figure size 640x480 with 1 Axes>"
      ]
     },
     "metadata": {},
     "output_type": "display_data"
    }
   ],
   "source": [
    "# Funciones exponenciales\n",
    "# Dibuje la gráfica de la función y1 = 3^x + 2; y2 = 3^(x-1) + 2\n",
    "import numpy as np\n",
    "import matplotlib.pyplot as plt\n",
    "\n",
    "x = np.linspace (-1,2,301)\n",
    "y1 = 3**x\n",
    "y2 = 3**(x-1)+2\n",
    "\n",
    "# Gráfico\n",
    "g1 = plt.plot(x, y1)\n",
    "g2 = plt.plot(x, y2)\n",
    "plt.legend(handles=(g1, g2), labels=(r'$y=3^{x}$',r'$y=3^{x-1} + 2$'))\n",
    "plt.show()"
   ]
  },
  {
   "cell_type": "code",
   "execution_count": null,
   "id": "aHBLVMgh-C6i",
   "metadata": {
    "id": "aHBLVMgh-C6i"
   },
   "outputs": [],
   "source": [
    "# Funciones exponenciales\n",
    "# Dibuje la gráfica de la función y1 = 2^(-x); y2 = -2^(-x-2)\n",
    "import numpy as np\n",
    "import matplotlib.pyplot as plt\n",
    "\n",
    "x = np.linspace (-1,2,301)\n",
    "y1 = 2**(-x)\n",
    "y2 = -2**(-x-2)\n",
    "\n",
    "# Gráfico\n",
    "g1 = plt.plot(x, y1)\n",
    "g2 = plt.plot(x, y2)\n",
    "plt.legend(handles=(g1, g2), labels=(r'$y=2^{-x}$',r'$y=-2^{-x-2}$'))\n",
    "plt.show()"
   ]
  },
  {
   "cell_type": "code",
   "execution_count": null,
   "id": "Opo55e7mhgbH",
   "metadata": {
    "colab": {
     "base_uri": "https://localhost:8080/",
     "height": 430
    },
    "id": "Opo55e7mhgbH",
    "outputId": "c7c97cb9-8acc-4713-bad5-615c1e1d5529"
   },
   "outputs": [
    {
     "data": {
      "image/png": "[encoded data removed]",
      "text/plain": [
       "<Figure size 640x480 with 1 Axes>"
      ]
     },
     "metadata": {},
     "output_type": "display_data"
    }
   ],
   "source": [
    "# Funciones logarítmica\n",
    "# Dibuje la gráfica de la función y1 = log_2(x); y2 = log_2(x+1) − 1\n",
    "\n",
    "import numpy as np\n",
    "import matplotlib.pyplot as plt\n",
    "\n",
    "x1 = np.linspace (0.1,4,401)\n",
    "#y1=log_2(x)\n",
    "y1 = np.log2(x1)\n",
    "x2 = np.linspace(-0.9,4,501)\n",
    "#y2=log_2(x+1)-1\n",
    "y2 = np.log2(x2+1)-1\n",
    "# For visualization\n",
    "graph1, = plt.plot(x1,y1)\n",
    "graph2, = plt.plot(x2,y2)\n",
    "labels = ('$y1=log_2(x)$','$y2=log_2(x+1)−1$')\n",
    "plt.legend(handles=(graph1, graph2), labels=labels)\n",
    "plt.show()"
   ]
  },
  {
   "cell_type": "markdown",
   "id": "lErVp5JRAIQm",
   "metadata": {
    "id": "lErVp5JRAIQm"
   },
   "source": [
    "## 2.7 Logaritmo natural"
   ]
  },
  {
   "cell_type": "code",
   "execution_count": null,
   "id": "mYuKTv-WAHps",
   "metadata": {
    "colab": {
     "base_uri": "https://localhost:8080/"
    },
    "id": "mYuKTv-WAHps",
    "outputId": "83c8d4cb-900c-41cc-c7ce-96ab5c856295"
   },
   "outputs": [
    {
     "data": {
      "text/plain": [
       "2.0794415416798357"
      ]
     },
     "execution_count": 8,
     "metadata": {},
     "output_type": "execute_result"
    }
   ],
   "source": [
    "import math\n",
    "\n",
    "math.log(8)"
   ]
  },
  {
   "cell_type": "code",
   "execution_count": null,
   "id": "oUvc6UODjquC",
   "metadata": {
    "colab": {
     "base_uri": "https://localhost:8080/"
    },
    "id": "oUvc6UODjquC",
    "outputId": "ff32a269-a2ce-4b2e-d102-dcabf47017a4"
   },
   "outputs": [
    {
     "data": {
      "text/plain": [
       "3.0"
      ]
     },
     "execution_count": 9,
     "metadata": {},
     "output_type": "execute_result"
    }
   ],
   "source": [
    "# logaritmo de 8 en base 2\n",
    "math.log(8, 2)"
   ]
  },
  {
   "cell_type": "markdown",
   "id": "vxN9iH9oCAAf",
   "metadata": {
    "id": "vxN9iH9oCAAf"
   },
   "source": [
    "## 2.8 Funciones sigmoideas\n"
   ]
  },
  {
   "cell_type": "code",
   "execution_count": null,
   "id": "UTqP_raVBr01",
   "metadata": {
    "id": "UTqP_raVBr01"
   },
   "outputs": [],
   "source": [
    "# Libreria math\n",
    "\n",
    "import math\n",
    "\n",
    "\n",
    "def stable_sigmoid(x):\n",
    "\n",
    "    if x >= 0:\n",
    "        z = math.exp(-x)\n",
    "        sig = 1 / (1 + z)\n",
    "        return sig\n",
    "    else:\n",
    "        z = math.exp(x)\n",
    "        sig = z / (1 + z)\n",
    "        return sig"
   ]
  },
  {
   "cell_type": "code",
   "execution_count": null,
   "id": "qMTJzK0rCluC",
   "metadata": {
    "id": "qMTJzK0rCluC"
   },
   "outputs": [],
   "source": [
    "# Libreria numpy\n",
    "\n",
    "import numpy as np\n",
    "\n",
    "\n",
    "def sigmoid(x):\n",
    "\n",
    "    z = np.exp(-x)\n",
    "    sig = 1 / (1 + z)\n",
    "\n",
    "    return sig"
   ]
  },
  {
   "cell_type": "code",
   "execution_count": null,
   "id": "cSSulw7HC6Vc",
   "metadata": {
    "id": "cSSulw7HC6Vc"
   },
   "outputs": [],
   "source": [
    "# La ventaja del método numpy.exp() sobre math.exp() es que, además de integer o float,\n",
    "# también puede manejar la entrada en forma de array.\n",
    "\n",
    "import numpy as np\n",
    "\n",
    "\n",
    "def stable_sigmoid(x):\n",
    "\n",
    "    sig = np.where(x < 0, np.exp(x) / (1 + np.exp(x)), 1 / (1 + np.exp(-x)))\n",
    "    return sig"
   ]
  },
  {
   "cell_type": "code",
   "execution_count": null,
   "id": "-dA7W24IDJ8H",
   "metadata": {
    "id": "-dA7W24IDJ8H"
   },
   "outputs": [],
   "source": [
    "# Libreria scipy\n",
    "\n",
    "from scipy.special import expit\n",
    "\n",
    "x = 0.25\n",
    "sig = expit(x)"
   ]
  },
  {
   "cell_type": "code",
   "execution_count": null,
   "id": "_-B-G-a2DgGQ",
   "metadata": {
    "id": "_-B-G-a2DgGQ"
   },
   "outputs": [],
   "source": [
    "# El método expit() es más lento que las implementaciones anteriores.\n",
    "# La ventaja del método expit() es que puede manejar automáticamente varios tipos de entradas como lista, matriz, etc.\n",
    "\n",
    "from scipy.special import expit\n",
    "\n",
    "sig = expit(np.array([0.25, 0.5, 0.6, 0.7, 0.4]))\n",
    "print(sig)"
   ]
  },
  {
   "cell_type": "markdown",
   "id": "pHP35C2uDuOU",
   "metadata": {
    "id": "pHP35C2uDuOU"
   },
   "source": [
    "## 2.9 Funciones trigonométricas"
   ]
  },
  {
   "cell_type": "code",
   "execution_count": null,
   "id": "7yw03rabE801",
   "metadata": {
    "id": "7yw03rabE801"
   },
   "outputs": [],
   "source": [
    "# Funciones incorporadas de python\n",
    "\n",
    "print(sin(0))\n",
    "print(cos(0))"
   ]
  },
  {
   "cell_type": "code",
   "execution_count": null,
   "id": "-FOThzGwDy2X",
   "metadata": {
    "id": "-FOThzGwDy2X"
   },
   "outputs": [],
   "source": [
    "# Libreria math\n",
    "\n",
    "import math\n",
    "\n",
    "print(\"pi\", math.pi)\n",
    "print(\"\\npi/2\", math.pi/2)\n",
    "print(\"\\nsin\", math.sin(math.pi/3))\n",
    "print(\"\\ncos\", math.cos(math.pi/3))\n",
    "print(\"\\narcotangente\", math.atan(1))\n",
    "print(\"\\ngrados\", math.degrees(0.7853981633974483)) # Radianes a grados\n",
    "print(\"\\nradianes\", math.radians(90))\n",
    "print(\"\\nhipotenusa\", math.hypot(3, 4))"
   ]
  },
  {
   "cell_type": "code",
   "execution_count": null,
   "id": "WScAwIqAHc5S",
   "metadata": {
    "id": "WScAwIqAHc5S"
   },
   "outputs": [],
   "source": [
    "# Libreria numpy\n",
    "\n",
    "import numpy as np\n",
    "\n",
    "a=np.array([3.1415, 2.0943, 1.5707, 1.0471, 0.])\n",
    "print(\"\\nsin\", np.sin(a))\n",
    "print(\"\\ncos\", np.cos(a))\n",
    "print(\"\\ntangente\", np.tan(a))\n",
    "print(\"\\narcoseno\", np.arcsin(a))\n",
    "print(\"\\narcocoseno\", np.arccos(a))\n",
    "print(\"\\narcotangente\", np.arctan(a))\n",
    "print(\"\\ngrados\", np.deg2rad(a)) # Radianes a grados\n",
    "print(\"\\nradianes\", np.rad2deg(90))"
   ]
  }
 ],
 "metadata": {
  "celltoolbar": "Slideshow",
  "colab": {
   "provenance": []
  },
  "kernelspec": {
   "display_name": "Python 3 (ipykernel)",
   "language": "python",
   "name": "python3"
  },
  "language_info": {
   "codemirror_mode": {
    "name": "ipython",
    "version": 3
   },
   "file_extension": ".py",
   "mimetype": "text/x-python",
   "name": "python",
   "nbconvert_exporter": "python",
   "pygments_lexer": "ipython3",
   "version": "3.9.7"
  }
 },
 "nbformat": 4,
 "nbformat_minor": 5
}
