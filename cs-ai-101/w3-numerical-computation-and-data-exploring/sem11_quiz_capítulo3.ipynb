{
 "cells": [
  {
   "cell_type": "markdown",
   "id": "f34adb44",
   "metadata": {
    "id": "f34adb44"
   },
   "source": [
    "# Inteligencia Artificial\n",
    "\n",
    "## Capítulo 3\n",
    "\n",
    "### NumPy Arrays: Computación Numérica Optimizada y Pandas: Análisis Exploratorio de Datos\n",
    "\n",
    "- **Unidad 1.** Estructura de datos de matriz de NumPy para un rendimiento computacional óptimo\n",
    "- **Unidad 2.** Exploración óptima de datos a través de pandas\n",
    "- **Unidad 3.** Pre-procesamiento de datos de pandas para una ejecución óptima del modelo\n",
    "- **Unidad 4.** Visualización de datos para varias escalas de datos\n",
    "\n",
    "# Quiz\n",
    "\n",
    "### Estudiante: \n",
    "#### - Edwin Roman (Rep. Dominicana) - Lunes a Miércoles."
   ]
  },
  {
   "cell_type": "markdown",
   "id": "2e42031a",
   "metadata": {
    "id": "2e42031a"
   },
   "source": [
    "___"
   ]
  },
  {
   "cell_type": "code",
   "execution_count": 13,
   "id": "32a45310-47e8-4852-9c1b-05117860120f",
   "metadata": {},
   "outputs": [],
   "source": [
    "## GLOBAL IMPORTS\n",
    "import numpy as np \n",
    "import pandas as pd\n",
    "import matplotlib.pyplot as plt"
   ]
  },
  {
   "cell_type": "markdown",
   "id": "ac1e9b02",
   "metadata": {
    "id": "ac1e9b02",
    "jp-MarkdownHeadingCollapsed": true
   },
   "source": [
    "## Q 03-01\n",
    "\n",
    "### ¿Cuál es una sintaxis correcta para crear una matriz NumPy?\n",
    "\n",
    "1. np.createArray([1, 2, 3, 4, 5])\n",
    "###### 2. np.array([1, 2, 3, 4, 5])\n",
    "3. np.object([1, 2, 3, 4, 5])"
   ]
  },
  {
   "cell_type": "markdown",
   "id": "903e6874",
   "metadata": {
    "id": "903e6874"
   },
   "source": [
    "**Respuesta:**"
   ]
  },
  {
   "cell_type": "code",
   "execution_count": 4,
   "id": "mQPwnr-d4nn4",
   "metadata": {
    "id": "mQPwnr-d4nn4"
   },
   "outputs": [
    {
     "data": {
      "text/plain": [
       "array([1, 2, 3, 4, 5])"
      ]
     },
     "execution_count": 4,
     "metadata": {},
     "output_type": "execute_result"
    }
   ],
   "source": [
    "my_array = np.array([1,2,3,4,5])\n",
    "my_array"
   ]
  },
  {
   "cell_type": "markdown",
   "id": "87a3a925",
   "metadata": {
    "id": "87a3a925",
    "jp-MarkdownHeadingCollapsed": true
   },
   "source": [
    "## Q 03-02\n",
    "\n",
    "### ¿Cuál es una sintaxis correcta para verificar el número de dimensiones en una matriz?\n",
    "\n",
    "1. np.dim()\n",
    "2. np.ndim()\n",
    "3. np.ndim\n",
    "4. np.dim"
   ]
  },
  {
   "cell_type": "markdown",
   "id": "62678495",
   "metadata": {
    "id": "62678495"
   },
   "source": [
    "**Respuesta:**"
   ]
  },
  {
   "cell_type": "code",
   "execution_count": 7,
   "id": "Ws3ZJVSh49SB",
   "metadata": {
    "id": "Ws3ZJVSh49SB"
   },
   "outputs": [
    {
     "name": "stdout",
     "output_type": "stream",
     "text": [
      "¿Qué dimensiones tiene el siguiente array?: \n",
      "[1 2 3 4 5]\n",
      "The array is  1 dimension\n"
     ]
    }
   ],
   "source": [
    "print(\"¿Qué dimensiones tiene el siguiente array?: \")\n",
    "print(my_array)\n",
    "print(\"The array is \", my_array.ndim, \"dimension\")"
   ]
  },
  {
   "cell_type": "markdown",
   "id": "8c115f28",
   "metadata": {
    "id": "8c115f28",
    "jp-MarkdownHeadingCollapsed": true
   },
   "source": [
    "## Q 03-03\n",
    "\n",
    "### ¿Cuál sería la respuesta de esta suma acumulada en NumPy?\n",
    "\n",
    "```\n",
    "arr = np.array([1,2,3])\n",
    "print(np.cumsum(arr))\n",
    "\n",
    "```\n",
    "\n",
    "1. [3, 6, 9]\n",
    "2. [6]\n",
    "3. [9]\n",
    "4. [1 3 6]"
   ]
  },
  {
   "cell_type": "markdown",
   "id": "4b66252e",
   "metadata": {
    "id": "4b66252e"
   },
   "source": [
    "**Respuesta:**"
   ]
  },
  {
   "cell_type": "code",
   "execution_count": 12,
   "id": "tTz-SS045oqC",
   "metadata": {
    "id": "tTz-SS045oqC"
   },
   "outputs": [
    {
     "name": "stdout",
     "output_type": "stream",
     "text": [
      "[1 3 6]\n",
      "\n",
      "Muy interesante este método es evidente que hace una especie de cálculo basado en Fibonacci\n",
      "ese que vimos en clases. Muy interesante!\n",
      "\n",
      "Respuesta: D. ([1,3,6])\n",
      "\n"
     ]
    }
   ],
   "source": [
    "arr = np.array([1,2,3])\n",
    "print(np.cumsum(arr))\n",
    "\n",
    "print(\"\"\"\n",
    "Muy interesante este método es evidente que hace una especie de cálculo basado en Fibonacci\n",
    "ese que vimos en clases. Muy interesante!\n",
    "\n",
    "Respuesta: D. ([1,3,6])\n",
    "\"\"\")"
   ]
  },
  {
   "cell_type": "markdown",
   "id": "410f8980",
   "metadata": {
    "id": "410f8980"
   },
   "source": [
    "## Q 03-04\n",
    "\n",
    "### Responde las siguientes preguntas.\n",
    "\n",
    "```\n",
    "import pandas as pd\n",
    "import numpy as np\n",
    "import os\n",
    "import matplotlib.pyplot as plt\n",
    "%matplotlib inline\n",
    "\n",
    "# Lea los datos.\n",
    "# Vaya al directorio donde se encuentra el archivo de los datos.\n",
    "os.chdir(r'~~') # Reemplace con la dirección del archivo\n",
    "df = pd.read_csv('data_sales.csv', header='infer')\n",
    "df.shape\n",
    "df.head(5)\n",
    "```\n",
    "\n",
    "1. Agregue una nueva variable 𝐴𝑚𝑜𝑢𝑛𝑡=𝑈𝑛𝑖𝑡𝑃𝑟𝑖𝑐×𝑈𝑛𝑖𝑡𝑠Amount=UnitPric×Units.\n",
    "2. Precio unitario medio de cada región. Utilice el método groupby().\n",
    "3. Precio unitario medio de cada región. Usa el método pivot_table()."
   ]
  },
  {
   "cell_type": "markdown",
   "id": "b239c413",
   "metadata": {
    "id": "b239c413"
   },
   "source": [
    "**Respuesta:**"
   ]
  },
  {
   "cell_type": "code",
   "execution_count": 18,
   "id": "QjlPDxBc7XOE",
   "metadata": {
    "id": "QjlPDxBc7XOE"
   },
   "outputs": [
    {
     "name": "stdout",
     "output_type": "stream",
     "text": [
      "Columns:  Index(['Date', 'Region', 'Item', 'Unit Price', 'Units'], dtype='object')\n"
     ]
    }
   ],
   "source": [
    "file_path = \"../datasets/data_sales.csv\"\n",
    "\n",
    "df = pd.read_csv(file_path, header='infer')\n",
    "print(\"Columns: \", df.columns)"
   ]
  },
  {
   "cell_type": "code",
   "execution_count": 23,
   "id": "737a6114-1053-4b42-ad18-800fce27175a",
   "metadata": {},
   "outputs": [
    {
     "data": {
      "text/html": [
       "<div>\n",
       "<style scoped>\n",
       "    .dataframe tbody tr th:only-of-type {\n",
       "        vertical-align: middle;\n",
       "    }\n",
       "\n",
       "    .dataframe tbody tr th {\n",
       "        vertical-align: top;\n",
       "    }\n",
       "\n",
       "    .dataframe thead th {\n",
       "        text-align: right;\n",
       "    }\n",
       "</style>\n",
       "<table border=\"1\" class=\"dataframe\">\n",
       "  <thead>\n",
       "    <tr style=\"text-align: right;\">\n",
       "      <th></th>\n",
       "      <th>Date</th>\n",
       "      <th>Region</th>\n",
       "      <th>Item</th>\n",
       "      <th>Unit Price</th>\n",
       "      <th>Units</th>\n",
       "      <th>𝐴𝑚𝑜𝑢𝑛𝑡</th>\n",
       "    </tr>\n",
       "  </thead>\n",
       "  <tbody>\n",
       "    <tr>\n",
       "      <th>0</th>\n",
       "      <td>04-Jul-14</td>\n",
       "      <td>East</td>\n",
       "      <td>Pen Set</td>\n",
       "      <td>4.99</td>\n",
       "      <td>62</td>\n",
       "      <td>309.38</td>\n",
       "    </tr>\n",
       "    <tr>\n",
       "      <th>1</th>\n",
       "      <td>12-Jul-14</td>\n",
       "      <td>East</td>\n",
       "      <td>Binder</td>\n",
       "      <td>1.99</td>\n",
       "      <td>29</td>\n",
       "      <td>57.71</td>\n",
       "    </tr>\n",
       "    <tr>\n",
       "      <th>2</th>\n",
       "      <td>21-Jul-14</td>\n",
       "      <td>Central</td>\n",
       "      <td>Pen Set</td>\n",
       "      <td>12.49</td>\n",
       "      <td>55</td>\n",
       "      <td>686.95</td>\n",
       "    </tr>\n",
       "    <tr>\n",
       "      <th>3</th>\n",
       "      <td>29-Jul-14</td>\n",
       "      <td>East</td>\n",
       "      <td>Binder</td>\n",
       "      <td>19.99</td>\n",
       "      <td>81</td>\n",
       "      <td>1619.19</td>\n",
       "    </tr>\n",
       "    <tr>\n",
       "      <th>4</th>\n",
       "      <td>07-Aug-14</td>\n",
       "      <td>Central</td>\n",
       "      <td>Pen Set</td>\n",
       "      <td>23.95</td>\n",
       "      <td>42</td>\n",
       "      <td>1005.90</td>\n",
       "    </tr>\n",
       "  </tbody>\n",
       "</table>\n",
       "</div>"
      ],
      "text/plain": [
       "        Date   Region     Item  Unit Price  Units   𝐴𝑚𝑜𝑢𝑛𝑡\n",
       "0  04-Jul-14     East  Pen Set        4.99     62   309.38\n",
       "1  12-Jul-14     East   Binder        1.99     29    57.71\n",
       "2  21-Jul-14  Central  Pen Set       12.49     55   686.95\n",
       "3  29-Jul-14     East   Binder       19.99     81  1619.19\n",
       "4  07-Aug-14  Central  Pen Set       23.95     42  1005.90"
      ]
     },
     "execution_count": 23,
     "metadata": {},
     "output_type": "execute_result"
    }
   ],
   "source": [
    "#1. Agregue una nueva variable 𝐴𝑚𝑜𝑢𝑛𝑡=𝑈𝑛𝑖𝑡𝑃𝑟𝑖𝑐×𝑈𝑛𝑖𝑡𝑠Amount=UnitPric×Units.\n",
    "df[\"𝐴𝑚𝑜𝑢𝑛𝑡\"] = df[\"Unit Price\"]*df[\"Units\"]\n",
    "df.head(5)"
   ]
  },
  {
   "cell_type": "code",
   "execution_count": 27,
   "id": "61bd6863-e2cf-4abc-a4d2-efe0992823df",
   "metadata": {},
   "outputs": [
    {
     "name": "stdout",
     "output_type": "stream",
     "text": [
      "# 2. Precio unitario medio de cada región. Utilice el método groupby().\n"
     ]
    },
    {
     "data": {
      "text/html": [
       "<div>\n",
       "<style scoped>\n",
       "    .dataframe tbody tr th:only-of-type {\n",
       "        vertical-align: middle;\n",
       "    }\n",
       "\n",
       "    .dataframe tbody tr th {\n",
       "        vertical-align: top;\n",
       "    }\n",
       "\n",
       "    .dataframe thead th {\n",
       "        text-align: right;\n",
       "    }\n",
       "</style>\n",
       "<table border=\"1\" class=\"dataframe\">\n",
       "  <thead>\n",
       "    <tr style=\"text-align: right;\">\n",
       "      <th></th>\n",
       "      <th>Unit Price</th>\n",
       "    </tr>\n",
       "    <tr>\n",
       "      <th>Region</th>\n",
       "      <th></th>\n",
       "    </tr>\n",
       "  </thead>\n",
       "  <tbody>\n",
       "    <tr>\n",
       "      <th>Central</th>\n",
       "      <td>18.018750</td>\n",
       "    </tr>\n",
       "    <tr>\n",
       "      <th>East</th>\n",
       "      <td>9.143846</td>\n",
       "    </tr>\n",
       "    <tr>\n",
       "      <th>West</th>\n",
       "      <td>53.658333</td>\n",
       "    </tr>\n",
       "  </tbody>\n",
       "</table>\n",
       "</div>"
      ],
      "text/plain": [
       "         Unit Price\n",
       "Region             \n",
       "Central   18.018750\n",
       "East       9.143846\n",
       "West      53.658333"
      ]
     },
     "execution_count": 27,
     "metadata": {},
     "output_type": "execute_result"
    }
   ],
   "source": [
    "# 2. Precio unitario medio de cada región. Utilice el método groupby().\n",
    "print(\"# 2. Precio unitario medio de cada región. Utilice el método groupby().\")\n",
    "\n",
    "average_region = df.groupby([\"Region\"])[[\"Unit Price\"]].mean()\n",
    "average_region"
   ]
  },
  {
   "cell_type": "code",
   "execution_count": 31,
   "id": "61185023-8d92-4645-a099-e509c52fb0a8",
   "metadata": {},
   "outputs": [
    {
     "name": "stdout",
     "output_type": "stream",
     "text": [
      "3. Precio unitario medio de cada región. Usa el método pivot_table().\n"
     ]
    }
   ],
   "source": [
    "#3. Precio unitario medio de cada región. Usa el método pivot_table().\n",
    "print(\"3. Precio unitario medio de cada región. Usa el método pivot_table().\")"
   ]
  },
  {
   "cell_type": "code",
   "execution_count": 30,
   "id": "e3de61b8-3f8b-40a9-b31f-a6cb6b4b11dd",
   "metadata": {},
   "outputs": [
    {
     "data": {
      "text/html": [
       "<div>\n",
       "<style scoped>\n",
       "    .dataframe tbody tr th:only-of-type {\n",
       "        vertical-align: middle;\n",
       "    }\n",
       "\n",
       "    .dataframe tbody tr th {\n",
       "        vertical-align: top;\n",
       "    }\n",
       "\n",
       "    .dataframe thead th {\n",
       "        text-align: right;\n",
       "    }\n",
       "</style>\n",
       "<table border=\"1\" class=\"dataframe\">\n",
       "  <thead>\n",
       "    <tr style=\"text-align: right;\">\n",
       "      <th>Region</th>\n",
       "      <th>Central</th>\n",
       "      <th>East</th>\n",
       "      <th>West</th>\n",
       "    </tr>\n",
       "  </thead>\n",
       "  <tbody>\n",
       "    <tr>\n",
       "      <th>Unit Price</th>\n",
       "      <td>18.01875</td>\n",
       "      <td>9.143846</td>\n",
       "      <td>53.658333</td>\n",
       "    </tr>\n",
       "  </tbody>\n",
       "</table>\n",
       "</div>"
      ],
      "text/plain": [
       "Region       Central      East       West\n",
       "Unit Price  18.01875  9.143846  53.658333"
      ]
     },
     "execution_count": 30,
     "metadata": {},
     "output_type": "execute_result"
    }
   ],
   "source": [
    "average_region.pivot_table(columns=[\"Region\"], values=\"Unit Price\")"
   ]
  },
  {
   "cell_type": "markdown",
   "id": "ba019f33",
   "metadata": {
    "id": "ba019f33"
   },
   "source": [
    "___"
   ]
  },
  {
   "cell_type": "markdown",
   "id": "d4b76da3",
   "metadata": {
    "id": "d4b76da3"
   },
   "source": [
    "## Q 03-05\n",
    "\n",
    "### Responde las siguientes preguntas.\n",
    "\n",
    "```\n",
    "import pandas as pd\n",
    "import numpy as np\n",
    "import os\n",
    "import matplotlib.pyplot as plt\n",
    "%matplotlib inline\n",
    "\n",
    "# Lea los datos.\n",
    "# Vaya al directorio donde se encuentra el archivo de los datos.\n",
    "os.chdir(r'~~') # Reemplace con la dirección del archivo\n",
    "df = pd.read_csv('data_coffeeshop.csv', header='infer', na_values=[' '])\n",
    "df.shape\n",
    "df.head(5)\n",
    "```\n",
    "\n",
    "1.   Haz una tabla de frecuencia de 'yearOfStart' y visualízala por año.\n",
    "- Ordenar por año.\n",
    "- Dibuja un gráfico de líneas desde 1997 hasta 2014. <= Pista: plt.xlim()"
   ]
  },
  {
   "cell_type": "markdown",
   "id": "20998ef3",
   "metadata": {
    "id": "20998ef3"
   },
   "source": [
    "**Respuesta:**"
   ]
  },
  {
   "cell_type": "code",
   "execution_count": 36,
   "id": "rBDeXJRl8LEJ",
   "metadata": {
    "id": "rBDeXJRl8LEJ"
   },
   "outputs": [
    {
     "data": {
      "text/plain": [
       "Index(['Year of Start', 'Current State', 'Size of Site'], dtype='object')"
      ]
     },
     "execution_count": 36,
     "metadata": {},
     "output_type": "execute_result"
    }
   ],
   "source": [
    "df_coffee = pd.read_csv(\"../datasets/data_coffeeshop.csv\", header = \"infer\",na_values=[' '])\n",
    "df_coffee.columns"
   ]
  },
  {
   "cell_type": "code",
   "execution_count": 58,
   "id": "b59f9c03-22cb-4ced-aa00-c0b7e5297651",
   "metadata": {},
   "outputs": [
    {
     "name": "stdout",
     "output_type": "stream",
     "text": [
      "Haz una tabla de frecuencia de 'yearOfStart' y visualízala por año.\n"
     ]
    },
    {
     "data": {
      "text/html": [
       "<div>\n",
       "<style scoped>\n",
       "    .dataframe tbody tr th:only-of-type {\n",
       "        vertical-align: middle;\n",
       "    }\n",
       "\n",
       "    .dataframe tbody tr th {\n",
       "        vertical-align: top;\n",
       "    }\n",
       "\n",
       "    .dataframe thead th {\n",
       "        text-align: right;\n",
       "    }\n",
       "</style>\n",
       "<table border=\"1\" class=\"dataframe\">\n",
       "  <thead>\n",
       "    <tr style=\"text-align: right;\">\n",
       "      <th></th>\n",
       "      <th>Year of Start</th>\n",
       "      <th>Cant. anios</th>\n",
       "    </tr>\n",
       "  </thead>\n",
       "  <tbody>\n",
       "    <tr>\n",
       "      <th>0</th>\n",
       "      <td>2014.0</td>\n",
       "      <td>9905</td>\n",
       "    </tr>\n",
       "    <tr>\n",
       "      <th>1</th>\n",
       "      <td>2013.0</td>\n",
       "      <td>7270</td>\n",
       "    </tr>\n",
       "    <tr>\n",
       "      <th>2</th>\n",
       "      <td>2012.0</td>\n",
       "      <td>6315</td>\n",
       "    </tr>\n",
       "    <tr>\n",
       "      <th>3</th>\n",
       "      <td>2011.0</td>\n",
       "      <td>5942</td>\n",
       "    </tr>\n",
       "    <tr>\n",
       "      <th>4</th>\n",
       "      <td>2010.0</td>\n",
       "      <td>4172</td>\n",
       "    </tr>\n",
       "  </tbody>\n",
       "</table>\n",
       "</div>"
      ],
      "text/plain": [
       "   Year of Start  Cant. anios\n",
       "0         2014.0         9905\n",
       "1         2013.0         7270\n",
       "2         2012.0         6315\n",
       "3         2011.0         5942\n",
       "4         2010.0         4172"
      ]
     },
     "execution_count": 58,
     "metadata": {},
     "output_type": "execute_result"
    }
   ],
   "source": [
    "# Haz una tabla de frecuencia de 'yearOfStart' y visualízala por año.\n",
    "print(\"Haz una tabla de frecuencia de 'yearOfStart' y visualízala por año.\")\n",
    "data_serie = df_coffee[\"Year of Start\"].value_counts().reset_index(name = \"Cant. anios\")\n",
    "data_serie.head(5) #usar values_count"
   ]
  },
  {
   "cell_type": "code",
   "execution_count": 75,
   "id": "c74a0d89-7624-444a-ba17-ac08670d88ee",
   "metadata": {},
   "outputs": [
    {
     "name": "stdout",
     "output_type": "stream",
     "text": [
      "Dibuja un gráfico de líneas desde 1997 hasta 2014.\n"
     ]
    },
    {
     "data": {
      "text/plain": [
       "<Axes: xlabel='Cant. anios'>"
      ]
     },
     "execution_count": 75,
     "metadata": {},
     "output_type": "execute_result"
    },
    {
     "data": {
      "image/png": "[encoded data removed]",
      "text/plain": [
       "<Figure size 640x480 with 1 Axes>"
      ]
     },
     "metadata": {},
     "output_type": "display_data"
    }
   ],
   "source": [
    "print(\"Dibuja un gráfico de líneas desde 1997 hasta 2014.\")\n",
    "data_serie = data_serie[ (data_serie[\"Year of Start\"] >= 1997) & (data_serie[\"Year of Start\"] <= 2014) ]\n",
    "\n",
    "data_serie.plot.line(y=\"Year of Start\", x=\"Cant. anios\")"
   ]
  },
  {
   "cell_type": "markdown",
   "id": "aa90491d",
   "metadata": {
    "id": "aa90491d"
   },
   "source": [
    "___"
   ]
  },
  {
   "cell_type": "markdown",
   "id": "ed04e881",
   "metadata": {
    "id": "ed04e881"
   },
   "source": [
    "## Fin"
   ]
  }
 ],
 "metadata": {
  "colab": {
   "provenance": []
  },
  "kernelspec": {
   "display_name": "Python 3 (ipykernel)",
   "language": "python",
   "name": "python3"
  },
  "language_info": {
   "codemirror_mode": {
    "name": "ipython",
    "version": 3
   },
   "file_extension": ".py",
   "mimetype": "text/x-python",
   "name": "python",
   "nbconvert_exporter": "python",
   "pygments_lexer": "ipython3",
   "version": "3.9.7"
  }
 },
 "nbformat": 4,
 "nbformat_minor": 5
}
