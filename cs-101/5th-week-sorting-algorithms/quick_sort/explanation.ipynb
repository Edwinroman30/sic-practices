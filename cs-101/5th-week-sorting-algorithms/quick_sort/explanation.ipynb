{
 "cells": [
  {
   "cell_type": "markdown",
   "metadata": {},
   "source": [
    "### Quick Sort Algorithm:\n",
    "Quick sort algorithm is one of the most efficient, or well say known algorithm, into the sorting family algorithm. This algorithm has a time complexity of 2n O(log(n))"
   ]
  }
 ],
 "metadata": {
  "language_info": {
   "name": "python"
  }
 },
 "nbformat": 4,
 "nbformat_minor": 2
}
