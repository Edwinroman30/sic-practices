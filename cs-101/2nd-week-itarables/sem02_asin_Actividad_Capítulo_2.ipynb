{
 "cells": [
  {
   "cell_type": "markdown",
   "id": "5ad8356f",
   "metadata": {},
   "source": [
    "```python\n",
    "student = {\n",
    "        \"name\" : \"Edwin Roman\",\n",
    "        \"country\" : \"Dominican Republic\",\n",
    "        \"all_completed\" : True\n",
    "    }\n",
    "```\n",
    "\n",
    "\n",
    "## Actividades Capítulo 2.\n",
    "\n",
    "## Concepto básico de programación e inicio en Python\n",
    "\n",
    "## Resumen de actividades\n",
    "\n",
    "- **Unidad 10.** Tipos de datos lista y tupla Tipos de datos lista y tupla\n",
    "- **Unidad 11.** Tipos de datos de diccionario Tipos de datos de diccionario\n",
    "- **Unidad 12.** Tipos de datos de secuencia\n",
    "- **Unidad 13.** Listas 2D\n",
    "- **Unidad 14.** Método del diccionario-1\n",
    "- **Unidad 15.** Método del diccionario-2\n",
    "- **Unidad 16.** Establecer tipos de datos\n"
   ]
  },
  {
   "cell_type": "markdown",
   "id": "8c5aa9c8",
   "metadata": {},
   "source": [
    "# Actividad: Creación de una Base de Datos en Python\n",
    "\n",
    "## Descripción\n",
    "\n",
    "A continuación debes crear una base de datos simple utilizando listas en Python. Una base de datos es una colección de datos organizados que se utilizan para almacenar y recuperar información. En este caso, simularemos una base de datos de estudiantes con información básica.\n",
    "\n",
    "## Instrucciones\n",
    "\n",
    "1. Crea un programa en Python que permita a los usuarios realizar las siguientes acciones:\n",
    "\n",
    "   a. Agregar un nuevo estudiante a la base de datos. Cada estudiante debe tener al menos un nombre, un número de identificación y una edad. Puedes utilizar una lista para almacenar estos datos.\n",
    "\n",
    "   b. Mostrar la lista de estudiantes en la base de datos.\n",
    "\n",
    "   c. Buscar un estudiante por su número de identificación y mostrar su información.\n",
    "\n",
    "   d. Actualizar la información de un estudiante existente en la base de datos.\n",
    "\n",
    "   e. Eliminar un estudiante de la base de datos.\n",
    "\n",
    "2. Utiliza listas de Python para almacenar la información de los estudiantes. Por ejemplo, puedes crear una lista de diccionarios, donde cada diccionario representa un estudiante con sus datos.\n",
    "\n",
    "3. Ofrece un menú interactivo que permita a los usuarios elegir las acciones que desean realizar en la base de datos.\n",
    "\n",
    "4. Implementa la lógica necesaria para cada acción, como agregar, buscar, actualizar o eliminar estudiantes.\n",
    "\n",
    "## Ejemplo de Base de Datos\n",
    "\n",
    "A continuación, se muestra un ejemplo de cómo podría verse una base de datos de estudiantes utilizando listas y diccionarios:\n",
    "\n",
    "```python\n",
    "base_de_datos = [\n",
    "    {\"nombre\": \"Juan\", \"id\": 1, \"edad\": 20},\n",
    "    {\"nombre\": \"María\", \"id\": 2, \"edad\": 22},\n",
    "    {\"nombre\": \"Carlos\", \"id\": 3, \"edad\": 21}\n",
    "]\n",
    "\n",
    "Desarrolle el código en la siguiente lista."
   ]
  },
  {
   "cell_type": "code",
   "execution_count": null,
   "id": "90cd2e33",
   "metadata": {},
   "outputs": [],
   "source": [
    "#Recuerde agregar comentarios donde se describa el funcionamiento de las diferentes secciones.\n",
    "\n",
    "\n",
    "\n",
    "\n",
    "\n",
    "\n",
    "\n",
    "\n",
    "\n",
    "\n",
    "\n",
    "\n",
    "\n",
    "\n"
   ]
  },
  {
   "cell_type": "markdown",
   "id": "a11871f3",
   "metadata": {},
   "source": [
    "# Actividad: Rebanado de listas.\n",
    "\n",
    "Revisa la unidad 10,sección 5.3 aparece un resumen de los comandos para tomar secciones de una lista, aplica los comandos en la siguiente lista:\n",
    "\n",
    "\n",
    "list_notas = [15, 21, 24, 40, 13, 14, 18, 17, 14.5]\n",
    "\n"
   ]
  },
  {
   "cell_type": "code",
   "execution_count": 7,
   "id": "1e7a5371",
   "metadata": {},
   "outputs": [
    {
     "data": {
      "text/plain": [
       "[15, 24, 13, 18, 14.5]"
      ]
     },
     "execution_count": 7,
     "metadata": {},
     "output_type": "execute_result"
    }
   ],
   "source": [
    "# Espacio para desarrollar las pruebas, si tienes alguna duda o comentario adicional\n",
    "# lo puedes dejar planteado acá.\n",
    "\n",
    "list_notas = [15, 21, 24, 40, 13, 14, 18, 17, 14.5]\n",
    "list_notas[::2]\n",
    "\n",
    "\n",
    "\n",
    "\n",
    "\n",
    "\n",
    "\n",
    "\n",
    "\n",
    "\n"
   ]
  },
  {
   "cell_type": "markdown",
   "id": "a207d974",
   "metadata": {},
   "source": [
    "\n",
    "# Actividad: Diferentes métodos usados en listas.\n",
    "\n",
    "De la unidad 10, sección 6.3 revise los métodos disponibles para usar sobre las listas.\n",
    "\n",
    "Aplique los métodos disponibles sobre la lista mostrada en la siguiente celda. \n",
    "\n",
    "Nota: usando el método **sort()** ordene de mayor a menor y viceversa (Si es necesario revise documentación adicional relacionada sobre este método)\n"
   ]
  },
  {
   "cell_type": "code",
   "execution_count": 22,
   "id": "b4ac1d5a",
   "metadata": {},
   "outputs": [
    {
     "data": {
      "text/plain": [
       "[40, 24, 21, 18, 17, 15, 14.5, 14, 13, 13]"
      ]
     },
     "execution_count": 22,
     "metadata": {},
     "output_type": "execute_result"
    }
   ],
   "source": [
    "# Aplique los métodos disponibles y agregue comentarios breves sobre su funcinamiento.\n",
    "\n",
    "list_notas = [15, 21, 24, 40, 13, 14, 18, 13, 17, 14.5]\n",
    "\n",
    "\n",
    "# Espacio para desarrollo del código y comentarios.\n",
    "\n",
    "def main_02():\n",
    "    # Espacio para desarrollar las pruebas, si tienes alguna duda o comentario adicional\n",
    "    # lo puedes dejar planteado acá.\n",
    "\n",
    "    list_notas = [15, 21, 24, 40, 13, 14, 18, 17, 14.5]\n",
    "    \n",
    "    #list_notas[START_INDEX: END_INDEX : STEP]\n",
    "    \"\"\"\n",
    "    START = Posicion donde inician la busqueda.\n",
    "    END = Posicion donde termina la busqueda.\n",
    "    STEP = Saltos de busquedas.\n",
    "    \"\"\"\n",
    "    #list_notas[::2]\n",
    "    \n",
    "    print(list_notas[::2])\n",
    "    \n",
    "main_02()\n",
    "\n",
    "\n",
    "\n",
    "\n",
    "\n",
    "\n",
    "\n",
    "\n",
    "\n",
    "\n",
    "\n",
    "\n"
   ]
  },
  {
   "cell_type": "markdown",
   "id": "26a6bb9e",
   "metadata": {},
   "source": [
    "# Actividad: Crear diccionarios y guardarlos como archivo JSON.\n",
    "\n",
    "De la unidad 11 sección 4.6 revise el ejemplo mostrado.\n",
    "\n",
    "Genera un diccionario, sobre la información que deseas guardar como base de datos, desarrollo el código necesario para generar el archivo JSON, y también el código para cargar la información del archivo JSON.\n"
   ]
  },
  {
   "cell_type": "code",
   "execution_count": null,
   "id": "6670eace",
   "metadata": {},
   "outputs": [],
   "source": [
    "import json\n",
    "\n",
    "# Espacio para desarrollar el código.\n",
    "def main_03():\n",
    "    \"\"\"\n",
    "    ### Actividad: Crear diccionarios y guardarlos como archivo JSON.\n",
    "    De la unidad 11 sección 4.6 revise el ejemplo mostrado.\n",
    "    Genera un diccionario, sobre la información que deseas guardar como base de datos, desarrollo el código necesario para generar el \n",
    "    archivo JSON, y también el código para cargar la información del archivo JSON.\n",
    "    \"\"\"\n",
    "    try:\n",
    "        employemment_data = {\n",
    "            \"name\": \"Edwin Roman\",\n",
    "            \"age\" : 239,\n",
    "            \"skills\" : (\"Good Communication\", \"Self-drive\", \"UI/UX Figma\", \".NET\", \"Docker\"),\n",
    "            \"url\" : \"https://github.com/Edwinroman30\",        \n",
    "        }\n",
    "        \n",
    "        filename = \"info.json\"\n",
    "        \n",
    "        with open(f\"{filename}\",\"w\") as _file :\n",
    "            json.dump(employemment_data, _file, indent= \"\\t\")\n",
    "        \n",
    "        print(\"File and data created...\")\n",
    "    except:\n",
    "        print(\"Error no pudimos procesar la data...\")\n",
    "    \n",
    "main_03()"
   ]
  },
  {
   "cell_type": "markdown",
   "id": "fbfb4985",
   "metadata": {},
   "source": [
    "# Actividad: Creación y manejo de tuplas.\n",
    "\n",
    "## Instrucciones\n",
    "\n",
    "1. Escriba una diferencia entre las tuplas y las listas.\n",
    "2. Crear una tupla con varios elementos.\n",
    "3. Usar el operador in para verificar si la tuple contiene determinado elemento.\n"
   ]
  },
  {
   "cell_type": "code",
   "execution_count": 28,
   "id": "fc5b1a43",
   "metadata": {},
   "outputs": [],
   "source": [
    "# Espacio para desarrollar el código siguiendo las instrucciones.\n",
    "\n",
    "tup = (1, 2, 3, 4, 5)\n",
    "\n",
    "# (1)\n",
    "# Las tuplas son inmutables, una vez creadas sus valores no pueden ser modificadas.\n",
    "# Las lista en su defecto son mutables, pueden cambiar y son elementos de referencias ReferenceType.\n",
    "\n",
    "# (2) RGB\n",
    "my_favorite_color = (253, 34, 9)\n",
    "\n",
    "# (3)\n",
    "print( 3 in tup )"
   ]
  },
  {
   "cell_type": "markdown",
   "id": "98938d2d",
   "metadata": {},
   "source": [
    "# Actividad: Revisión y manejo de listas bidimensionales.\n",
    "\n",
    "## Instrucciones\n",
    "\n",
    "1. Describa brevemente que entiende por lista bidimensional.\n",
    "2. Crear una lista bidimensional.\n",
    "3. Generar un doble loop para acceder de la lista bidimensional\n",
    "4. Sumar todo los elementos de esta lista bidimensional."
   ]
  },
  {
   "cell_type": "code",
   "execution_count": null,
   "id": "a35ef1b7",
   "metadata": {},
   "outputs": [],
   "source": [
    "def main_05():\n",
    "    # Espacio para desarrollar el código, escriba comentarias breves para explicar su funcionamiento.\n",
    "\n",
    "    \"\"\"\n",
    "    Una lista bi-dimencional es aquella cuya composición esta dada por la integraci[on] de una lista sobre la otra siendo la lista contenedora tener de\n",
    "    0 a N donde N es un numero entero :)\n",
    "    \"\"\"\n",
    "    bidimension = [[2, 2, 3], [9, 0, 2]]\n",
    "    suma = 0;\n",
    "\n",
    "    for x in range( len(bidimension) ):\n",
    "       for y in range( len(bidimension) ):\n",
    "          print(bidimension[x][y])\n",
    "\n",
    "    suma = sum(bidimension[0]) + sum(bidimension[1])\n",
    "    print(suma) \n",
    "\n",
    "main_05()"
   ]
  },
  {
   "cell_type": "markdown",
   "id": "4261fa65",
   "metadata": {},
   "source": [
    "# Actividad: Revision de los métodos usados en el manejo de diccionarios.\n",
    "\n",
    "## Instrucciones\n",
    "\n",
    "1. Crear un diccionario.\n",
    "2. Testear los siguientes métodos para el majeo de diccionarios get(), keys(), values(), items(), pop(), clear()\n",
    "3. Agregar un breve comentario sobre su funcionamiento."
   ]
  },
  {
   "cell_type": "code",
   "execution_count": null,
   "id": "2f5887bb",
   "metadata": {},
   "outputs": [],
   "source": [
    "# Espacio para desarrollar el código.\n",
    "\n",
    "\n",
    "\n",
    "\n",
    "\n",
    "def main_06():\n",
    "    \"\"\"\n",
    "    ### Actividad: Revision de los métodos usados en el manejo de diccionarios.\n",
    "    ### Instrucciones\n",
    "\n",
    "    1. Crear un diccionario.\n",
    "    2. Testear los siguientes métodos para el majeo de diccionarios get(), keys(), values(), items(), pop(), clear()\n",
    "    3. Agregar un breve comentario sobre su funcionamiento.\n",
    "    \"\"\"\n",
    "    \n",
    "    student = {\n",
    "        \"name\" : \"Edwin Roman\",\n",
    "        \"country\" : \"Dominican Republic\",\n",
    "        \"age\" : None\n",
    "    }\n",
    "    \n",
    "    print(\"get() - obtiene los valores de la clave especificada, contrario un error\", student.get(\"name\"))\n",
    "    \n",
    "    print(\"keys() -> Retorna las claves que componen el dict\", student.keys())\n",
    "    \n",
    "    print(\"values() -> Retorna los valores que se encuentran asociados al diccionario en formato de lista.\", student.values())\n",
    "    \n",
    "    print(\"items() -> Retorna los valores/cada valor key-value, en formato de dupla\", student.items())\n",
    "    \n",
    "    print(\"pop() -> Elimina el key-valor registrado, identificando el mismo por el key proporcionado.\", student.pop(\"age\"))\n",
    "    print(student)\n",
    "    \n",
    "    print(\"clear() -> Limpia todo el obj\", student.clear())\n",
    "    \n",
    "main_06()\n",
    "\n",
    "\n"
   ]
  }
 ],
 "metadata": {
  "kernelspec": {
   "display_name": "Python 3 (ipykernel)",
   "language": "python",
   "name": "python3"
  },
  "language_info": {
   "codemirror_mode": {
    "name": "ipython",
    "version": 3
   },
   "file_extension": ".py",
   "mimetype": "text/x-python",
   "name": "python",
   "nbconvert_exporter": "python",
   "pygments_lexer": "ipython3",
   "version": "3.10.12"
  }
 },
 "nbformat": 4,
 "nbformat_minor": 5
}
