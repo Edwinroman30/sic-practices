{
  "cells": [
    {
      "cell_type": "markdown",
      "source": [
        "___\n",
        "# Unit 24: Busqueda Secuencial\n",
        "\n",
        "[B. Secuencia](https://miro.medium.com/v2/resize:fit:876/0*iaf91fceK1UL7kwZ.gif)"
      ],
      "metadata": {
        "id": "qw7sPQWzNYKX"
      },
      "id": "qw7sPQWzNYKX"
    },
    {
      "cell_type": "markdown",
      "source": [
        "![image.png](data:image/png;base64,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)"
      ],
      "metadata": {
        "id": "pw9QVU1AOHZL"
      },
      "id": "pw9QVU1AOHZL"
    },
    {
      "cell_type": "markdown",
      "source": [
        "### Big O: Busqueda Secuencial"
      ],
      "metadata": {
        "id": "h2p8oARkO3Xd"
      },
      "id": "h2p8oARkO3Xd"
    },
    {
      "cell_type": "markdown",
      "source": [
        "![image.png](data:image/png;base64,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)"
      ],
      "metadata": {
        "id": "QTah9c34O5AK"
      },
      "id": "QTah9c34O5AK"
    },
    {
      "cell_type": "code",
      "source": [
        "def hacer_experimento(piso, rotura):\n",
        "    return piso >= rotura\n",
        "\n",
        "def encuentra_piso_seguro_mas_alto(altura, rotura):\n",
        "    for n in range(1, altura + 1):\n",
        "        if hacer_experimento(n, rotura):\n",
        "            return n - 1\n",
        "    return altura"
      ],
      "metadata": {
        "id": "aVZXS3wkOVHP"
      },
      "id": "aVZXS3wkOVHP",
      "execution_count": null,
      "outputs": []
    },
    {
      "cell_type": "code",
      "source": [
        "from random import randint\n",
        "\n",
        "altura = int( input(\"Ingrese el número de pisos: \") )\n",
        "rotura = randint(1, altura)\n",
        "piso = encuentra_piso_seguro_mas_alto(altura, rotura)\n",
        "print(f\"El huevo estará a salvo hasta el piso {piso} número\")"
      ],
      "metadata": {
        "id": "vQ-3jjAPOVRs"
      },
      "id": "vQ-3jjAPOVRs",
      "execution_count": null,
      "outputs": []
    },
    {
      "cell_type": "code",
      "source": [
        "piso = encuentra_piso_seguro_mas_alto(altura, rotura)\n",
        "print(f\"El huevo estará a salvo hasta el piso {piso} número\")"
      ],
      "metadata": {
        "id": "HbQquZF4OVbT"
      },
      "id": "HbQquZF4OVbT",
      "execution_count": null,
      "outputs": []
    },
    {
      "cell_type": "code",
      "source": [
        "def busqueda_seq(nums, x):\n",
        "    for i in range(len(nums)):\n",
        "        if x == nums[i]:\n",
        "            return i\n",
        "    return -1"
      ],
      "metadata": {
        "id": "wBvZkxthOfE_"
      },
      "id": "wBvZkxthOfE_",
      "execution_count": null,
      "outputs": []
    },
    {
      "cell_type": "code",
      "source": [
        "S = [11, 37, 45, 26, 59, 28, 17, 53]\n",
        "range(len(S))"
      ],
      "metadata": {
        "id": "zvUzSZR1Ondf"
      },
      "id": "zvUzSZR1Ondf",
      "execution_count": null,
      "outputs": []
    },
    {
      "cell_type": "code",
      "source": [
        "#     0   1   2   3   4   5   6   7\n",
        "S = [11, 37, 45, 26, 59, 28, 17, 53]\n",
        "x = 53\n",
        "pos = busqueda_seq(S, x)\n",
        "print(f\"En S, {x} esta en la posición {pos}.\")"
      ],
      "metadata": {
        "id": "CSKICMP0Oqah"
      },
      "id": "CSKICMP0Oqah",
      "execution_count": null,
      "outputs": []
    },
    {
      "cell_type": "code",
      "source": [
        "x = 53\n",
        "pos = busqueda_seq(S, x)\n",
        "print(f\"En S, {x} está en la posición {pos}.\")"
      ],
      "metadata": {
        "id": "MrJfqhNUOwiI"
      },
      "id": "MrJfqhNUOwiI",
      "execution_count": null,
      "outputs": []
    },
    {
      "cell_type": "code",
      "source": [
        "x = 77\n",
        "pos = busqueda_seq(S, x)\n",
        "print(f\"En S, {x} está en la posición {pos}.\")"
      ],
      "metadata": {
        "id": "CtKgCx8wOxYI"
      },
      "id": "CtKgCx8wOxYI",
      "execution_count": null,
      "outputs": []
    },
    {
      "cell_type": "code",
      "source": [
        "def encuentra_mayor(nums):\n",
        "    mayor = 0\n",
        "    for i in range(1, len(nums)):\n",
        "        if nums[mayor] < nums[i]:\n",
        "            mayor = i\n",
        "    return mayor"
      ],
      "metadata": {
        "id": "dzEKkvUAO-hU"
      },
      "id": "dzEKkvUAO-hU",
      "execution_count": null,
      "outputs": []
    },
    {
      "cell_type": "code",
      "source": [
        "nums = [11, 37, 45, 26, 59, 28, 17, 53]\n",
        "pos = encuentra_mayor(nums)\n",
        "print(f\"The largest is {nums[pos]} at {pos}\")"
      ],
      "metadata": {
        "id": "zx_ogP-TO_LA"
      },
      "id": "zx_ogP-TO_LA",
      "execution_count": null,
      "outputs": []
    },
    {
      "cell_type": "code",
      "source": [
        "# Analiza y describe el comportamiento\n",
        "def encuentra_dos(nums):\n",
        "    x = y = 0\n",
        "    for i in range(1, len(nums)):\n",
        "        if nums[x] < nums[i]:\n",
        "            x = i\n",
        "        elif nums[y] > nums[i]:\n",
        "            y = i\n",
        "    return x, y\n",
        "\n",
        "nums = [11, 37, 45, 26, 59, 28, 17, 53]\n",
        "i, j = encuentra_dos(nums)\n",
        "print(nums[i], nums[j])"
      ],
      "metadata": {
        "id": "bFw2NRIPO_VF"
      },
      "id": "bFw2NRIPO_VF",
      "execution_count": null,
      "outputs": []
    },
    {
      "cell_type": "code",
      "source": [
        "def contar_palabra(S, p):#['hola', 'pepito']\n",
        "    contador = 0\n",
        "    for i in S:\n",
        "        if i == p:\n",
        "            contador += 1\n",
        "    return contador\n",
        "    #return S.count(p)"
      ],
      "metadata": {
        "id": "r3feEDsoPIWt"
      },
      "id": "r3feEDsoPIWt",
      "execution_count": null,
      "outputs": []
    },
    {
      "cell_type": "code",
      "source": [
        "S = list(input(\"Ingrese una frase: \").split())\n",
        "p = input(\"De una palabra para buscar: \")\n",
        "cuenta = contar_palabra(S, p)\n",
        "print(f\"En S, '{p}' aparece {cuenta} veces.\")"
      ],
      "metadata": {
        "id": "oLu6w3-1PMlQ"
      },
      "id": "oLu6w3-1PMlQ",
      "execution_count": null,
      "outputs": []
    },
    {
      "cell_type": "markdown",
      "id": "676e1e08",
      "metadata": {
        "id": "676e1e08"
      },
      "source": [
        "___\n",
        "# Unit 25: Busqueda Binaria\n",
        "\n",
        "[B. Binaria](https://www.freecodecamp.org/espanol/news/content/images/2021/03/binary-search-1.gif)"
      ]
    },
    {
      "cell_type": "markdown",
      "source": [
        "![image.png](data:image/png;base64,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)"
      ],
      "metadata": {
        "id": "r-8GtdPXPnx4"
      },
      "id": "r-8GtdPXPnx4"
    },
    {
      "cell_type": "markdown",
      "id": "6264a6e4",
      "metadata": {
        "id": "6264a6e4"
      },
      "source": [
        "### Big O: Busqueda Binaria\n",
        "![busqueda_bin_big-o1.png](attachment:busqueda_bin_big-o1.png)"
      ]
    },
    {
      "cell_type": "code",
      "execution_count": null,
      "id": "cfe8494a",
      "metadata": {
        "id": "cfe8494a"
      },
      "outputs": [],
      "source": [
        "def hacer_experimento(piso, rotura):\n",
        "    return piso >= rotura # True cuando se rompe\n",
        "\n",
        "def encuentra_piso_seguro_mas_alto2(altura, rotura):\n",
        "    bajo, alto = 1, altura #\n",
        "    while bajo < alto:\n",
        "        med = (bajo + alto) // 2\n",
        "        print(bajo, alto, '|', med) # Area de busqueda, punto de lanzamiento\n",
        "        if hacer_experimento(med, rotura): # rompe\n",
        "            alto = med\n",
        "        else: # sobrevive el huevo\n",
        "            bajo = med + 1\n",
        "    return bajo - 1"
      ]
    },
    {
      "cell_type": "code",
      "execution_count": null,
      "id": "e10b4e46",
      "metadata": {
        "id": "e10b4e46"
      },
      "outputs": [],
      "source": [
        "altura = int(input(\"Diga el número de pisos: \"))\n",
        "rotura = int(input(\"Diga el número del piso donde se romperá el huevo: \"))\n",
        "piso = encuentra_piso_seguro_mas_alto2(altura, rotura)\n",
        "print(f\"El huevo estará a salvo hasta el piso {piso} número\")"
      ]
    },
    {
      "cell_type": "markdown",
      "id": "fd94a339",
      "metadata": {
        "id": "fd94a339"
      },
      "source": [
        "### Implementación de busqueda binaria"
      ]
    },
    {
      "cell_type": "code",
      "execution_count": 1,
      "id": "90f34ee5",
      "metadata": {
        "id": "90f34ee5"
      },
      "outputs": [],
      "source": [
        "def busqueda_binaria(nums, x):\n",
        "    bajo = 0 # Indice inferior de la estructura\n",
        "    alto = len(nums) - 1 # Indice superior de la estructura\n",
        "    while bajo <= alto:\n",
        "        med = (bajo + alto) // 2 # Indice Medio\n",
        "        print(bajo, alto, '|', med)\n",
        "        if nums[med] == x:\n",
        "            return med\n",
        "        elif nums[med] > x:\n",
        "            alto = med - 1\n",
        "        else:\n",
        "            bajo = med + 1\n",
        "    return -1"
      ]
    },
    {
      "cell_type": "code",
      "execution_count": 2,
      "id": "b70d0fe2",
      "metadata": {
        "id": "b70d0fe2"
      },
      "outputs": [],
      "source": [
        "#     0   1   2   3   4   5   6   7   8   9\n",
        "S = [11, 17, 26, 28, 37, 45, 53, 59, 81, 72]"
      ]
    },
    {
      "cell_type": "code",
      "execution_count": 3,
      "id": "0eac47a4",
      "metadata": {
        "id": "0eac47a4",
        "colab": {
          "base_uri": "https://localhost:8080/"
        },
        "outputId": "fc1f1149-2082-4ad1-9e23-4f3f8a82c327"
      },
      "outputs": [
        {
          "output_type": "stream",
          "name": "stdout",
          "text": [
            "Diga el número a buscar: 81\n",
            "0 9 | 4\n",
            "5 9 | 7\n",
            "8 9 | 8\n",
            "En S, 81 esta en la posicion 8.\n"
          ]
        }
      ],
      "source": [
        "# buscar 28\n",
        "x = int(input(\"Diga el número a buscar: \"))\n",
        "pos = busqueda_binaria(S, x)\n",
        "print(f\"En S, {x} esta en la posicion {pos}.\")"
      ]
    },
    {
      "cell_type": "code",
      "execution_count": null,
      "id": "1ae592ee",
      "metadata": {
        "id": "1ae592ee"
      },
      "outputs": [],
      "source": [
        "# buscar 77\n",
        "x = int(input(\"Diga el número a buscar: \"))\n",
        "pos = busqueda_binaria(S, x)\n",
        "print(f\"En S, {x} esta en la posicion {pos}.\")"
      ]
    },
    {
      "cell_type": "code",
      "execution_count": null,
      "id": "523d14a2",
      "metadata": {
        "id": "523d14a2"
      },
      "outputs": [],
      "source": [
        "###  Ejercicio Mental\n",
        "\n",
        "from random import randint\n",
        "\n",
        "maximo = 100 #int(input(\"Diga el número máximo: \"))\n",
        "numero = 51  #randint(1, maximo)\n",
        "\n",
        "bajo, alto = 1, maximo\n",
        "contador = 0\n",
        "\n",
        "while bajo <= alto:\n",
        "    contador += 1\n",
        "    med = (bajo + alto) // 2\n",
        "    if med == numero:\n",
        "        break\n",
        "    elif med > numero:\n",
        "        alto = med - 1\n",
        "    else:\n",
        "        bajo = med + 1\n",
        "\n",
        "print (f\"Tu número es: {med}\", numero==med)\n",
        "###  ¿Cuantas busquedas?\n",
        "print (f\"Total de busquedas: {contador}\")"
      ]
    },
    {
      "cell_type": "markdown",
      "id": "fde45e85",
      "metadata": {
        "id": "fde45e85"
      },
      "source": [
        "___\n",
        "# Unit 26: Tablas Hash\n",
        "\n",
        "**Def. diapositiva 241.**"
      ]
    },
    {
      "cell_type": "markdown",
      "source": [
        "[Video explicativo](https://www.youtube.com/watch?v=9tZsDJ3JBUA)"
      ],
      "metadata": {
        "id": "zOxrhgcH4s5v"
      },
      "id": "zOxrhgcH4s5v"
    },
    {
      "cell_type": "markdown",
      "id": "0bfb2ef4",
      "metadata": {
        "id": "0bfb2ef4"
      },
      "source": [
        "| I | V | X | L | C | D | M |\n",
        "|:-:|:-:|:-:|:-:|:-:|:-:|:-:|\n",
        "1 | 5 | 10 | 50 | 100 | 500 | 1000 |"
      ]
    },
    {
      "cell_type": "code",
      "execution_count": null,
      "id": "4d759105",
      "metadata": {
        "id": "4d759105"
      },
      "outputs": [],
      "source": [
        "def roman_a_int(romano):\n",
        "    tabla = {'I':1, 'V':5, 'X':10, 'L':50, 'C':100, 'D':500, 'M':1000}\n",
        "    result = 0\n",
        "    for i in range(len(romano) - 1): # IV\n",
        "        if tabla[ romano[i] ] < tabla[ romano[i+1] ]:\n",
        "            result -= tabla[ romano[i] ]\n",
        "        else:\n",
        "            result += tabla[ romano[i] ]\n",
        "    return  result +  tabla[ romano[-1] ]"
      ]
    },
    {
      "cell_type": "code",
      "execution_count": null,
      "id": "ac48a4ed",
      "metadata": {
        "id": "ac48a4ed"
      },
      "outputs": [],
      "source": [
        "table = {'I':1, 'V':5, 'X':10, 'L':50, 'C':100, 'D':500, 'M':1000}\n",
        "roman = input(\"Diga un número Romano: \") # MCDXLIV MCMXCIX\n",
        "number = roman_a_int(roman)\n",
        "print(number)"
      ]
    },
    {
      "cell_type": "markdown",
      "id": "04b614cd",
      "metadata": {
        "id": "04b614cd"
      },
      "source": [
        "![hash_1.png](attachment:hash_1.png)"
      ]
    },
    {
      "cell_type": "markdown",
      "id": "10b24845",
      "metadata": {
        "id": "10b24845"
      },
      "source": [
        "![hash_2.png](attachment:hash_2.png)"
      ]
    },
    {
      "cell_type": "code",
      "execution_count": null,
      "id": "f1a77ce5",
      "metadata": {
        "id": "f1a77ce5"
      },
      "outputs": [],
      "source": [
        "class HashTable:\n",
        "\n",
        "    def __init__(self, size):\n",
        "        self.size = size\n",
        "        self.table = {}\n",
        "        for i in range(size):\n",
        "            self.table[i] = []\n",
        "\n",
        "    def hash(self, key):\n",
        "        return key % self.size\n",
        "\n",
        "    def put(self, key, value):\n",
        "        bucket = self.table[self.hash(key)]\n",
        "        if value not in bucket:\n",
        "            bucket.append(value)\n",
        "\n",
        "    def get(self, key):\n",
        "        return self.table[self.hash(key)]"
      ]
    },
    {
      "cell_type": "code",
      "execution_count": null,
      "id": "619bc54c",
      "metadata": {
        "id": "619bc54c"
      },
      "outputs": [],
      "source": [
        "table = HashTable(8)\n",
        "book = \"The Little Prince\"\n",
        "key = sum(map(ord, book))\n",
        "table.put(key, book)\n",
        "for key in table.table.keys():\n",
        "    print(key, table.table[key])"
      ]
    },
    {
      "cell_type": "code",
      "execution_count": null,
      "id": "bca54496",
      "metadata": {
        "id": "bca54496"
      },
      "outputs": [],
      "source": [
        "books = [\n",
        "    \"The Old Man and the Sea\",\n",
        "    \"The Little Mermaid\",\n",
        "    \"Beauty and the Beast\",\n",
        "    \"The Last Leaf\",\n",
        "]\n",
        "for book in books:\n",
        "    key = sum(map(ord, book))\n",
        "    table.put(key, book)\n",
        "for key in table.table.keys():\n",
        "    print(key, table.table[key])"
      ]
    },
    {
      "cell_type": "code",
      "execution_count": null,
      "id": "29578f72",
      "metadata": {
        "id": "29578f72",
        "colab": {
          "base_uri": "https://localhost:8080/",
          "height": 247
        },
        "outputId": "16a68c34-fcfa-43af-bf6e-7c7f40079692"
      },
      "outputs": [
        {
          "output_type": "error",
          "ename": "NameError",
          "evalue": "name 'HashTable' is not defined",
          "traceback": [
            "\u001b[0;31m---------------------------------------------------------------------------\u001b[0m",
            "\u001b[0;31mNameError\u001b[0m                                 Traceback (most recent call last)",
            "\u001b[0;32m<ipython-input-5-b61411e70724>\u001b[0m in \u001b[0;36m<cell line: 10>\u001b[0;34m()\u001b[0m\n\u001b[1;32m      8\u001b[0m ]\n\u001b[1;32m      9\u001b[0m \u001b[0;34m\u001b[0m\u001b[0m\n\u001b[0;32m---> 10\u001b[0;31m \u001b[0mhash_\u001b[0m \u001b[0;34m=\u001b[0m \u001b[0mHashTable\u001b[0m\u001b[0;34m(\u001b[0m\u001b[0;36m10\u001b[0m\u001b[0;34m)\u001b[0m\u001b[0;34m\u001b[0m\u001b[0;34m\u001b[0m\u001b[0m\n\u001b[0m\u001b[1;32m     11\u001b[0m \u001b[0;32mfor\u001b[0m \u001b[0mbook\u001b[0m \u001b[0;32min\u001b[0m \u001b[0mbooks\u001b[0m\u001b[0;34m:\u001b[0m\u001b[0;34m\u001b[0m\u001b[0;34m\u001b[0m\u001b[0m\n\u001b[1;32m     12\u001b[0m     \u001b[0mkey\u001b[0m \u001b[0;34m=\u001b[0m \u001b[0msum\u001b[0m\u001b[0;34m(\u001b[0m\u001b[0mmap\u001b[0m\u001b[0;34m(\u001b[0m\u001b[0mord\u001b[0m\u001b[0;34m,\u001b[0m \u001b[0mbook\u001b[0m\u001b[0;34m)\u001b[0m\u001b[0;34m)\u001b[0m\u001b[0;34m\u001b[0m\u001b[0;34m\u001b[0m\u001b[0m\n",
            "\u001b[0;31mNameError\u001b[0m: name 'HashTable' is not defined"
          ]
        }
      ],
      "source": [
        "books = [\n",
        "    \"The Little Prince\",\n",
        "    \"The Old Man and the Sea\",\n",
        "    \"The Little Mermaid\",\n",
        "    \"Beauty and the Beast\",\n",
        "    \"The Last Leaf\",\n",
        "    \"Alice in WonderLand\",\n",
        "]\n",
        "\n",
        "hash_ = HashTable(10)\n",
        "for book in books:\n",
        "    key = sum(map(ord, book))\n",
        "    hash_.put(key, book)\n",
        "for k,v in hash_.table.items():\n",
        "    print(k, v)"
      ]
    }
  ],
  "metadata": {
    "kernelspec": {
      "display_name": "Python 3 (ipykernel)",
      "language": "python",
      "name": "python3"
    },
    "language_info": {
      "codemirror_mode": {
        "name": "ipython",
        "version": 3
      },
      "file_extension": ".py",
      "mimetype": "text/x-python",
      "name": "python",
      "nbconvert_exporter": "python",
      "pygments_lexer": "ipython3",
      "version": "3.10.12"
    },
    "colab": {
      "provenance": []
    }
  },
  "nbformat": 4,
  "nbformat_minor": 5
}