{
 "cells": [
  {
   "cell_type": "markdown",
   "id": "5d671b98",
   "metadata": {},
   "source": [
    "# Coding and Programming\n",
    "> Estudiante: Edwin Romman.\n",
    "> Classe: Lunes y Miercoles.\n",
    "\n",
    "\n",
    "## Capítulo 4\n",
    "\n",
    "### Estructuras de Datos\n",
    "\n",
    "- **Unidad 17.** Pila\n",
    "- **Unidad 18.** Cola\n",
    "- **Unidad 19.** Búsqueda Binaria\n",
    "- **Unidad 20.** Tabla Hash\n",
    "\n",
    "# Quiz 4"
   ]
  },
  {
   "cell_type": "markdown",
   "id": "2e42031a",
   "metadata": {},
   "source": [
    "___"
   ]
  },
  {
   "cell_type": "markdown",
   "id": "33866775",
   "metadata": {},
   "source": [
    "## Q 22-01\n",
    "\n",
    "La siguiente es la implantación de una pila. ¿Cuál será el resultado del siguiente código?\n",
    "\n",
    "```\n",
    "stack = Stack()\n",
    "stack.push(\"Banana\")\n",
    "stack.push(\"Apple\")\n",
    "stack.push(\"Tomato\")\n",
    "stack.pop()\n",
    "stack.push(\"Strawberry\")\n",
    "stack.push(\"Grapes\")\n",
    "stack.pop()\n",
    "print(stack.stack)\n",
    "```\n",
    "\n",
    "**Respuesta:**"
   ]
  },
  {
   "cell_type": "code",
   "execution_count": null,
   "id": "48480f9a",
   "metadata": {},
   "outputs": [],
   "source": [
    "def main():\n",
    "    ''' \n",
    "    ## Q 22-01\n",
    "\n",
    "    La siguiente es la implantación de una pila. ¿Cuál será el resultado del siguiente código?\n",
    "    ```\n",
    "    ```\n",
    "    **Respuesta:**\n",
    "    ['Banana', 'Apple', 'Strawberry']\n",
    "    '''\n",
    "    class Stack():\n",
    "        def __init__(self) -> None:\n",
    "            self.internal_stack = []\n",
    "        \n",
    "        def is_empty(self) -> bool:\n",
    "            return True if len(self.internal_stack) == 0 else False\n",
    "        \n",
    "        def push(self, item: any):\n",
    "            self.internal_stack.append(item)\n",
    "            return item\n",
    "        \n",
    "        def pop(self):\n",
    "            return None if self.is_empty() else self.internal_stack.pop()\n",
    "    \n",
    "    stack = Stack()\n",
    "    stack.push(\"Banana\")\n",
    "    stack.push(\"Apple\")\n",
    "    stack.push(\"Tomato\")\n",
    "    stack.pop()\n",
    "    stack.push(\"Strawberry\")\n",
    "    stack.push(\"Grapes\")\n",
    "    stack.pop()\n",
    "    \n",
    "    print(stack.internal_stack)\n",
    "    \n",
    "    \n",
    "main()"
   ]
  },
  {
   "cell_type": "markdown",
   "id": "2dbba0e2",
   "metadata": {},
   "source": [
    "___"
   ]
  },
  {
   "cell_type": "markdown",
   "id": "8d8ca892",
   "metadata": {},
   "source": [
    "## Q 22-02\n",
    "\n",
    "La siguiente es la implantación de una pila. ¿Cuál será el resultado del siguiente código?\n",
    "\n",
    "```\n",
    "stack = Stack()\n",
    "items = [10 * i for i in range(1,10)]\n",
    "for item in items:\n",
    "    stack.push(item)\n",
    "    if (item // 10) % 2 == 0:\n",
    "        stack.pop()\n",
    "print(stack.stack)\n",
    "```\n",
    "\n",
    "**Respuesta:**"
   ]
  },
  {
   "cell_type": "code",
   "execution_count": null,
   "id": "0e16d489",
   "metadata": {},
   "outputs": [],
   "source": [
    "def main_02():\n",
    "    \"\"\"\n",
    "    ## Q 22-02\n",
    "    La siguiente es la implantación de una pila. ¿Cuál será el resultado del siguiente código?\n",
    "    \"\"\"\n",
    "    class Stack():\n",
    "        def __init__(self) -> None:\n",
    "            self.internal_stack = []\n",
    "        \n",
    "        def is_empty(self) -> bool:\n",
    "            return True if len(self.internal_stack) == 0 else False\n",
    "        \n",
    "        def push(self, item: any):\n",
    "            self.internal_stack.append(item)\n",
    "            return item\n",
    "        \n",
    "        def pop(self):\n",
    "            return None if self.is_empty() else self.internal_stack.pop()\n",
    "        \n",
    "        def __str__(self):\n",
    "            return str(self.internal_stack)\n",
    "        \n",
    "    stack = Stack()\n",
    "    items = [10 * i for i in range(1,10)]\n",
    "    for item in items:\n",
    "        stack.push(item)\n",
    "        if (item // 10) % 2 == 0:\n",
    "            stack.pop()\n",
    "    print(stack)\n",
    "    \n",
    "main_02() \n",
    "# Retornara una lista de los impares desde el 10 al 90."
   ]
  },
  {
   "cell_type": "markdown",
   "id": "9c101740",
   "metadata": {},
   "source": [
    "___"
   ]
  },
  {
   "cell_type": "markdown",
   "id": "490f04a8",
   "metadata": {},
   "source": [
    "## Q 23-01\n",
    "\n",
    "La siguiente es la implantación de una pila. ¿Cuál será el resultado del siguiente código?\n",
    "\n",
    "```\n",
    "queue = Queue()\n",
    "queue.enqueue(\"Banana\")\n",
    "queue.enqueue(\"Apple\")\n",
    "queue.enqueue(\"Tomato\")\n",
    "queue.dequeue()\n",
    "queue.enqueue(\"Strawberry\")\n",
    "queue.enqueue(\"Grapes\")\n",
    "queue.dequeue()\n",
    "print(queue.queue)\n",
    "```\n",
    "\n",
    "**Respuesta:**"
   ]
  },
  {
   "cell_type": "code",
   "execution_count": null,
   "id": "a5dd6f3b",
   "metadata": {},
   "outputs": [],
   "source": [
    "def main_03():\n",
    "    ''' \n",
    "    ## Q 23-01\n",
    "    La siguiente es la implantación de una pila. ¿Cuál será el resultado del siguiente código?\n",
    "    '''\n",
    "    \n",
    "    class Queue():\n",
    "        def __init__(self) -> None:\n",
    "            self._queue = []\n",
    "\n",
    "        def enqueue(self, item: any):\n",
    "            self._queue.append(item)\n",
    "            return item\n",
    "        \n",
    "        def dequeue(self):\n",
    "            return None if self.is_empty() else self._queue.pop(0)\n",
    "        \n",
    "        def is_empty(self):\n",
    "            return True if len(self._queue) == 0 else False\n",
    "        \n",
    "        def clear(self):\n",
    "            self._queue.clear()\n",
    "        \n",
    "        def __repr__(self) -> str:\n",
    "            return str(self._queue)\n",
    "            \n",
    "    queue = Queue()\n",
    "    queue.enqueue(\"Banana\")\n",
    "    queue.enqueue(\"Apple\")\n",
    "    queue.enqueue(\"Tomato\")\n",
    "    queue.dequeue()\n",
    "    queue.enqueue(\"Strawberry\")\n",
    "    queue.enqueue(\"Grapes\")\n",
    "    queue.dequeue()\n",
    "    print(queue) \n",
    "    # ['Tomato', 'Strawberry', 'Grapes']\n",
    "    \n",
    "main_03()"
   ]
  },
  {
   "cell_type": "markdown",
   "id": "4811d8fa",
   "metadata": {},
   "source": [
    "___"
   ]
  },
  {
   "cell_type": "markdown",
   "id": "680514b8",
   "metadata": {},
   "source": [
    "## Q 23-02\n",
    "\n",
    "La siguiente es la implantación de una cola. ¿Cuál será el resultado del siguiente código?\n",
    "\n",
    "```\n",
    "queue = Queue()\n",
    "items = [10 * i for i in range(1,10)]\n",
    "for item in items:\n",
    "    queue.enqueue(item)\n",
    "    if (item // 10) % 2 == 0:\n",
    "        queue.dequeue()\n",
    "print(queue.queue)\n",
    "```\n",
    "\n",
    "**Respuesta:**"
   ]
  },
  {
   "cell_type": "code",
   "execution_count": null,
   "id": "5ce718ae",
   "metadata": {},
   "outputs": [],
   "source": [
    "def main_04():\n",
    "    ''' \n",
    "    ## Q 23-02\n",
    "\n",
    "    La siguiente es la implantación de una cola. ¿Cuál será el resultado del siguiente código?\n",
    "\n",
    "    **Respuesta:**\n",
    "    '''\n",
    "    class Queue():\n",
    "        def __init__(self) -> None:\n",
    "            self._queue = []\n",
    "\n",
    "        def enqueue(self, item: any):\n",
    "            self._queue.append(item)\n",
    "            return item\n",
    "        \n",
    "        def dequeue(self):\n",
    "            return None if self.is_empty() else self._queue.pop(0)\n",
    "        \n",
    "        def is_empty(self):\n",
    "            return True if len(self._queue) == 0 else False\n",
    "        \n",
    "        def clear(self):\n",
    "            self._queue.clear()\n",
    "        \n",
    "        def __repr__(self) -> str:\n",
    "            return str(self._queue)\n",
    "            \n",
    "    \n",
    "    queue = Queue()\n",
    "    items = [10 * i for i in range(1,10)]\n",
    "    for item in items:\n",
    "        queue.enqueue(item)\n",
    "        if (item // 10) % 2 == 0:\n",
    "            queue.dequeue()\n",
    "    print(queue)\n",
    "    \n",
    "main_04() # [50, 60, 70, 80, 90]"
   ]
  },
  {
   "cell_type": "markdown",
   "id": "b16e0741",
   "metadata": {},
   "source": [
    "___"
   ]
  },
  {
   "cell_type": "markdown",
   "id": "5f2fe9e8",
   "metadata": {},
   "source": [
    "## Q 24-01\n",
    "\n",
    "¿Cuál es el algoritmo de la siguiente función `find_two()`?\n",
    "```\n",
    "def find_two():\n",
    "    x = y = 0\n",
    "    for i in range(1, len(nums)):\n",
    "        if nums[x] < nums[i]:\n",
    "            x = i\n",
    "        elif nums[y] > nums[i]:\n",
    "            y = i\n",
    "    return x,y\n",
    "\n",
    "nums = [11, 37, 45, 26, 59, 28, 17, 53]\n",
    "i,j = find_two(nums)\n",
    "print(nums[i], nums[j])\n",
    "```\n",
    "Analice el código y escriba el resultado de la ejecución."
   ]
  },
  {
   "cell_type": "code",
   "execution_count": null,
   "id": "85d945bc",
   "metadata": {},
   "outputs": [],
   "source": [
    "def main_05():\n",
    "    ''' \n",
    "    ## Q 24-01\n",
    "\n",
    "    ¿Cuál es el algoritmo de la siguiente función `find_two()`?\n",
    "    ```\n",
    "    RESPUESTA: El mismo utiliza un algoritmo de busqueda de secuencia para determinar el valor minimo y maximo de valores dentro de un arreglo numerico.\n",
    "    \n",
    "    ```\n",
    "    Analice el código y escriba el resultado de la ejecución.\n",
    "    RESPUESTA: Como respuestas tenemos dos valores que representaran el valor minimo y maximo encontrado.\n",
    "    '''\n",
    "    def find_two(nums):\n",
    "        x = y = 0\n",
    "        for i in range(1, len(nums)):\n",
    "            if nums[x] < nums[i]:\n",
    "                x = i\n",
    "            elif nums[y] > nums[i]:\n",
    "                y = i\n",
    "        return x,y\n",
    "\n",
    "    nums = [11, 37, 45, 26, 59, 28, 17, 53]\n",
    "    i,j = find_two(nums)\n",
    "    print(nums[i], nums[j])\n",
    "\n",
    "\n",
    "main_05()"
   ]
  },
  {
   "cell_type": "markdown",
   "id": "bba31171",
   "metadata": {},
   "source": [
    "___"
   ]
  },
  {
   "cell_type": "markdown",
   "id": "36e47747",
   "metadata": {},
   "source": [
    "## Q 24-02\n",
    "\n",
    "¿Cuántas comparaciones debe realizar la función `find_two()` implementada en la pregunta anterior (24-01)?"
   ]
  },
  {
   "cell_type": "markdown",
   "id": "560f7505",
   "metadata": {},
   "source": [
    "##### *Respuesta:* Con el escenario propuesto se realizaron 3 secuencia de busqueda."
   ]
  },
  {
   "cell_type": "code",
   "execution_count": null,
   "id": "e94bea46",
   "metadata": {},
   "outputs": [],
   "source": [
    "def find_two(nums):\n",
    "        x = y = 0\n",
    "        counter = 0\n",
    "        \n",
    "        for i in range(1, len(nums)):\n",
    "            if nums[x] < nums[i]:\n",
    "                x = i\n",
    "                counter += 1\n",
    "            elif nums[y] > nums[i]:\n",
    "                y = i\n",
    "                counter += 1\n",
    "        print(\"How many step do we made to find the solution? \", counter)\n",
    "        return x,y\n",
    "\n",
    "nums = [11, 37, 45, 26, 59, 28, 17, 53]\n",
    "i,j = find_two(nums)\n",
    "print(nums[i], nums[j])"
   ]
  },
  {
   "cell_type": "markdown",
   "id": "976b7b8e",
   "metadata": {},
   "source": [
    "___"
   ]
  },
  {
   "cell_type": "markdown",
   "id": "9fffd532",
   "metadata": {},
   "source": [
    "## Q 25-01\n",
    "\n",
    "El siguiente es el código para el juego de combinación de números.\n",
    "\n",
    "Si el máximo es 100 y el número es 51, ¿cuál es la salida de `count`?\n",
    "```\n",
    "from random import randint\n",
    "\n",
    "maximo = int(input(\"Ingrese el número maximo: \"))\n",
    "numero = int(input(\"Ingrese tu intento de adivinar el numero: \"))\n",
    "low, high = 1, maximo\n",
    "count = 0\n",
    "while low < high:\n",
    "    count += 1\n",
    "    mid = (low + high) // 2\n",
    "    if mid == numero:\n",
    "        print(f\"El número es {numero}\")\n",
    "        break\n",
    "    elif mid > numero:\n",
    "        high = mid - 1\n",
    "    else:\n",
    "        low  = mid + 1\n",
    "\n",
    "print(f\"Total {count} veces fue buscado.\")\n",
    "```"
   ]
  },
  {
   "cell_type": "markdown",
   "id": "ba2fef5c",
   "metadata": {},
   "source": [
    "#### Resultado: Como resultado obtuve 6 veces o ciclos de iteración."
   ]
  },
  {
   "cell_type": "code",
   "execution_count": null,
   "id": "3b2ea8fa",
   "metadata": {},
   "outputs": [],
   "source": [
    "def main_06():\n",
    "    ''' \n",
    "    El siguiente es el código para el juego de combinación de números.\n",
    "    Si el máximo es 100 y el número es 51, ¿cuál es la salida de `count`?\n",
    "    \n",
    "    Como resultado obtuve 6 veces o ciclos de iteración.\n",
    "    \n",
    "    ``` '''\n",
    "    maximo = int(input(\"Ingrese el número maximo: \"))\n",
    "    numero = int(input(\"Ingrese tu intento de adivinar el numero: \"))\n",
    "    low, high = 1, maximo\n",
    "    count = 0\n",
    "    while low < high:\n",
    "        count += 1\n",
    "        mid = (low + high) // 2\n",
    "        if mid == numero:\n",
    "            print(f\"El número es {numero}\")\n",
    "            break\n",
    "        elif mid > numero:\n",
    "            high = mid - 1\n",
    "        else:\n",
    "            low  = mid + 1\n",
    "\n",
    "    print(f\"Total {count} veces fue buscado.\")\n",
    "\n",
    "main_06()"
   ]
  },
  {
   "cell_type": "markdown",
   "id": "c29e1c0c",
   "metadata": {},
   "source": [
    "___"
   ]
  },
  {
   "cell_type": "markdown",
   "id": "c185d96c",
   "metadata": {},
   "source": [
    "## Q 25-02\n",
    "\n",
    "En el código del juego de combinación de números, si el máximo es 100 y el número es 25, ¿cuál es el resultado del conteo?"
   ]
  },
  {
   "cell_type": "markdown",
   "id": "27353ddf",
   "metadata": {},
   "source": [
    "##### Mi respuesta:\n",
    "> El resultado de esta ejecución se completo en 2 ciclos de iteración, el algoritmo utilizado fue una busqueda binaria con el fin de acortar el paso con un valor intermedio de referencia."
   ]
  },
  {
   "cell_type": "markdown",
   "id": "662d5bfd",
   "metadata": {},
   "source": [
    "___"
   ]
  },
  {
   "cell_type": "markdown",
   "id": "eb266a1e",
   "metadata": {},
   "source": [
    "## Q 26-01\n",
    "\n",
    "Usando la función hash de la clase HashTable, calcule la clave y la clave hash de \"Alicia en el país de las maravillas\" de la siguiente manera. (El valor clave es 1763.)\n",
    "```\n",
    "table = HashTable(8)\n",
    "book  = \"Alice in Wonderland\"\n",
    "key = sum(map(ord, book))\n",
    "print(key, table.hash(key))\n",
    "```"
   ]
  },
  {
   "cell_type": "code",
   "execution_count": null,
   "id": "11b386b3",
   "metadata": {},
   "outputs": [],
   "source": [
    "def main_07():\n",
    "    ''' \n",
    "      Usando la función hash de la clase HashTable, calcule la clave y la clave hash de \"Alicia en el país de las maravillas\"\n",
    "      de la siguiente manera. (El valor clave es 1763.)\n",
    "    '''\n",
    "    class HashTable:\n",
    "    \n",
    "        def __init__(self, size):\n",
    "            self.size = size\n",
    "            self.table = {}\n",
    "            for i in range(size):\n",
    "                self.table[i] = []\n",
    "\n",
    "        def hash(self, key):\n",
    "            return key % self.size\n",
    "\n",
    "        def put(self, key, value):\n",
    "            bucket = self.table[self.hash(key)]\n",
    "            if value not in bucket:\n",
    "                bucket.append(value)\n",
    "\n",
    "        def get(self, key):\n",
    "            return self.table[self.hash(key)]\n",
    "    \n",
    "    table = HashTable(8)\n",
    "    book  = \"Alice in Wonderland\"\n",
    "    key = sum(map(ord, book))\n",
    "    print(key, table.hash(key))"
   ]
  },
  {
   "cell_type": "markdown",
   "id": "4ed48ef3",
   "metadata": {},
   "source": []
  },
  {
   "cell_type": "markdown",
   "id": "6ef27d31",
   "metadata": {},
   "source": [
    "___"
   ]
  },
  {
   "cell_type": "markdown",
   "id": "d4fd6f63",
   "metadata": {},
   "source": [
    "## Q 26-02\n",
    "\n",
    "Si la nueva estantería tiene 10 compartimentos, usa el siguiente código para averiguar qué libro hay en cada compartimento.\n",
    "```\n",
    "table = HashTable(10)\n",
    "books = [\n",
    "    \"The Little Prince\",\n",
    "    \"The Old Man and the Sea\",\n",
    "    \"The Little Memaid\",\n",
    "    \"Beauty and the Beast\",\n",
    "    \"The Last Leaf\",\n",
    "    \"Alice in Wonderland\",\n",
    "]\n",
    "\n",
    "for book in books:\n",
    "    key = sum(map(ord, book))\n",
    "    table.put(key, book)\n",
    "\n",
    "for key in table.table.key():\n",
    "    print(key, table.table[key])\n",
    "```"
   ]
  },
  {
   "cell_type": "code",
   "execution_count": null,
   "id": "a8653ccb",
   "metadata": {},
   "outputs": [],
   "source": [
    "class HashTable:\n",
    "    \n",
    "    def __init__(self, size):\n",
    "        self.size = size\n",
    "        self.table = {}\n",
    "        for i in range(size):\n",
    "            self.table[i] = []\n",
    "\n",
    "    def hash(self, key):\n",
    "        return key % self.size\n",
    "\n",
    "    def put(self, key, value):\n",
    "        bucket = self.table[self.hash(key)]\n",
    "        if value not in bucket:\n",
    "            bucket.append(value)\n",
    "\n",
    "    def get(self, key):\n",
    "        return self.table[self.hash(key)]\n",
    "\n",
    "table = HashTable(10)\n",
    "books = [\n",
    "    \"The Little Prince\",\n",
    "    \"The Old Man and the Sea\",\n",
    "    \"The Little Memaid\",\n",
    "    \"Beauty and the Beast\",\n",
    "    \"The Last Leaf\",\n",
    "    \"Alice in Wonderland\",\n",
    "]\n",
    "\n",
    "for book in books:\n",
    "    key = sum(map(ord, book))\n",
    "    table.put(key, book)\n",
    "\n",
    "for key in table.table.key():\n",
    "    print(key, table.table[key])"
   ]
  },
  {
   "cell_type": "markdown",
   "id": "574b1c0f",
   "metadata": {},
   "source": [
    "___"
   ]
  },
  {
   "cell_type": "markdown",
   "id": "7f165fb5",
   "metadata": {},
   "source": [
    "# Fin"
   ]
  }
 ],
 "metadata": {
  "kernelspec": {
   "display_name": "Python 3 (ipykernel)",
   "language": "python",
   "name": "python3"
  },
  "language_info": {
   "codemirror_mode": {
    "name": "ipython",
    "version": 3
   },
   "file_extension": ".py",
   "mimetype": "text/x-python",
   "name": "python",
   "nbconvert_exporter": "python",
   "pygments_lexer": "ipython3",
   "version": "3.10.12"
  }
 },
 "nbformat": 4,
 "nbformat_minor": 5
}
