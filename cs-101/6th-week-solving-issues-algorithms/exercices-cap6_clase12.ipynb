{
 "cells": [
  {
   "cell_type": "markdown",
   "id": "af248ceb",
   "metadata": {},
   "source": [
    "___\n",
    "# Unit 32: Programación Dinámica"
   ]
  },
  {
   "cell_type": "code",
   "execution_count": null,
   "id": "c2aab6ac",
   "metadata": {},
   "outputs": [],
   "source": [
    "def fib1(n):\n",
    "    if n == 0 or n == 1:\n",
    "        return n\n",
    "    else:\n",
    "        return fib1(n - 1) + fib1(n - 2)\n",
    "\n",
    "N = int(input(\"Input a number: \"))\n",
    "print(fib1(N))"
   ]
  },
  {
   "cell_type": "code",
   "execution_count": null,
   "id": "d14d9244",
   "metadata": {},
   "outputs": [],
   "source": [
    "F = {0:0, 1:1}\n",
    "\n",
    "def fib2(n):\n",
    "    if n in F:\n",
    "        return F[n]\n",
    "    else:\n",
    "        F[n] = fib2(n - 1) + fib2(n - 2)\n",
    "        return F[n]\n",
    "\n",
    "\n",
    "N = int(input(\"Input a number: \"))\n",
    "print(fib2(N))"
   ]
  },
  {
   "cell_type": "code",
   "execution_count": null,
   "id": "a459ff2b",
   "metadata": {},
   "outputs": [],
   "source": [
    "def fib3(F, n):\n",
    "    if n <= 1:\n",
    "        return F[n]\n",
    "    else:\n",
    "        if F[n] < 0:\n",
    "            F[n] = fib3(F, n - 1) + fib3(F, n - 2)\n",
    "        return F[n]\n",
    "\n",
    "\n",
    "N = int(input(\"Input a number: \"))\n",
    "F = [0,1] +[-1]*(N-1)\n",
    "print(fib3(N))"
   ]
  },
  {
   "cell_type": "code",
   "execution_count": null,
   "id": "097a29bc",
   "metadata": {},
   "outputs": [],
   "source": []
  },
  {
   "cell_type": "code",
   "execution_count": null,
   "id": "d2befd5a",
   "metadata": {},
   "outputs": [],
   "source": [
    "def bin1(n, k):\n",
    "    if k == 0 or n == k:\n",
    "        return 1\n",
    "    else:\n",
    "        return bin1(n - 1, k - 1) + bin1(n - 1, k)\n",
    "\n",
    "\n",
    "n = int(input(\"Input the value of n: \"))\n",
    "k = int(input(\"Input the value of k: \"))\n",
    "print(f\"binomial({n}, {k}) is {bin1(n, k)}\")\n"
   ]
  },
  {
   "cell_type": "code",
   "execution_count": null,
   "id": "42d07553",
   "metadata": {},
   "outputs": [],
   "source": [
    "def bin2(n, k):\n",
    "    B = [[0] * (i + 1) for i in range(n + 1)] \n",
    "    for i in range(n + 1):\n",
    "        for j in range(i + 1):\n",
    "            if j == 0 or j == i:\n",
    "                B[i][j] = 1\n",
    "            else:\n",
    "                B[i][j] = B[i - 1][j - 1] + B[i - 1][j]\n",
    "    return B[n][k]\n",
    "\n",
    "\n",
    "n = int(input(\"Input the value of n: \"))\n",
    "k = int(input(\"Input the value of k: \"))\n",
    "print(f\"binomial({n}, {k}) is {bin2(n, k)}\")"
   ]
  },
  {
   "cell_type": "code",
   "execution_count": null,
   "id": "9316fae1",
   "metadata": {},
   "outputs": [],
   "source": []
  },
  {
   "cell_type": "code",
   "execution_count": null,
   "id": "eec5d100",
   "metadata": {},
   "outputs": [],
   "source": [
    "###  Q1. Como es el rendimiento comparado con fib1, fib2 y fib3\n",
    "def fib4(n):\n",
    "    if n <= 1:\n",
    "        return n\n",
    "    else:\n",
    "        a, b = 0, 1\n",
    "        for i in range(2, n + 1):\n",
    "            a, b = b, a + b\n",
    "        return b\n",
    "\n",
    "\n",
    "N = int(input(\"Input a number: \"))\n",
    "print(fib4(N))"
   ]
  },
  {
   "cell_type": "code",
   "execution_count": null,
   "id": "5945de8d",
   "metadata": {},
   "outputs": [],
   "source": []
  },
  {
   "cell_type": "code",
   "execution_count": null,
   "id": "c0248303",
   "metadata": {},
   "outputs": [],
   "source": [
    "###  Q2. Como es el rendimiento comparado con bin1 y bin2\n",
    "def bin3(n, k):\n",
    "    B = [0] (n + 1)\n",
    "    for i in range(n + 1):\n",
    "        for j in range(n, -1, -1):\n",
    "            if j == 0 or j == i:\n",
    "                B[j] = 1\n",
    "            else:\n",
    "                B[j] = B[j] + B[j - 1]\n",
    "    return B[k]\n",
    "\n",
    "\n",
    "for i in range(10):\n",
    "    for j in range(i + 1):\n",
    "        print(bin3(i, j), end=\" \")\n",
    "    print()"
   ]
  },
  {
   "cell_type": "code",
   "execution_count": null,
   "id": "79886763",
   "metadata": {},
   "outputs": [],
   "source": []
  },
  {
   "cell_type": "code",
   "execution_count": null,
   "id": "18688c0f",
   "metadata": {},
   "outputs": [],
   "source": [
    "### Q3. Dados n enteros en una matriz unidimensional sucesiva,\n",
    "###  escriba un algoritmo que encuentre\n",
    "###  cuándo se maximiza la suma de los valores sucesivos de la matriz.\n",
    "\n",
    "S = [-2, 1, -2, 4, -1, 2, 1, -5, 4]\n",
    "M = maximum_subarray(S)\n",
    "print(M)"
   ]
  },
  {
   "cell_type": "markdown",
   "id": "f82e20d7",
   "metadata": {},
   "source": [
    "___\n",
    "# Unit 33: Backtracking (Retroceso)"
   ]
  },
  {
   "cell_type": "code",
   "execution_count": null,
   "id": "fdd0b157",
   "metadata": {},
   "outputs": [],
   "source": [
    "def n_queens (i, col):\n",
    "    if promising(i, col):\n",
    "        if i == len(col) - 1: # \n",
    "            print(col)\n",
    "        else:\n",
    "            for j in range(len(col)):\n",
    "                col[i+1] = j\n",
    "                n_queens(i + 1, col)\n",
    "\n",
    "def promising (i, col):\n",
    "    for k in range(i):\n",
    "        if col[i] == col[k] or abs(col[i] - col[k]) == (i - k): # misma columna, estan sobre la diagonal?\n",
    "            return False\n",
    "    return True\n",
    "\n",
    "\n",
    "\n",
    "N = int(input(\"Input the number of queens: \"))\n",
    "n_queens(-1, [-1] * N)"
   ]
  },
  {
   "cell_type": "code",
   "execution_count": null,
   "id": "a21716f7",
   "metadata": {},
   "outputs": [],
   "source": [
    "# i = -1, col = [0, -1, -1, -1], j = 0\n",
    "# r)i = 0, col = [0, 1, -1, -1], j = 2\n",
    "    # r) i = 1, col = [0, 2, -1, -1]\n",
    "col = [0, 0, -1, -1]\n",
    "i = 1\n",
    "for k in range(i):\n",
    "        if col[i] == col[k] or abs(col[i] - col[k]) == (i - k):\n",
    "            print(k)"
   ]
  },
  {
   "attachments": {
    "dfs-1.png": {
     "image/png": "[encoded data removed]"
    }
   },
   "cell_type": "markdown",
   "id": "00ba1ce9",
   "metadata": {},
   "source": [
    "![dfs-1.png](attachment:dfs-1.png)"
   ]
  },
  {
   "attachments": {
    "dfs-2.png": {
     "image/png": "[encoded data removed]"
    }
   },
   "cell_type": "markdown",
   "id": "8410917c",
   "metadata": {},
   "source": [
    "![dfs-2.png](attachment:dfs-2.png)"
   ]
  },
  {
   "attachments": {
    "dfs-laberinto-1.png": {
     "image/png": "[encoded data removed]"
    }
   },
   "cell_type": "markdown",
   "id": "f06abb3e",
   "metadata": {},
   "source": [
    "### Q1\n",
    "La matriz binaria N*N se da en un laberinto de la siguiente manera,\n",
    "\n",
    "y el ratón debe moverse desde la coordenada (0, 0) hasta la coordenada (N-1, N-1)\n",
    "![dfs-laberinto-1.png](attachment:dfs-laberinto-1.png)"
   ]
  },
  {
   "attachments": {
    "dfs-laberinto-2.png": {
     "image/png": "[encoded data removed]"
    }
   },
   "cell_type": "markdown",
   "id": "dd120954",
   "metadata": {},
   "source": [
    "![dfs-laberinto-2.png](attachment:dfs-laberinto-2.png)"
   ]
  },
  {
   "cell_type": "code",
   "execution_count": null,
   "id": "603fda7d",
   "metadata": {},
   "outputs": [],
   "source": [
    "maze = [\n",
    "    [0, 0, 0, 0],\n",
    "    [1, 0, 1, 0],\n",
    "    [1, 0, 1, 1],\n",
    "    [0, 0, 0, 0],\n",
    "]\n",
    "solve(maze)\n",
    "\n",
    "def solve(maze):\n",
    "    return "
   ]
  }
 ],
 "metadata": {
  "kernelspec": {
   "display_name": "Python 3 (ipykernel)",
   "language": "python",
   "name": "python3"
  },
  "language_info": {
   "codemirror_mode": {
    "name": "ipython",
    "version": 3
   },
   "file_extension": ".py",
   "mimetype": "text/x-python",
   "name": "python",
   "nbconvert_exporter": "python",
   "pygments_lexer": "ipython3",
   "version": "3.10.12"
  }
 },
 "nbformat": 4,
 "nbformat_minor": 5
}
