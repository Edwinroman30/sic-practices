{
 "cells": [
  {
   "cell_type": "markdown",
   "id": "49909eb6",
   "metadata": {},
   "source": [
    "# Coding and Programming\n",
    "*Edwin Roman, Rep. Dominicana. Lunes a Miércoles* \n",
    "\n",
    "## Capítulo 6\n",
    "\n",
    "### Resolución de problemas con algoritmos\n",
    "\n",
    "- **Unidad 30.** Enfoque Greedy algoritmos voraces o ávidos.\n",
    "- **Unidad 31.** Divide y vencerás\n",
    "- **Unidad 32.** Programación dinámica\n",
    "- **Unidad 33.** Backtracking\n"
   ]
  },
  {
   "cell_type": "markdown",
   "id": "2e42031a",
   "metadata": {},
   "source": [
    "___"
   ]
  },
  {
   "cell_type": "markdown",
   "id": "780f0fff",
   "metadata": {},
   "source": [
    "## Q 30-01\n",
    "\n",
    "Este es el problema del intercambio de monedas.\n",
    "\n",
    "Tienes una moneda de 400 wones.\n",
    "\n",
    "Escriba el resultado de cómo el algoritmo `coin_change()` determina el cambio de la moneda de 800 wones.\n",
    "```\n",
    "coins  = [500, 400, 100, 50, 10]\n",
    "amount = int(input(\"Ingrese la cantidad: \"))\n",
    "changes= coin_change(coins, amount)\n",
    "print(changes, len(changes))\n",
    "\n",
    "Ingrese la cantidad: 800\n",
    "```"
   ]
  },
  {
   "cell_type": "markdown",
   "id": "eaca0185",
   "metadata": {},
   "source": [
    "## Respuesta: [500, 100, 100, 100]"
   ]
  },
  {
   "cell_type": "code",
   "execution_count": null,
   "id": "82ded8a9",
   "metadata": {},
   "outputs": [],
   "source": [
    "''' \n",
    "Quiz\n",
    "En el problema del intercambio de monedas, supongamos que hay una moneda de 400 wones.\n",
    "Si es así, escriba el resultado de cómo el algoritmo coin_change() determinará el cambio de la moneda de 800 wones.\n",
    "\n",
    "## Respuesta: [500, 100, 100, 100]\n",
    "'''\n",
    "# A naive version.\n",
    "def changec_coin_greedy_approach(amount: int, coins: list):\n",
    "    # Selectation of the entry/input.\n",
    "    highter_amount_index = 0\n",
    "    finals_coins = []\n",
    "    \n",
    "    # Checking the it's correctness or the probability it has to satisfy the problem.\n",
    "    while amount > 0:\n",
    "        if coins[highter_amount_index] > amount:\n",
    "            highter_amount_index += 1\n",
    "        else:\n",
    "            finals_coins.append( coins[highter_amount_index] )\n",
    "            amount -= coins[highter_amount_index]\n",
    "    \n",
    "    # Verify if the given inputs, satisfy the problem. (When)\n",
    "    return finals_coins\n",
    "\n",
    "print(\"Result : \", changec_coin_greedy_approach(800, coins = [500, 400, 100, 50, 10]) )\n",
    "## Respuesta: [500, 100, 100, 100]"
   ]
  },
  {
   "cell_type": "markdown",
   "id": "ca15d3cf",
   "metadata": {},
   "source": [
    "___"
   ]
  },
  {
   "cell_type": "markdown",
   "id": "89395b47",
   "metadata": {},
   "source": [
    "## Q 31-01\n",
    "\n",
    "Tienes 8 monedas idénticas numeradas del 1 al 8. De estas, solo una moneda es más pesada que la otra.\n",
    "\n",
    "Suponiendo que puede pesar monedas con una balanza equilibrada, diseñe un algoritmo que encuentre la moneda más pesada.\n",
    "\n",
    "En este momento, ¿cuántas veces se debe usar al menos la balanza?"
   ]
  },
  {
   "cell_type": "markdown",
   "id": "8d05fa5e",
   "metadata": {},
   "source": [
    "**Respuestas:**\n",
    "Moneda de mayor peso:  8\n",
    "Las básculas comparativas se utilizaron:  7  veces."
   ]
  },
  {
   "cell_type": "code",
   "execution_count": null,
   "id": "ebc1667b",
   "metadata": {},
   "outputs": [],
   "source": [
    "def main02():\n",
    "    ''' \n",
    "    Q 31-01 - Tienes 8 monedas idénticas numeradas del 1 al 8. De estas, solo una moneda es más pesada que la otra.\n",
    "    Suponiendo que puede pesar monedas con una balanza equilibrada, diseñe un algoritmo que encuentre la moneda más pesada.\n",
    "    En este momento, ¿cuántas veces se debe usar al menos la balanza? \n",
    "    '''\n",
    "    coins = [1,2,3,4,5,6,7,8]\n",
    "    weighest = coins[0]\n",
    "    counter = 0\n",
    "    \n",
    "    for x in range(1, len(coins)):\n",
    "        \n",
    "        counter += 1\n",
    "        if coins[x] >= weighest:\n",
    "            weighest = coins[x]\n",
    "    print(\"Moneda de mayor peso: \", weighest)\n",
    "    print(\"Las básculas comparativas se utilizaron: \", counter, \" veces.\")\n",
    "    return weighest\n",
    "\n",
    "main02() #Esta fue una de las formas en la que los docentes dieron visto bueno como solución de implementación en clases durante la orientación."
   ]
  },
  {
   "cell_type": "markdown",
   "id": "59591983",
   "metadata": {},
   "source": [
    "**Respuestas:**\n",
    "Moneda de mayor peso:  8\n",
    "Las básculas comparativas se utilizaron:  7  veces."
   ]
  },
  {
   "cell_type": "markdown",
   "id": "9c37e736",
   "metadata": {},
   "source": [
    "___"
   ]
  },
  {
   "cell_type": "markdown",
   "id": "6f047403",
   "metadata": {},
   "source": [
    "## Q 31-02\n",
    "\n",
    "Hay nueve monedas idénticas numeradas del 1 al 9 en el problema anterior.\n",
    "\n",
    "Diseñe un algoritmo para encontrar una moneda pesada en este caso.\n",
    "\n",
    "En este momento, ¿cuántas veces se debe usar al menos la balanza?\n",
    "\n",
    "**Respuestas:**\n",
    "Moneda de mayor peso:  9 \n",
    "Las básculas comparativas se utilizaron:  8  veces."
   ]
  },
  {
   "cell_type": "code",
   "execution_count": null,
   "id": "ad6b165c",
   "metadata": {},
   "outputs": [],
   "source": [
    "def main02():\n",
    "    ''' \n",
    "    Q 31-01 - Tienes 8 monedas idénticas numeradas del 1 al 8. De estas, solo una moneda es más pesada que la otra.\n",
    "    Suponiendo que puede pesar monedas con una balanza equilibrada, diseñe un algoritmo que encuentre la moneda más pesada.\n",
    "    En este momento, ¿cuántas veces se debe usar al menos la balanza? \n",
    "    '''\n",
    "    coins = [1,2,3,4,5,6,7,8,9]\n",
    "    weighest = coins[0]\n",
    "    counter = 0\n",
    "    \n",
    "    for x in range(1, len(coins)):\n",
    "        \n",
    "        counter += 1\n",
    "        if coins[x] >= weighest:\n",
    "            weighest = coins[x]\n",
    "    print(\"Moneda de mayor peso: \", weighest)\n",
    "    print(\"Las básculas comparativas se utilizaron: \", counter, \" veces.\")\n",
    "    return weighest\n",
    "\n",
    "main02() \n",
    "#Esta fue una de las formas en la que los docentes dieron visto bueno como solución de implementación en clases durante la orientación."
   ]
  },
  {
   "cell_type": "markdown",
   "id": "4f424119",
   "metadata": {},
   "source": [
    "**Respuestas:**\n",
    "Moneda de mayor peso:  9 \n",
    "Las básculas comparativas se utilizaron:  8  veces."
   ]
  },
  {
   "cell_type": "markdown",
   "id": "0453c475",
   "metadata": {},
   "source": [
    "___"
   ]
  },
  {
   "cell_type": "markdown",
   "id": "881569fc",
   "metadata": {},
   "source": [
    "## Q 32-01\n",
    "\n",
    "Analice el resultado de la ejecución del siguiente código y compárelo con el rendimiento de las funciones `fib1()`, `fib2()` y `fib3()`.\n",
    "```\n",
    "''' Time complexity = O(n) '''\n",
    "\n",
    "def fib4(n):\n",
    "    if n <= 1:\n",
    "        return n\n",
    "    else:\n",
    "        a,b = 0,1\n",
    "        for i in range(2, n + 1):\n",
    "            a,b = b,a+b\n",
    "        return b\n",
    "\n",
    "N = int(input(\"Ingrese un numero: \"))\n",
    "print(fib4(N))\n",
    "\n",
    "Ingrese un numero:\n",
    "```"
   ]
  },
  {
   "cell_type": "markdown",
   "id": "25354b5c",
   "metadata": {},
   "source": [
    "### Respuestas abajo ⬇\n",
    "\n",
    "Mi opinión y respuesta respecto al implemantación de fib4:\n",
    "En comparación con las funciones o implemantaciones anteriores: fib1, fib2...fib3, esta implementación es \n",
    "altamente eficiente, clara y fácil es terminos de uso, utiliza un enfoque basado en bucle, la cual la manera\n",
    "de implemetar esta la hace más eficiente que las anteriores porque no necesita estructura de datos adicional\n",
    "como tecnica de memorización, este tiene una complejidad lineal O(n) la cual la hace ideal para el calculo\n",
    "cuando \"n\" tiende hacer un valor muy gran. Y que no comentar sobre la simplicidad y claridad que brinda este enfoque!\n",
    "100/100!"
   ]
  },
  {
   "cell_type": "code",
   "execution_count": null,
   "id": "ac277c56",
   "metadata": {},
   "outputs": [],
   "source": [
    "''' Fib1 '''\n",
    "''' Time complexity = O(2^n) '''\n",
    "def fib1(n : int):\n",
    "    if n == 0 or n == 1:\n",
    "        return n\n",
    "    else:\n",
    "        return fib1(n - 1) + fib1(n - 2)\n",
    "\n",
    "\n",
    "''' Fib2 -> Basado en la metodologia de programacion dinamica, esta utiliza las tecnica de meorizacion para trabajar los subproblemas superpuestos.\n",
    "\n",
    "Comparación con la función puramente recursiva \"fib1\": \n",
    "Debido a que cada valor de Fibonacci se calcula solo una vez y se almacena en la estructura de datos de memorización, la cantidad total de \n",
    "cálculos requeridos para calcular los números de Fibonacci de 0 a n es proporcional a n. Por lo tanto, la complejidad de tiempo de este algoritmo \n",
    "es lineal, es decir, O(n).\n",
    "\n",
    "Esto significa que el tiempo de ejecución del algoritmo aumenta linealmente con el tamaño de entrada n, lo que lo hace considerablemente más \n",
    "eficiente que el enfoque recursivo tradicional, especialmente para valores grandes de n.\n",
    "\n",
    "Time complexity = O(n) \n",
    "'''\n",
    "memorization = { 0 : 0, 1 : 1 }\n",
    "def fib2(n: int):\n",
    "    \n",
    "    if n in memorization: # ¿Es un subproblema superpuesto, revisa la memorización? \n",
    "        return memorization[n]\n",
    "    else:\n",
    "        memorization[n] = fib2(n - 2) + fib2(n - 1)\n",
    "        return memorization[n]\n",
    "\n",
    "\n",
    "''' Fib 3 -> Merorizacion basa en lista. Muy similar a la implementación anterior, lo unico que ahora hacemos unso usanestrucutra de datos distinta\n",
    "    Time complexity = O(n) -> Aun asi fib2 tiene algunas ventajas sobre esta implemnetacion cuando \"n\" tiende a ser grande.\n",
    "'''\n",
    "def fib3(memoizationList: list, n:int):\n",
    "    if n <= 1:\n",
    "       return memoizationList[n] # Si paso el condicinal quiere decir que hay un valor precompurado y memorizado. Valores bases de fib(0) o fib(1)\n",
    "    else:\n",
    "        if memoizationList[n] == None:\n",
    "            return memoizationList[n] # Si paso el condicinal quiere decir que hay un valor precompurado y memorizado.\n",
    "        \n",
    "        #Caso contrario, precomputar el fibonnaci.\n",
    "        memoizationList[n] = fib3(memoizationList, n - 2) + fib3(memoizationList, n - 1)\n",
    "        return memoizationList[n]\n",
    "\n",
    "n : int = 5 #input number\n",
    "memo = [0, 1] + [None] * (n - 1)\n",
    "\n",
    "fib3(memo, n)"
   ]
  },
  {
   "cell_type": "markdown",
   "id": "60d998bd",
   "metadata": {},
   "source": [
    "___"
   ]
  },
  {
   "cell_type": "markdown",
   "id": "1087c522",
   "metadata": {},
   "source": [
    "## Q 32-02\n",
    "\n",
    "Analice el resultado de la ejecución del siguiente código y compárelo con el rendimiento de las funciones `bin1()` y `bin2()`.\n",
    "```\n",
    "def bin3(n,k):\n",
    "    B = [0] * (n + 1)\n",
    "    for i in range(n + 1):\n",
    "        for j in range(n, -1, -1):\n",
    "            if j==0 or j==i:\n",
    "                B[j] = 1\n",
    "            else:\n",
    "                B[j] = B[j] B[j-1]\n",
    "    return B[k]\n",
    "\n",
    "\n",
    "for i in range(10):\n",
    "    for j in range(i+1):\n",
    "        print(bin3(i,j),end=\" \")\n",
    "    print()\n",
    "```"
   ]
  },
  {
   "cell_type": "markdown",
   "id": "a0df2e98",
   "metadata": {},
   "source": [
    "### Respuesta:\n",
    "Podría destinar la siguiente evaluación:\n",
    "- bin1 => O(2^n)\n",
    "- bin2 => O(n)\n",
    "- bin3 => O(n^2)\n",
    "\n",
    "Esto lo termino evaluando la morfologia de las funciones y los patrones que estas proyectan segun Big O notation, podria decir que bin2, seria la opcion mas eficiente seguida de bin3 y bin1. "
   ]
  },
  {
   "cell_type": "markdown",
   "id": "7cef2a44",
   "metadata": {},
   "source": [
    "___"
   ]
  },
  {
   "cell_type": "markdown",
   "id": "d36e67d4",
   "metadata": {},
   "source": [
    "## Q 33-01\n",
    "\n",
    "Si reemplaza cada letra con un número en la siguiente letra, el número correspondiente a las cinco palabras son todos cuadrados.\n",
    "\n",
    "Para cada palabra, la suma de cada dígito también es un número cuadrado.\n",
    "\n",
    "Encuentra el número representado por cada letra.\n",
    "\n",
    "**Código de referencia:**"
   ]
  },
  {
   "cell_type": "markdown",
   "id": "4aaaced0",
   "metadata": {},
   "source": [
    "**Nota:** Como comentado en la clase orientativas el objetivo de este ultimo ejercicio era ponerle en funcionamiento y comentar las funciones que componen a las mismas. El resultado esperado se encuentra en la parte baja y la comentación del código."
   ]
  },
  {
   "cell_type": "code",
   "execution_count": null,
   "id": "13991ae0",
   "metadata": {},
   "outputs": [],
   "source": [
    "\n",
    "from math import sqrt, floor # Importación de ciertas librerías especializadas de matemática para calcular raiz cuadrada y redondear.\n",
    "import time # Para fines de estimación del tiempo.\n",
    "\n",
    "\n",
    "def is_square_digitsum(n): # Utilizado para evaluar si el valor proporcionado es cuadratico, retorna si True si lo es, contrario False. \n",
    "    s = 0\n",
    "    while n > 0:\n",
    "        s += n % 10\n",
    "        n //= 10\n",
    "    if sqrt(s) == int(sqrt(s)):\n",
    "        return True\n",
    "    return False\n",
    "\n",
    "\n",
    "def find_all_squares(): # Retorna una lista de longitud de 5 elementos, de los cuadrados base 10, para ser utilizados en el remplazado de palabras.\n",
    "    sqrs = [[] for _ in range(5)]\n",
    "    for i in range(1, floor (sqrt(10 ** 5)) + 1):\n",
    "        n = i * i\n",
    "        if not is_square_digitsum(n): # Utiliza la funcion anterioremente comentada, cuya tarea es determinar si el valor proporcionado verdaderamente es cuadratico.\n",
    "            continue\n",
    "        s = str(n)\n",
    "        if len(s) == 3 and s[1] != s[2]:\n",
    "            continue\n",
    "        if len(s) == 5 and s[2] != s[3]:\n",
    "            continue\n",
    "        if len(s) in [4, 5] and len(set(s)) != 4:\n",
    "            continue\n",
    "        sqrs[len(s) - 1].append(n)\n",
    "    return sqrs # Lista de elementos cuadraticos.\n",
    "\n",
    "\n",
    "def promising (s, n, dic):\n",
    "    for i in range(len(s)):\n",
    "        digit = int(str(n)[i])\n",
    "        for key, value in dic.items():\n",
    "            if key == s[i] and value != digit:\n",
    "                return False\n",
    "            if value == digit and key != s[i]:\n",
    "                return False\n",
    "    return True\n",
    "\n",
    "\n",
    "def solve(words, dic, squares): # Su responsabilidad es asociar o establecer relación entre las palabras y los valores cuadraticos asignando estos mismos en un diccionario.\n",
    "    global solved \n",
    "    if (len(words) == 0):\n",
    "        solved = dic\n",
    "    else:\n",
    "        s = words[0]\n",
    "        candidates = squares[len(s) - 1]\n",
    "        for n in candidates:\n",
    "            if promising(s, n, dic):\n",
    "                newdic = dic.copy()\n",
    "                for i in range(len(s)):\n",
    "                    newdic[s[i]] = int(str(n)[i])\n",
    "                solve(words [1:], newdic, squares)\n",
    "\n",
    "        \n",
    "def main():\n",
    "    squares = find_all_squares()\n",
    "    # print(squares)\n",
    "    words = ['A', 'TO', 'ALL', 'XMAS', 'MERRY']\n",
    "    dic = {}\n",
    "    solve (words, dic, squares) # Como mencionada anteriormente, su trabajo es asociar o establecer relación entre las palabras y los valores cuadraticos asignando estos mismos en un diccionario.\n",
    "    for word in words:\n",
    "        print (word, end=\": \")\n",
    "        for c in word:\n",
    "            print(solved[c], end=\"\")\n",
    "        print()\n",
    "\n",
    "start = time.time() #Tiempo iniciar de ejecución\n",
    "solved = {}\n",
    "main() # Ejecución de las funciones asociadas, que permiten el resultado final.\n",
    "end = time.time() #Tiempo de finalización de la ejecución\n",
    "print(\"Elapsed Time:\", end-start,\"seconds\") # Tiempo neto.\n",
    "\n",
    "''' \n",
    "### Respuesta:\n",
    "\n",
    "Para A, TO, ALL, XMAS, MERY tenemos:\n",
    "\n",
    "A: 9\n",
    "TO: 81\n",
    "ALL: 900\n",
    "XMAS: 7396\n",
    "MERRY: 34225\n",
    "'''"
   ]
  },
  {
   "cell_type": "markdown",
   "id": "40909418",
   "metadata": {},
   "source": [
    "### Respuesta:\n",
    "\n",
    "Para A, TO, ALL, XMAS, MERY tenemos:\n",
    "\n",
    "A: 9\n",
    "TO: 81\n",
    "ALL: 900\n",
    "XMAS: 7396\n",
    "MERRY: 34225"
   ]
  },
  {
   "cell_type": "markdown",
   "id": "c89a96a3",
   "metadata": {},
   "source": [
    "### Fin = *Edwin Roman, Rep. Dominicana. Lunes a Miércoles* "
   ]
  },
  {
   "cell_type": "markdown",
   "id": "0a7153c2",
   "metadata": {},
   "source": [
    "<h1 align=\"center\">\n",
    "    Ejercicios propuestos por puntos extras:     \n",
    "</h1>"
   ]
  },
  {
   "attachments": {
    "image.png": {
     "image/png": "[encoded data removed]"
    }
   },
   "cell_type": "markdown",
   "id": "5d0a8679",
   "metadata": {},
   "source": [
    "<h1 align=\"center\">\n",
    "\n",
    "![image.png](attachment:image.png)\n",
    "    \n",
    "</h1>"
   ]
  },
  {
   "cell_type": "code",
   "execution_count": null,
   "id": "3e8ff601",
   "metadata": {},
   "outputs": [],
   "source": [
    "''' \n",
    "    By Edwin Roman, with love from Rep. Dominicana. Lunes a Miércoles\n",
    "'''\n",
    "data = [-2, 1, -3, 4, -1, 2, 1, -5, 4]\n",
    "\n",
    "def maximum_subarray(data_set: list):\n",
    "    max_storage = []\n",
    "    for idx, val in enumerate(data_set):\n",
    "        \n",
    "        if idx == len(data_set) - 1:\n",
    "            break\n",
    "        \n",
    "        tem_max_storage = []\n",
    "        for x in range(idx + 1, len(data_set)):\n",
    "            tem_max_storage.append( ([idx, x], sum(data_set[idx:x + 1])) )\n",
    "\n",
    "        tem_max_storage = sorted(tem_max_storage, key= lambda x: x[1], reverse= True)\n",
    "        max_storage.append( tem_max_storage[0] )\n",
    "    \n",
    "    return sorted( max_storage, key= lambda x: x[1], reverse= True )\n",
    "        \n",
    "        \n",
    "max_values = maximum_subarray(data) \n",
    "\n",
    "print(\"The possibles maximums values are: \", max_values)\n",
    "print(f\"The maximum sum serie is from {max_values[0][0]} and it value is  {max_values[0][1]}.\")\n",
    "print(\"By Edwin Roman, with love from Rep. Dominicana. Lunes a Miércoles\")"
   ]
  },
  {
   "cell_type": "markdown",
   "id": "d31d23cb",
   "metadata": {},
   "source": [
    "___"
   ]
  },
  {
   "cell_type": "markdown",
   "id": "c7ca704d",
   "metadata": {},
   "source": [
    "### Fin = *Edwin Roman, Rep. Dominicana. Lunes a Miércoles* "
   ]
  }
 ],
 "metadata": {
  "kernelspec": {
   "display_name": "Python 3 (ipykernel)",
   "language": "python",
   "name": "python3"
  },
  "language_info": {
   "codemirror_mode": {
    "name": "ipython",
    "version": 3
   },
   "file_extension": ".py",
   "mimetype": "text/x-python",
   "name": "python",
   "nbconvert_exporter": "python",
   "pygments_lexer": "ipython3",
   "version": "3.10.12"
  }
 },
 "nbformat": 4,
 "nbformat_minor": 5
}
