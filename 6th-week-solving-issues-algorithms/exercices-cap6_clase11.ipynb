{
  "cells": [
    {
      "cell_type": "markdown",
      "source": [
        "# Resolución de problemas con algoritmos"
      ],
      "metadata": {
        "id": "l1n01HihYwb2"
      },
      "id": "l1n01HihYwb2"
    },
    {
      "cell_type": "markdown",
      "source": [
        "### Unidad 30. Enfoque Greedy\n",
        "\n",
        "Técnica de diseño de alg. eficiente y sencilla.\n",
        "\n",
        "    - Resuelve problemas de optimización\n",
        "\n",
        "3 pasos:\n",
        "- Proceso de selección, elige sig. elem.\n",
        "- Comprobación de viabilidad, es apropiado?\n",
        "- Comprobación de solución, determina resp.\n"
      ],
      "metadata": {
        "id": "SOr-OMp1Y-wl"
      },
      "id": "SOr-OMp1Y-wl"
    },
    {
      "cell_type": "markdown",
      "source": [
        "##### Problema cambio de moneda\n",
        "\n",
        "Diseño alg. diap 26."
      ],
      "metadata": {
        "id": "hHgvPC8oZQTb"
      },
      "id": "hHgvPC8oZQTb"
    },
    {
      "cell_type": "code",
      "source": [
        "monedas = [500, 100, 50, 10]\n",
        "cant = int(input(\"Introduzca monto: \"))\n",
        "cambios = cambio_moneda(monedas, cant)\n",
        "print(cambios, len(cambios))"
      ],
      "metadata": {
        "colab": {
          "base_uri": "https://localhost:8080/",
          "height": 356
        },
        "id": "CBBQZIkdf1to",
        "outputId": "6f8c968d-dc62-4172-cd4e-22e7a516919e"
      },
      "id": "CBBQZIkdf1to",
      "execution_count": 3,
      "outputs": [
        {
          "output_type": "error",
          "ename": "KeyboardInterrupt",
          "evalue": "Interrupted by user",
          "traceback": [
            "\u001b[0;31m---------------------------------------------------------------------------\u001b[0m",
            "\u001b[0;31mKeyboardInterrupt\u001b[0m                         Traceback (most recent call last)",
            "\u001b[0;32m<ipython-input-3-5dc2301a9f80>\u001b[0m in \u001b[0;36m<cell line: 2>\u001b[0;34m()\u001b[0m\n\u001b[1;32m      1\u001b[0m \u001b[0mmonedas\u001b[0m \u001b[0;34m=\u001b[0m \u001b[0;34m[\u001b[0m\u001b[0;36m500\u001b[0m\u001b[0;34m,\u001b[0m \u001b[0;36m100\u001b[0m\u001b[0;34m,\u001b[0m \u001b[0;36m50\u001b[0m\u001b[0;34m,\u001b[0m \u001b[0;36m10\u001b[0m\u001b[0;34m]\u001b[0m\u001b[0;34m\u001b[0m\u001b[0;34m\u001b[0m\u001b[0m\n\u001b[0;32m----> 2\u001b[0;31m \u001b[0mcant\u001b[0m \u001b[0;34m=\u001b[0m \u001b[0mint\u001b[0m\u001b[0;34m(\u001b[0m\u001b[0minput\u001b[0m\u001b[0;34m(\u001b[0m\u001b[0;34m\"Introduzca monto: \"\u001b[0m\u001b[0;34m)\u001b[0m\u001b[0;34m)\u001b[0m\u001b[0;34m\u001b[0m\u001b[0;34m\u001b[0m\u001b[0m\n\u001b[0m\u001b[1;32m      3\u001b[0m \u001b[0mcambios\u001b[0m \u001b[0;34m=\u001b[0m \u001b[0mcambio_moneda\u001b[0m\u001b[0;34m(\u001b[0m\u001b[0mmonedas\u001b[0m\u001b[0;34m,\u001b[0m \u001b[0mcant\u001b[0m\u001b[0;34m)\u001b[0m\u001b[0;34m\u001b[0m\u001b[0;34m\u001b[0m\u001b[0m\n\u001b[1;32m      4\u001b[0m \u001b[0mprint\u001b[0m\u001b[0;34m(\u001b[0m\u001b[0mcambios\u001b[0m\u001b[0;34m,\u001b[0m \u001b[0mlen\u001b[0m\u001b[0;34m(\u001b[0m\u001b[0mcambios\u001b[0m\u001b[0;34m)\u001b[0m\u001b[0;34m)\u001b[0m\u001b[0;34m\u001b[0m\u001b[0;34m\u001b[0m\u001b[0m\n",
            "\u001b[0;32m/usr/local/lib/python3.10/dist-packages/ipykernel/kernelbase.py\u001b[0m in \u001b[0;36mraw_input\u001b[0;34m(self, prompt)\u001b[0m\n\u001b[1;32m    849\u001b[0m                 \u001b[0;34m\"raw_input was called, but this frontend does not support input requests.\"\u001b[0m\u001b[0;34m\u001b[0m\u001b[0;34m\u001b[0m\u001b[0m\n\u001b[1;32m    850\u001b[0m             )\n\u001b[0;32m--> 851\u001b[0;31m         return self._input_request(str(prompt),\n\u001b[0m\u001b[1;32m    852\u001b[0m             \u001b[0mself\u001b[0m\u001b[0;34m.\u001b[0m\u001b[0m_parent_ident\u001b[0m\u001b[0;34m,\u001b[0m\u001b[0;34m\u001b[0m\u001b[0;34m\u001b[0m\u001b[0m\n\u001b[1;32m    853\u001b[0m             \u001b[0mself\u001b[0m\u001b[0;34m.\u001b[0m\u001b[0m_parent_header\u001b[0m\u001b[0;34m,\u001b[0m\u001b[0;34m\u001b[0m\u001b[0;34m\u001b[0m\u001b[0m\n",
            "\u001b[0;32m/usr/local/lib/python3.10/dist-packages/ipykernel/kernelbase.py\u001b[0m in \u001b[0;36m_input_request\u001b[0;34m(self, prompt, ident, parent, password)\u001b[0m\n\u001b[1;32m    893\u001b[0m             \u001b[0;32mexcept\u001b[0m \u001b[0mKeyboardInterrupt\u001b[0m\u001b[0;34m:\u001b[0m\u001b[0;34m\u001b[0m\u001b[0;34m\u001b[0m\u001b[0m\n\u001b[1;32m    894\u001b[0m                 \u001b[0;31m# re-raise KeyboardInterrupt, to truncate traceback\u001b[0m\u001b[0;34m\u001b[0m\u001b[0;34m\u001b[0m\u001b[0m\n\u001b[0;32m--> 895\u001b[0;31m                 \u001b[0;32mraise\u001b[0m \u001b[0mKeyboardInterrupt\u001b[0m\u001b[0;34m(\u001b[0m\u001b[0;34m\"Interrupted by user\"\u001b[0m\u001b[0;34m)\u001b[0m \u001b[0;32mfrom\u001b[0m \u001b[0;32mNone\u001b[0m\u001b[0;34m\u001b[0m\u001b[0;34m\u001b[0m\u001b[0m\n\u001b[0m\u001b[1;32m    896\u001b[0m             \u001b[0;32mexcept\u001b[0m \u001b[0mException\u001b[0m \u001b[0;32mas\u001b[0m \u001b[0me\u001b[0m\u001b[0;34m:\u001b[0m\u001b[0;34m\u001b[0m\u001b[0;34m\u001b[0m\u001b[0m\n\u001b[1;32m    897\u001b[0m                 \u001b[0mself\u001b[0m\u001b[0;34m.\u001b[0m\u001b[0mlog\u001b[0m\u001b[0;34m.\u001b[0m\u001b[0mwarning\u001b[0m\u001b[0;34m(\u001b[0m\u001b[0;34m\"Invalid Message:\"\u001b[0m\u001b[0;34m,\u001b[0m \u001b[0mexc_info\u001b[0m\u001b[0;34m=\u001b[0m\u001b[0;32mTrue\u001b[0m\u001b[0;34m)\u001b[0m\u001b[0;34m\u001b[0m\u001b[0;34m\u001b[0m\u001b[0m\n",
            "\u001b[0;31mKeyboardInterrupt\u001b[0m: Interrupted by user"
          ]
        }
      ]
    },
    {
      "cell_type": "code",
      "source": [
        "def cambio_moneda(monedas, cant):\n",
        "    cambios = [] # 500, 100, 100,\n",
        "    mayor = 0 # 1\n",
        "    while cant > 0:\n",
        "        if cant < monedas[mayor]:\n",
        "            mayor += 1\n",
        "        else:\n",
        "            cambios.append(monedas[mayor])\n",
        "            cant -= monedas[mayor]   # cant = 170\n",
        "    return cambios"
      ],
      "metadata": {
        "id": "lo9WRcn3el2Q"
      },
      "id": "lo9WRcn3el2Q",
      "execution_count": 6,
      "outputs": []
    },
    {
      "cell_type": "code",
      "execution_count": 18,
      "id": "9fac64f7",
      "metadata": {
        "id": "9fac64f7",
        "colab": {
          "base_uri": "https://localhost:8080/",
          "height": 374
        },
        "outputId": "3535c89b-a1d6-468c-908f-f1dbdeea4922"
      },
      "outputs": [
        {
          "output_type": "error",
          "ename": "KeyboardInterrupt",
          "evalue": "Interrupted by user",
          "traceback": [
            "\u001b[0;31m---------------------------------------------------------------------------\u001b[0m",
            "\u001b[0;31mKeyboardInterrupt\u001b[0m                         Traceback (most recent call last)",
            "\u001b[0;32m<ipython-input-18-4bc75b29c6da>\u001b[0m in \u001b[0;36m<cell line: 5>\u001b[0;34m()\u001b[0m\n\u001b[1;32m      3\u001b[0m '''\n\u001b[1;32m      4\u001b[0m \u001b[0mmonedas\u001b[0m \u001b[0;34m=\u001b[0m \u001b[0;34m[\u001b[0m\u001b[0;36m500\u001b[0m\u001b[0;34m,\u001b[0m \u001b[0;36m400\u001b[0m\u001b[0;34m,\u001b[0m \u001b[0;36m100\u001b[0m\u001b[0;34m,\u001b[0m \u001b[0;36m50\u001b[0m\u001b[0;34m,\u001b[0m \u001b[0;36m10\u001b[0m\u001b[0;34m]\u001b[0m\u001b[0;34m\u001b[0m\u001b[0;34m\u001b[0m\u001b[0m\n\u001b[0;32m----> 5\u001b[0;31m \u001b[0mcant\u001b[0m \u001b[0;34m=\u001b[0m \u001b[0mint\u001b[0m\u001b[0;34m(\u001b[0m\u001b[0minput\u001b[0m\u001b[0;34m(\u001b[0m\u001b[0;34m\"Introduzca monto: \"\u001b[0m\u001b[0;34m)\u001b[0m\u001b[0;34m)\u001b[0m \u001b[0;31m# 800\u001b[0m\u001b[0;34m\u001b[0m\u001b[0;34m\u001b[0m\u001b[0m\n\u001b[0m\u001b[1;32m      6\u001b[0m \u001b[0mcambios\u001b[0m \u001b[0;34m=\u001b[0m \u001b[0mcambio_moneda\u001b[0m\u001b[0;34m(\u001b[0m\u001b[0mmonedas\u001b[0m\u001b[0;34m,\u001b[0m \u001b[0mcant\u001b[0m\u001b[0;34m)\u001b[0m\u001b[0;34m\u001b[0m\u001b[0;34m\u001b[0m\u001b[0m\n\u001b[1;32m      7\u001b[0m \u001b[0mprint\u001b[0m\u001b[0;34m(\u001b[0m\u001b[0mcambios\u001b[0m\u001b[0;34m,\u001b[0m \u001b[0mlen\u001b[0m\u001b[0;34m(\u001b[0m\u001b[0mcambios\u001b[0m\u001b[0;34m)\u001b[0m\u001b[0;34m)\u001b[0m\u001b[0;34m\u001b[0m\u001b[0;34m\u001b[0m\u001b[0m\n",
            "\u001b[0;32m/usr/local/lib/python3.10/dist-packages/ipykernel/kernelbase.py\u001b[0m in \u001b[0;36mraw_input\u001b[0;34m(self, prompt)\u001b[0m\n\u001b[1;32m    849\u001b[0m                 \u001b[0;34m\"raw_input was called, but this frontend does not support input requests.\"\u001b[0m\u001b[0;34m\u001b[0m\u001b[0;34m\u001b[0m\u001b[0m\n\u001b[1;32m    850\u001b[0m             )\n\u001b[0;32m--> 851\u001b[0;31m         return self._input_request(str(prompt),\n\u001b[0m\u001b[1;32m    852\u001b[0m             \u001b[0mself\u001b[0m\u001b[0;34m.\u001b[0m\u001b[0m_parent_ident\u001b[0m\u001b[0;34m,\u001b[0m\u001b[0;34m\u001b[0m\u001b[0;34m\u001b[0m\u001b[0m\n\u001b[1;32m    853\u001b[0m             \u001b[0mself\u001b[0m\u001b[0;34m.\u001b[0m\u001b[0m_parent_header\u001b[0m\u001b[0;34m,\u001b[0m\u001b[0;34m\u001b[0m\u001b[0;34m\u001b[0m\u001b[0m\n",
            "\u001b[0;32m/usr/local/lib/python3.10/dist-packages/ipykernel/kernelbase.py\u001b[0m in \u001b[0;36m_input_request\u001b[0;34m(self, prompt, ident, parent, password)\u001b[0m\n\u001b[1;32m    893\u001b[0m             \u001b[0;32mexcept\u001b[0m \u001b[0mKeyboardInterrupt\u001b[0m\u001b[0;34m:\u001b[0m\u001b[0;34m\u001b[0m\u001b[0;34m\u001b[0m\u001b[0m\n\u001b[1;32m    894\u001b[0m                 \u001b[0;31m# re-raise KeyboardInterrupt, to truncate traceback\u001b[0m\u001b[0;34m\u001b[0m\u001b[0;34m\u001b[0m\u001b[0m\n\u001b[0;32m--> 895\u001b[0;31m                 \u001b[0;32mraise\u001b[0m \u001b[0mKeyboardInterrupt\u001b[0m\u001b[0;34m(\u001b[0m\u001b[0;34m\"Interrupted by user\"\u001b[0m\u001b[0;34m)\u001b[0m \u001b[0;32mfrom\u001b[0m \u001b[0;32mNone\u001b[0m\u001b[0;34m\u001b[0m\u001b[0;34m\u001b[0m\u001b[0m\n\u001b[0m\u001b[1;32m    896\u001b[0m             \u001b[0;32mexcept\u001b[0m \u001b[0mException\u001b[0m \u001b[0;32mas\u001b[0m \u001b[0me\u001b[0m\u001b[0;34m:\u001b[0m\u001b[0;34m\u001b[0m\u001b[0;34m\u001b[0m\u001b[0m\n\u001b[1;32m    897\u001b[0m                 \u001b[0mself\u001b[0m\u001b[0;34m.\u001b[0m\u001b[0mlog\u001b[0m\u001b[0;34m.\u001b[0m\u001b[0mwarning\u001b[0m\u001b[0;34m(\u001b[0m\u001b[0;34m\"Invalid Message:\"\u001b[0m\u001b[0;34m,\u001b[0m \u001b[0mexc_info\u001b[0m\u001b[0;34m=\u001b[0m\u001b[0;32mTrue\u001b[0m\u001b[0;34m)\u001b[0m\u001b[0;34m\u001b[0m\u001b[0;34m\u001b[0m\u001b[0m\n",
            "\u001b[0;31mKeyboardInterrupt\u001b[0m: Interrupted by user"
          ]
        }
      ],
      "source": [
        "''' Problema: Suponga que existe una moneda de 400, escriba el resultado de \"cambio_moneda\"\n",
        "                en caso de que el usuario requiera un cambio de 800.\n",
        "'''\n",
        "monedas = [500, 400, 100, 50, 10]\n",
        "cant = int(input(\"Introduzca monto: \")) # 800\n",
        "cambios = cambio_moneda(monedas, cant)\n",
        "print(cambios, len(cambios))"
      ]
    },
    {
      "cell_type": "code",
      "source": [
        "''' ¿Qué sucede si la cantidad de monedas para el cambio es limitada?\n",
        " Ejem: Se tiene almacenado para el cambio la siguiente cantidad; 1 de 500w, 1 de 100w,\n",
        "        3 de 50w y 2 de 10w.\n",
        "    - ¿ Cómo se debe distribuir 710 para el cambio ?\n",
        "'''\n",
        "monedas = list(map(int, input(\"Ingrese las monedas almacenadas: \").split()))\n",
        "monedas.sort(reverse = True)\n",
        "print(monedas)\n",
        "cant = int(input(\"Introduzca monto: \")) # 710\n",
        "cambios = cambio_moneda2(monedas, cant) ### Desarrollar función\n",
        "print(cambios, len(cambios))"
      ],
      "metadata": {
        "id": "jcX-BRyDyWTn",
        "colab": {
          "base_uri": "https://localhost:8080/",
          "height": 374
        },
        "outputId": "48389ae9-af96-4eb9-92d7-64b24ed3f8e1"
      },
      "id": "jcX-BRyDyWTn",
      "execution_count": 19,
      "outputs": [
        {
          "output_type": "error",
          "ename": "KeyboardInterrupt",
          "evalue": "Interrupted by user",
          "traceback": [
            "\u001b[0;31m---------------------------------------------------------------------------\u001b[0m",
            "\u001b[0;31mKeyboardInterrupt\u001b[0m                         Traceback (most recent call last)",
            "\u001b[0;32m<ipython-input-19-0599c522c49c>\u001b[0m in \u001b[0;36m<cell line: 6>\u001b[0;34m()\u001b[0m\n\u001b[1;32m      4\u001b[0m     \u001b[0;34m-\u001b[0m\u001b[0;31m \u001b[0m\u001b[0;31m¿\u001b[0m \u001b[0mCómo\u001b[0m \u001b[0mse\u001b[0m \u001b[0mdebe\u001b[0m \u001b[0mdistribuir\u001b[0m \u001b[0;36m710\u001b[0m \u001b[0mpara\u001b[0m \u001b[0mel\u001b[0m \u001b[0mcambio\u001b[0m\u001b[0;31m \u001b[0m\u001b[0;31m?\u001b[0m\u001b[0;34m\u001b[0m\u001b[0;34m\u001b[0m\u001b[0m\n\u001b[1;32m      5\u001b[0m '''\n\u001b[0;32m----> 6\u001b[0;31m \u001b[0mmonedas\u001b[0m \u001b[0;34m=\u001b[0m \u001b[0mlist\u001b[0m\u001b[0;34m(\u001b[0m\u001b[0mmap\u001b[0m\u001b[0;34m(\u001b[0m\u001b[0mint\u001b[0m\u001b[0;34m,\u001b[0m \u001b[0minput\u001b[0m\u001b[0;34m(\u001b[0m\u001b[0;34m\"Ingrese las monedas almacenadas: \"\u001b[0m\u001b[0;34m)\u001b[0m\u001b[0;34m.\u001b[0m\u001b[0msplit\u001b[0m\u001b[0;34m(\u001b[0m\u001b[0;34m)\u001b[0m\u001b[0;34m)\u001b[0m\u001b[0;34m)\u001b[0m\u001b[0;34m\u001b[0m\u001b[0;34m\u001b[0m\u001b[0m\n\u001b[0m\u001b[1;32m      7\u001b[0m \u001b[0mmonedas\u001b[0m\u001b[0;34m.\u001b[0m\u001b[0msort\u001b[0m\u001b[0;34m(\u001b[0m\u001b[0mreverse\u001b[0m \u001b[0;34m=\u001b[0m \u001b[0;32mTrue\u001b[0m\u001b[0;34m)\u001b[0m\u001b[0;34m\u001b[0m\u001b[0;34m\u001b[0m\u001b[0m\n\u001b[1;32m      8\u001b[0m \u001b[0mprint\u001b[0m\u001b[0;34m(\u001b[0m\u001b[0mmonedas\u001b[0m\u001b[0;34m)\u001b[0m\u001b[0;34m\u001b[0m\u001b[0;34m\u001b[0m\u001b[0m\n",
            "\u001b[0;32m/usr/local/lib/python3.10/dist-packages/ipykernel/kernelbase.py\u001b[0m in \u001b[0;36mraw_input\u001b[0;34m(self, prompt)\u001b[0m\n\u001b[1;32m    849\u001b[0m                 \u001b[0;34m\"raw_input was called, but this frontend does not support input requests.\"\u001b[0m\u001b[0;34m\u001b[0m\u001b[0;34m\u001b[0m\u001b[0m\n\u001b[1;32m    850\u001b[0m             )\n\u001b[0;32m--> 851\u001b[0;31m         return self._input_request(str(prompt),\n\u001b[0m\u001b[1;32m    852\u001b[0m             \u001b[0mself\u001b[0m\u001b[0;34m.\u001b[0m\u001b[0m_parent_ident\u001b[0m\u001b[0;34m,\u001b[0m\u001b[0;34m\u001b[0m\u001b[0;34m\u001b[0m\u001b[0m\n\u001b[1;32m    853\u001b[0m             \u001b[0mself\u001b[0m\u001b[0;34m.\u001b[0m\u001b[0m_parent_header\u001b[0m\u001b[0;34m,\u001b[0m\u001b[0;34m\u001b[0m\u001b[0;34m\u001b[0m\u001b[0m\n",
            "\u001b[0;32m/usr/local/lib/python3.10/dist-packages/ipykernel/kernelbase.py\u001b[0m in \u001b[0;36m_input_request\u001b[0;34m(self, prompt, ident, parent, password)\u001b[0m\n\u001b[1;32m    893\u001b[0m             \u001b[0;32mexcept\u001b[0m \u001b[0mKeyboardInterrupt\u001b[0m\u001b[0;34m:\u001b[0m\u001b[0;34m\u001b[0m\u001b[0;34m\u001b[0m\u001b[0m\n\u001b[1;32m    894\u001b[0m                 \u001b[0;31m# re-raise KeyboardInterrupt, to truncate traceback\u001b[0m\u001b[0;34m\u001b[0m\u001b[0;34m\u001b[0m\u001b[0m\n\u001b[0;32m--> 895\u001b[0;31m                 \u001b[0;32mraise\u001b[0m \u001b[0mKeyboardInterrupt\u001b[0m\u001b[0;34m(\u001b[0m\u001b[0;34m\"Interrupted by user\"\u001b[0m\u001b[0;34m)\u001b[0m \u001b[0;32mfrom\u001b[0m \u001b[0;32mNone\u001b[0m\u001b[0;34m\u001b[0m\u001b[0;34m\u001b[0m\u001b[0m\n\u001b[0m\u001b[1;32m    896\u001b[0m             \u001b[0;32mexcept\u001b[0m \u001b[0mException\u001b[0m \u001b[0;32mas\u001b[0m \u001b[0me\u001b[0m\u001b[0;34m:\u001b[0m\u001b[0;34m\u001b[0m\u001b[0;34m\u001b[0m\u001b[0m\n\u001b[1;32m    897\u001b[0m                 \u001b[0mself\u001b[0m\u001b[0;34m.\u001b[0m\u001b[0mlog\u001b[0m\u001b[0;34m.\u001b[0m\u001b[0mwarning\u001b[0m\u001b[0;34m(\u001b[0m\u001b[0;34m\"Invalid Message:\"\u001b[0m\u001b[0;34m,\u001b[0m \u001b[0mexc_info\u001b[0m\u001b[0;34m=\u001b[0m\u001b[0;32mTrue\u001b[0m\u001b[0;34m)\u001b[0m\u001b[0;34m\u001b[0m\u001b[0;34m\u001b[0m\u001b[0m\n",
            "\u001b[0;31mKeyboardInterrupt\u001b[0m: Interrupted by user"
          ]
        }
      ]
    },
    {
      "cell_type": "markdown",
      "source": [
        "##### Problema de selección de actividades\n",
        "\n",
        "Diap. 33"
      ],
      "metadata": {
        "id": "QFtzYEcUaLy2"
      },
      "id": "QFtzYEcUaLy2"
    },
    {
      "cell_type": "code",
      "source": [
        "ini = [1, 3, 2, 0, 5, 8, 5]\n",
        "fin = [2, 4, 5, 6, 6, 9, 9]\n",
        "reuniones = selec_act1(ini, fin)\n",
        "max = len(reuniones)\n",
        "print(reuniones, max)"
      ],
      "metadata": {
        "id": "HpHoXPfXaP3C",
        "colab": {
          "base_uri": "https://localhost:8080/"
        },
        "outputId": "f03980e3-6aa8-40a2-d9a2-7cd32f500059"
      },
      "id": "HpHoXPfXaP3C",
      "execution_count": 8,
      "outputs": [
        {
          "output_type": "stream",
          "name": "stdout",
          "text": [
            "[0, 1, 4, 5] 4\n"
          ]
        }
      ]
    },
    {
      "cell_type": "code",
      "source": [
        "def selec_act1 (ini, fin):\n",
        "    result = [] # [0, 1, 4, 5]\n",
        "    i = 0 # 4\n",
        "    result.append(i)  # Agregar 1er elemento a lista\n",
        "    for j in range(1, len(ini)):\n",
        "        if fin[i] <= ini[j]: # Viabilidad, es factible agregar elemento?\n",
        "            result.append(j) # Agregar elemento comprobado\n",
        "            i = j\n",
        "    return result"
      ],
      "metadata": {
        "id": "Iqzt_aDra7mg"
      },
      "id": "Iqzt_aDra7mg",
      "execution_count": 7,
      "outputs": []
    },
    {
      "cell_type": "markdown",
      "source": [
        "### Unidad 31. Divide y vencerás"
      ],
      "metadata": {
        "id": "i5-oOg0xZDaS"
      },
      "id": "i5-oOg0xZDaS"
    },
    {
      "cell_type": "markdown",
      "source": [
        "#### Divide y venceras\n",
        "\n",
        "Dividimos un problemas en 2 o más instancias pequeñas, hasta encontrar la solución e integrarla a la instancia de entrada original.\n",
        "\n",
        "3 pasos:\n",
        "- Divide; en dos o más instancias.\n",
        "- Conquista; se usa recursividad con el fin de conseguir la solución.\n",
        "- Combinar; retorne el resultado hasta la llamada principal."
      ],
      "metadata": {
        "id": "D0aau83h0tO9"
      },
      "id": "D0aau83h0tO9"
    },
    {
      "cell_type": "markdown",
      "source": [
        "¿ En que algoritmos hemos visto el método de divide y venceras ?, diap. 63\n",
        "\n",
        "- Busqueda binaria\n",
        "- Merge sort\n",
        "- Quick sort"
      ],
      "metadata": {
        "id": "aNJV2pAO-aa7"
      },
      "id": "aNJV2pAO-aa7"
    },
    {
      "cell_type": "markdown",
      "source": [
        "- Búsq. Binaria"
      ],
      "metadata": {
        "id": "xjwxyBf2AlEd"
      },
      "id": "xjwxyBf2AlEd"
    },
    {
      "cell_type": "code",
      "source": [
        "def busqueda_binaria1(nums, x):\n",
        "    bajo = 0 # Indice inferior de la estructura\n",
        "    alto = len(nums) - 1 # Indice superior de la estructura\n",
        "    while bajo <= alto:\n",
        "        med = (bajo + alto) // 2 # Indice Medio\n",
        "        print(bajo, alto, '|', med)\n",
        "        if nums[med] == x:\n",
        "            return med\n",
        "        elif nums[med] > x:\n",
        "            alto = med - 1\n",
        "        else:\n",
        "            bajo = med + 1\n",
        "    return -1"
      ],
      "metadata": {
        "id": "apdl9CJ096q0"
      },
      "id": "apdl9CJ096q0",
      "execution_count": 9,
      "outputs": []
    },
    {
      "cell_type": "code",
      "source": [
        "# Recursividad\n",
        "\n",
        "def busq_bin2(nums, x, menor, mayor):\n",
        "    if menor > mayor:\n",
        "        return -1\n",
        "    else:\n",
        "        med = (menor + mayor) // 2 # Indice Medio\n",
        "        print(menor, mayor, '|', med)\n",
        "        if nums[med] == x:\n",
        "            return med\n",
        "        elif nums[med] > x:\n",
        "            return busq_bin2(nums, x, menor, med - 1)\n",
        "        else:\n",
        "            return busq_bin2(nums, x, med + 1, mayor)"
      ],
      "metadata": {
        "id": "PfNKzkvBAsqd"
      },
      "id": "PfNKzkvBAsqd",
      "execution_count": 14,
      "outputs": []
    },
    {
      "cell_type": "code",
      "source": [
        "# x=81, m = 0, M = 9, med = 4, return 8\n",
        "# x=81, m = 5, M = 9, med = 7, return 8\n",
        "# x=81, m = 8, M = 9, med = 8\n",
        "#    0   1   2   3   4    5   6   7  8    9\n",
        "S = [11, 17, 26, 28, 37, 45, 53, 59, 81, 72]\n",
        "x = int(input(\"Diga el número a buscar: \")) # 81\n",
        "pos = busq_bin2(S, x, 0, len(S)-1)\n",
        "print(f\"En S, {x} esta en la posicion {pos}.\")"
      ],
      "metadata": {
        "colab": {
          "base_uri": "https://localhost:8080/"
        },
        "id": "IDFbY1fk7lzc",
        "outputId": "422749e5-5f89-4bd5-b118-3e3b4eda2330"
      },
      "id": "IDFbY1fk7lzc",
      "execution_count": 15,
      "outputs": [
        {
          "output_type": "stream",
          "name": "stdout",
          "text": [
            "Diga el número a buscar: 81\n",
            "0 9 | 4\n",
            "5 9 | 7\n",
            "8 9 | 8\n",
            "En S, 81 esta en la posicion 8.\n"
          ]
        }
      ]
    },
    {
      "cell_type": "markdown",
      "source": [
        "- Ruta mínima del triangulo ó Problema de trayectoria triangular\n",
        "\n",
        "Suma de los caminos mínimos"
      ],
      "metadata": {
        "id": "X5EFHpoc5wT4"
      },
      "id": "X5EFHpoc5wT4"
    },
    {
      "cell_type": "code",
      "source": [
        "triangulo = [\n",
        "    [2],\n",
        "    [3,4],\n",
        "    [6,5,7],\n",
        "    [4,1,8,3]\n",
        "]\n",
        "print(len(triangulo))\n",
        "min = find_min(0, 0, triangulo)\n",
        "print(\"El costo mínimo es: \", min)"
      ],
      "metadata": {
        "id": "AkTyVDb90rWy",
        "colab": {
          "base_uri": "https://localhost:8080/"
        },
        "outputId": "be4857c8-a51c-47ae-ff74-c4f221711f0e"
      },
      "id": "AkTyVDb90rWy",
      "execution_count": 16,
      "outputs": [
        {
          "output_type": "stream",
          "name": "stdout",
          "text": [
            "4\n"
          ]
        }
      ]
    },
    {
      "cell_type": "code",
      "source": [
        "def find_min(fil, col, tri):\n",
        "    if fil == len(tri):\n",
        "        return 0\n",
        "    else:\n",
        "        minimo = min(find_min(fil + 1, col, tri),\n",
        "                     find_min(fil + 1, col +1, tri))\n",
        "        return tri[fil][col] + minimo"
      ],
      "metadata": {
        "id": "NoeKz2y66NwH"
      },
      "id": "NoeKz2y66NwH",
      "execution_count": 17,
      "outputs": []
    },
    {
      "cell_type": "markdown",
      "source": [
        "Unidad 32. Programación dinámica\n",
        "Unidad 33. Backtracking"
      ],
      "metadata": {
        "id": "_MF26q9t0pvc"
      },
      "id": "_MF26q9t0pvc"
    },
    {
      "cell_type": "code",
      "source": [],
      "metadata": {
        "id": "okcpbNdu0iAQ"
      },
      "id": "okcpbNdu0iAQ",
      "execution_count": null,
      "outputs": []
    }
  ],
  "metadata": {
    "kernelspec": {
      "display_name": "Python 3 (ipykernel)",
      "language": "python",
      "name": "python3"
    },
    "language_info": {
      "codemirror_mode": {
        "name": "ipython",
        "version": 3
      },
      "file_extension": ".py",
      "mimetype": "text/x-python",
      "name": "python",
      "nbconvert_exporter": "python",
      "pygments_lexer": "ipython3",
      "version": "3.10.12"
    },
    "colab": {
      "provenance": []
    }
  },
  "nbformat": 4,
  "nbformat_minor": 5
}